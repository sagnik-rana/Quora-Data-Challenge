{
 "cells": [
  {
   "cell_type": "markdown",
   "metadata": {},
   "source": [
    "### Quora Data Challenge"
   ]
  },
  {
   "cell_type": "code",
   "execution_count": 88,
   "metadata": {},
   "outputs": [
    {
     "data": {
      "text/html": [
       "        <script type=\"text/javascript\">\n",
       "        window.PlotlyConfig = {MathJaxConfig: 'local'};\n",
       "        if (window.MathJax) {MathJax.Hub.Config({SVG: {font: \"STIX-Web\"}});}\n",
       "        if (typeof require !== 'undefined') {\n",
       "        require.undef(\"plotly\");\n",
       "        requirejs.config({\n",
       "            paths: {\n",
       "                'plotly': ['https://cdn.plot.ly/plotly-latest.min']\n",
       "            }\n",
       "        });\n",
       "        require(['plotly'], function(Plotly) {\n",
       "            window._Plotly = Plotly;\n",
       "        });\n",
       "        }\n",
       "        </script>\n",
       "        "
      ]
     },
     "metadata": {},
     "output_type": "display_data"
    },
    {
     "data": {
      "text/plain": [
       "<Figure size 800x640 with 0 Axes>"
      ]
     },
     "metadata": {},
     "output_type": "display_data"
    }
   ],
   "source": [
    "import io\n",
    "import numpy as np\n",
    "import pandas as pd\n",
    "import pandasql as ps\n",
    "import plotly.tools as tls\n",
    "import plotly.offline as py\n",
    "import pandas_profiling as pp\n",
    "import plotly.graph_objs as go\n",
    "import matplotlib.pyplot as plt\n",
    "import plotly.figure_factory as ff\n",
    "py.init_notebook_mode(connected=True)\n",
    "pd.set_option('display.max_columns', None)\n",
    "from matplotlib.pyplot import figure\n",
    "figure(num=None, figsize=(10, 8), dpi=80, facecolor='w', edgecolor='k')\n",
    "plt.style.use('ggplot')\n",
    "pd.set_option('display.max_rows', None)\n",
    "import seaborn as sns\n",
    "\n",
    "import statsmodels.api as sm\n",
    "from sklearn.model_selection import KFold\n",
    "from sklearn.metrics import mean_squared_log_error\n",
    "from sklearn.model_selection import train_test_split\n",
    "from sklearn.linear_model import Ridge, RidgeCV, LassoCV, ElasticNet"
   ]
  },
  {
   "cell_type": "markdown",
   "metadata": {},
   "source": [
    "Suppose you are a Data Scientist on the Mobile team at Quora.<br>The team has just introduced a new UI design to the Quora app.<br>The goal of the new design is to increase user engagement (measured by minutes spent on site). <br>The team ran an A/B test to evaluate the change.<br> Using the data, help the team understand the impact of the UI change better.\n",
    "\n",
    "Tables provided are as follows:\n",
    "    1. t1_user_active_min.csv\n",
    "    2. t2_user_variant.csv\n",
    "    3. t3_user_active_min_pre.csv\n",
    "    4. t4_user_attributes.csv"
   ]
  },
  {
   "cell_type": "code",
   "execution_count": 89,
   "metadata": {},
   "outputs": [],
   "source": [
    "def build_dist(df,df1,col,col1,xlabelvalue,label1,label2):\n",
    "    sns.distplot(df[col], hist=False, label = label1, axlabel = xlabelvalue)\n",
    "    sns.distplot(df1[col1], hist=False, label = label2, axlabel = xlabelvalue)\n",
    "    plt.show()"
   ]
  },
  {
   "cell_type": "code",
   "execution_count": 90,
   "metadata": {},
   "outputs": [],
   "source": [
    "# reading the data sets\n",
    "t1_user_active_min     = pd.read_csv(\"t1_user_active_min.csv\")\n",
    "t2_user_variant        = pd.read_csv(\"t2_user_variant.csv\")\n",
    "t3_user_active_min_pre = pd.read_csv(\"t3_user_active_min_pre.csv\")\n",
    "t4_user_attributes     = pd.read_csv(\"t4_user_attributes.csv\")\n",
    "df_list = [t1_user_active_min,t2_user_variant,t3_user_active_min_pre,t4_user_attributes]"
   ]
  },
  {
   "cell_type": "code",
   "execution_count": 91,
   "metadata": {},
   "outputs": [
    {
     "data": {
      "text/html": [
       "<div>\n",
       "<style scoped>\n",
       "    .dataframe tbody tr th:only-of-type {\n",
       "        vertical-align: middle;\n",
       "    }\n",
       "\n",
       "    .dataframe tbody tr th {\n",
       "        vertical-align: top;\n",
       "    }\n",
       "\n",
       "    .dataframe thead th {\n",
       "        text-align: right;\n",
       "    }\n",
       "</style>\n",
       "<table border=\"1\" class=\"dataframe\">\n",
       "  <thead>\n",
       "    <tr style=\"text-align: right;\">\n",
       "      <th></th>\n",
       "      <th>uid</th>\n",
       "      <th>dt</th>\n",
       "      <th>active_mins</th>\n",
       "    </tr>\n",
       "  </thead>\n",
       "  <tbody>\n",
       "    <tr>\n",
       "      <td>0</td>\n",
       "      <td>0</td>\n",
       "      <td>2019-02-22</td>\n",
       "      <td>5.0</td>\n",
       "    </tr>\n",
       "    <tr>\n",
       "      <td>1</td>\n",
       "      <td>0</td>\n",
       "      <td>2019-03-11</td>\n",
       "      <td>5.0</td>\n",
       "    </tr>\n",
       "    <tr>\n",
       "      <td>2</td>\n",
       "      <td>0</td>\n",
       "      <td>2019-03-18</td>\n",
       "      <td>3.0</td>\n",
       "    </tr>\n",
       "    <tr>\n",
       "      <td>3</td>\n",
       "      <td>0</td>\n",
       "      <td>2019-03-22</td>\n",
       "      <td>4.0</td>\n",
       "    </tr>\n",
       "    <tr>\n",
       "      <td>4</td>\n",
       "      <td>0</td>\n",
       "      <td>2019-04-03</td>\n",
       "      <td>9.0</td>\n",
       "    </tr>\n",
       "  </tbody>\n",
       "</table>\n",
       "</div>"
      ],
      "text/plain": [
       "   uid          dt  active_mins\n",
       "0    0  2019-02-22          5.0\n",
       "1    0  2019-03-11          5.0\n",
       "2    0  2019-03-18          3.0\n",
       "3    0  2019-03-22          4.0\n",
       "4    0  2019-04-03          9.0"
      ]
     },
     "execution_count": 91,
     "metadata": {},
     "output_type": "execute_result"
    }
   ],
   "source": [
    "t1_user_active_min.head()"
   ]
  },
  {
   "cell_type": "code",
   "execution_count": 92,
   "metadata": {},
   "outputs": [
    {
     "data": {
      "text/html": [
       "<div>\n",
       "<style scoped>\n",
       "    .dataframe tbody tr th:only-of-type {\n",
       "        vertical-align: middle;\n",
       "    }\n",
       "\n",
       "    .dataframe tbody tr th {\n",
       "        vertical-align: top;\n",
       "    }\n",
       "\n",
       "    .dataframe thead th {\n",
       "        text-align: right;\n",
       "    }\n",
       "</style>\n",
       "<table border=\"1\" class=\"dataframe\">\n",
       "  <thead>\n",
       "    <tr style=\"text-align: right;\">\n",
       "      <th></th>\n",
       "      <th>uid</th>\n",
       "      <th>variant_number</th>\n",
       "      <th>dt</th>\n",
       "      <th>signup_date</th>\n",
       "    </tr>\n",
       "  </thead>\n",
       "  <tbody>\n",
       "    <tr>\n",
       "      <td>0</td>\n",
       "      <td>0</td>\n",
       "      <td>0</td>\n",
       "      <td>2019-02-06</td>\n",
       "      <td>2018-09-24</td>\n",
       "    </tr>\n",
       "    <tr>\n",
       "      <td>1</td>\n",
       "      <td>1</td>\n",
       "      <td>0</td>\n",
       "      <td>2019-02-06</td>\n",
       "      <td>2016-11-07</td>\n",
       "    </tr>\n",
       "    <tr>\n",
       "      <td>2</td>\n",
       "      <td>2</td>\n",
       "      <td>0</td>\n",
       "      <td>2019-02-06</td>\n",
       "      <td>2018-09-17</td>\n",
       "    </tr>\n",
       "    <tr>\n",
       "      <td>3</td>\n",
       "      <td>3</td>\n",
       "      <td>0</td>\n",
       "      <td>2019-02-06</td>\n",
       "      <td>2018-03-04</td>\n",
       "    </tr>\n",
       "    <tr>\n",
       "      <td>4</td>\n",
       "      <td>4</td>\n",
       "      <td>0</td>\n",
       "      <td>2019-02-06</td>\n",
       "      <td>2017-03-09</td>\n",
       "    </tr>\n",
       "  </tbody>\n",
       "</table>\n",
       "</div>"
      ],
      "text/plain": [
       "   uid  variant_number          dt signup_date\n",
       "0    0               0  2019-02-06  2018-09-24\n",
       "1    1               0  2019-02-06  2016-11-07\n",
       "2    2               0  2019-02-06  2018-09-17\n",
       "3    3               0  2019-02-06  2018-03-04\n",
       "4    4               0  2019-02-06  2017-03-09"
      ]
     },
     "execution_count": 92,
     "metadata": {},
     "output_type": "execute_result"
    }
   ],
   "source": [
    "t2_user_variant.head()"
   ]
  },
  {
   "cell_type": "code",
   "execution_count": 93,
   "metadata": {},
   "outputs": [
    {
     "data": {
      "text/plain": [
       "0    40000\n",
       "1    10000\n",
       "Name: variant_number, dtype: int64"
      ]
     },
     "execution_count": 93,
     "metadata": {},
     "output_type": "execute_result"
    }
   ],
   "source": [
    "t2_user_variant['variant_number'].value_counts()"
   ]
  },
  {
   "cell_type": "markdown",
   "metadata": {},
   "source": [
    "People in control group: 80 percent <br>\n",
    "People in treatment group: 20 percent"
   ]
  },
  {
   "cell_type": "code",
   "execution_count": 94,
   "metadata": {},
   "outputs": [],
   "source": [
    "user_control = []\n",
    "user_treatment = []\n",
    "for index,row in t2_user_variant.iterrows():\n",
    "    if row['variant_number'] == 0:\n",
    "        user_control.append(row['uid'])\n",
    "    else:\n",
    "        user_treatment.append(row['uid'])"
   ]
  },
  {
   "cell_type": "code",
   "execution_count": 95,
   "metadata": {},
   "outputs": [
    {
     "data": {
      "text/html": [
       "<div>\n",
       "<style scoped>\n",
       "    .dataframe tbody tr th:only-of-type {\n",
       "        vertical-align: middle;\n",
       "    }\n",
       "\n",
       "    .dataframe tbody tr th {\n",
       "        vertical-align: top;\n",
       "    }\n",
       "\n",
       "    .dataframe thead th {\n",
       "        text-align: right;\n",
       "    }\n",
       "</style>\n",
       "<table border=\"1\" class=\"dataframe\">\n",
       "  <thead>\n",
       "    <tr style=\"text-align: right;\">\n",
       "      <th></th>\n",
       "      <th>uid</th>\n",
       "      <th>dt</th>\n",
       "      <th>active_mins</th>\n",
       "    </tr>\n",
       "  </thead>\n",
       "  <tbody>\n",
       "    <tr>\n",
       "      <td>0</td>\n",
       "      <td>0</td>\n",
       "      <td>2018-09-24</td>\n",
       "      <td>3.0</td>\n",
       "    </tr>\n",
       "    <tr>\n",
       "      <td>1</td>\n",
       "      <td>0</td>\n",
       "      <td>2018-11-08</td>\n",
       "      <td>4.0</td>\n",
       "    </tr>\n",
       "    <tr>\n",
       "      <td>2</td>\n",
       "      <td>0</td>\n",
       "      <td>2018-11-24</td>\n",
       "      <td>3.0</td>\n",
       "    </tr>\n",
       "    <tr>\n",
       "      <td>3</td>\n",
       "      <td>0</td>\n",
       "      <td>2018-11-28</td>\n",
       "      <td>6.0</td>\n",
       "    </tr>\n",
       "    <tr>\n",
       "      <td>4</td>\n",
       "      <td>0</td>\n",
       "      <td>2018-12-02</td>\n",
       "      <td>6.0</td>\n",
       "    </tr>\n",
       "  </tbody>\n",
       "</table>\n",
       "</div>"
      ],
      "text/plain": [
       "   uid          dt  active_mins\n",
       "0    0  2018-09-24          3.0\n",
       "1    0  2018-11-08          4.0\n",
       "2    0  2018-11-24          3.0\n",
       "3    0  2018-11-28          6.0\n",
       "4    0  2018-12-02          6.0"
      ]
     },
     "execution_count": 95,
     "metadata": {},
     "output_type": "execute_result"
    }
   ],
   "source": [
    "t3_user_active_min_pre.head()"
   ]
  },
  {
   "cell_type": "code",
   "execution_count": 96,
   "metadata": {},
   "outputs": [
    {
     "data": {
      "text/html": [
       "<div>\n",
       "<style scoped>\n",
       "    .dataframe tbody tr th:only-of-type {\n",
       "        vertical-align: middle;\n",
       "    }\n",
       "\n",
       "    .dataframe tbody tr th {\n",
       "        vertical-align: top;\n",
       "    }\n",
       "\n",
       "    .dataframe thead th {\n",
       "        text-align: right;\n",
       "    }\n",
       "</style>\n",
       "<table border=\"1\" class=\"dataframe\">\n",
       "  <thead>\n",
       "    <tr style=\"text-align: right;\">\n",
       "      <th></th>\n",
       "      <th>uid</th>\n",
       "      <th>gender</th>\n",
       "      <th>user_type</th>\n",
       "    </tr>\n",
       "  </thead>\n",
       "  <tbody>\n",
       "    <tr>\n",
       "      <td>0</td>\n",
       "      <td>0</td>\n",
       "      <td>male</td>\n",
       "      <td>non_reader</td>\n",
       "    </tr>\n",
       "    <tr>\n",
       "      <td>1</td>\n",
       "      <td>1</td>\n",
       "      <td>male</td>\n",
       "      <td>reader</td>\n",
       "    </tr>\n",
       "    <tr>\n",
       "      <td>2</td>\n",
       "      <td>2</td>\n",
       "      <td>male</td>\n",
       "      <td>non_reader</td>\n",
       "    </tr>\n",
       "    <tr>\n",
       "      <td>3</td>\n",
       "      <td>3</td>\n",
       "      <td>male</td>\n",
       "      <td>non_reader</td>\n",
       "    </tr>\n",
       "    <tr>\n",
       "      <td>4</td>\n",
       "      <td>4</td>\n",
       "      <td>male</td>\n",
       "      <td>non_reader</td>\n",
       "    </tr>\n",
       "  </tbody>\n",
       "</table>\n",
       "</div>"
      ],
      "text/plain": [
       "   uid gender   user_type\n",
       "0    0   male  non_reader\n",
       "1    1   male      reader\n",
       "2    2   male  non_reader\n",
       "3    3   male  non_reader\n",
       "4    4   male  non_reader"
      ]
     },
     "execution_count": 96,
     "metadata": {},
     "output_type": "execute_result"
    }
   ],
   "source": [
    "t4_user_attributes.head()"
   ]
  },
  {
   "cell_type": "markdown",
   "metadata": {},
   "source": [
    "### Hypothesis:\n",
    "1. The AB Testing is intended to increase the user engagement in terms of time.\n",
    "2. Randomized people are used to divide into control and treatment groups.\n",
    "\n",
    "### KPI for AB Test to look for between treatment and control group:\n",
    "1. Active time        - increased/ decreased\n",
    "2. Frequency of visit - increased/decreased\n",
    "3. Segregation of above two points for old/new users, male/female, reader/non-readers.\n",
    "4. I will try to look for the combination of all the other factors"
   ]
  },
  {
   "cell_type": "markdown",
   "metadata": {},
   "source": [
    "#### Creating Analytical Data Table for the user variant - combination of gender/reader/non-reader/days_since_signup"
   ]
  },
  {
   "cell_type": "code",
   "execution_count": 97,
   "metadata": {},
   "outputs": [],
   "source": [
    "var_gen_ageinquora = pd.merge(t2_user_variant,t4_user_attributes,how = \"inner\", on = \"uid\")"
   ]
  },
  {
   "cell_type": "code",
   "execution_count": 98,
   "metadata": {},
   "outputs": [
    {
     "data": {
      "text/html": [
       "<div>\n",
       "<style scoped>\n",
       "    .dataframe tbody tr th:only-of-type {\n",
       "        vertical-align: middle;\n",
       "    }\n",
       "\n",
       "    .dataframe tbody tr th {\n",
       "        vertical-align: top;\n",
       "    }\n",
       "\n",
       "    .dataframe thead th {\n",
       "        text-align: right;\n",
       "    }\n",
       "</style>\n",
       "<table border=\"1\" class=\"dataframe\">\n",
       "  <thead>\n",
       "    <tr style=\"text-align: right;\">\n",
       "      <th></th>\n",
       "      <th>uid</th>\n",
       "      <th>variant_number</th>\n",
       "      <th>dt</th>\n",
       "      <th>signup_date</th>\n",
       "      <th>gender</th>\n",
       "      <th>user_type</th>\n",
       "    </tr>\n",
       "  </thead>\n",
       "  <tbody>\n",
       "    <tr>\n",
       "      <td>0</td>\n",
       "      <td>0</td>\n",
       "      <td>0</td>\n",
       "      <td>2019-02-06</td>\n",
       "      <td>2018-09-24</td>\n",
       "      <td>male</td>\n",
       "      <td>non_reader</td>\n",
       "    </tr>\n",
       "    <tr>\n",
       "      <td>1</td>\n",
       "      <td>1</td>\n",
       "      <td>0</td>\n",
       "      <td>2019-02-06</td>\n",
       "      <td>2016-11-07</td>\n",
       "      <td>male</td>\n",
       "      <td>reader</td>\n",
       "    </tr>\n",
       "    <tr>\n",
       "      <td>2</td>\n",
       "      <td>2</td>\n",
       "      <td>0</td>\n",
       "      <td>2019-02-06</td>\n",
       "      <td>2018-09-17</td>\n",
       "      <td>male</td>\n",
       "      <td>non_reader</td>\n",
       "    </tr>\n",
       "    <tr>\n",
       "      <td>3</td>\n",
       "      <td>3</td>\n",
       "      <td>0</td>\n",
       "      <td>2019-02-06</td>\n",
       "      <td>2018-03-04</td>\n",
       "      <td>male</td>\n",
       "      <td>non_reader</td>\n",
       "    </tr>\n",
       "    <tr>\n",
       "      <td>4</td>\n",
       "      <td>4</td>\n",
       "      <td>0</td>\n",
       "      <td>2019-02-06</td>\n",
       "      <td>2017-03-09</td>\n",
       "      <td>male</td>\n",
       "      <td>non_reader</td>\n",
       "    </tr>\n",
       "  </tbody>\n",
       "</table>\n",
       "</div>"
      ],
      "text/plain": [
       "   uid  variant_number          dt signup_date gender   user_type\n",
       "0    0               0  2019-02-06  2018-09-24   male  non_reader\n",
       "1    1               0  2019-02-06  2016-11-07   male      reader\n",
       "2    2               0  2019-02-06  2018-09-17   male  non_reader\n",
       "3    3               0  2019-02-06  2018-03-04   male  non_reader\n",
       "4    4               0  2019-02-06  2017-03-09   male  non_reader"
      ]
     },
     "execution_count": 98,
     "metadata": {},
     "output_type": "execute_result"
    }
   ],
   "source": [
    "var_gen_ageinquora.head()"
   ]
  },
  {
   "cell_type": "code",
   "execution_count": 99,
   "metadata": {},
   "outputs": [],
   "source": [
    "var_gen_ageinquora_control = var_gen_ageinquora[var_gen_ageinquora['variant_number'] == 0]\n",
    "var_gen_ageinquora_treatment = var_gen_ageinquora[var_gen_ageinquora['variant_number'] == 1]\n",
    "cat_cols = ['gender','user_type']\n",
    "cont_cols = ['days_since_joined_till_AB_tested']"
   ]
  },
  {
   "cell_type": "markdown",
   "metadata": {},
   "source": [
    "#### Checking the ratio in treatment and control group"
   ]
  },
  {
   "cell_type": "code",
   "execution_count": 100,
   "metadata": {},
   "outputs": [],
   "source": [
    "treat_gender = pd.DataFrame(var_gen_ageinquora_treatment['gender'].value_counts())\n",
    "treat_gender.rename(columns = {'gender':'count_treat_gender'}, inplace = True)\n",
    "treat_gender.reset_index(inplace = True)\n",
    "treat_gender.rename(columns = {'index':'gender'}, inplace = True)"
   ]
  },
  {
   "cell_type": "code",
   "execution_count": 101,
   "metadata": {},
   "outputs": [],
   "source": [
    "control_gender = pd.DataFrame(var_gen_ageinquora_control['gender'].value_counts())\n",
    "control_gender.rename(columns = {'gender':'count_control_gender'}, inplace = True)\n",
    "control_gender.reset_index(inplace = True)\n",
    "control_gender.rename(columns = {'index':'gender'}, inplace = True)"
   ]
  },
  {
   "cell_type": "code",
   "execution_count": 102,
   "metadata": {},
   "outputs": [],
   "source": [
    "total_gender = pd.DataFrame(var_gen_ageinquora['gender'].value_counts())\n",
    "total_gender.rename(columns = {'gender':'count_control_gender'}, inplace = True)\n",
    "total_gender.reset_index(inplace = True)\n",
    "total_gender.rename(columns = {'index':'gender'}, inplace = True)"
   ]
  },
  {
   "cell_type": "code",
   "execution_count": 103,
   "metadata": {},
   "outputs": [],
   "source": [
    "treat_user_type = pd.DataFrame(var_gen_ageinquora_treatment['user_type'].value_counts())\n",
    "treat_user_type.rename(columns = {'user_type':'count_treat_user_type'}, inplace = True)\n",
    "treat_user_type.reset_index(inplace = True)\n",
    "treat_user_type.rename(columns = {'index':'user_type'}, inplace = True)"
   ]
  },
  {
   "cell_type": "code",
   "execution_count": 104,
   "metadata": {},
   "outputs": [],
   "source": [
    "control_user_type = pd.DataFrame(var_gen_ageinquora_control['user_type'].value_counts())\n",
    "control_user_type.rename(columns = {'user_type':'count_control_user_type'}, inplace = True)\n",
    "control_user_type.reset_index(inplace = True)\n",
    "control_user_type.rename(columns = {'index':'user_type'}, inplace = True)"
   ]
  },
  {
   "cell_type": "code",
   "execution_count": 105,
   "metadata": {},
   "outputs": [],
   "source": [
    "total_user_type = pd.DataFrame(var_gen_ageinquora['user_type'].value_counts())\n",
    "total_user_type.rename(columns = {'user_type':'count_total_user_type'}, inplace = True)\n",
    "total_user_type.reset_index(inplace = True)\n",
    "total_user_type.rename(columns = {'index':'user_type'}, inplace = True)"
   ]
  },
  {
   "cell_type": "code",
   "execution_count": 106,
   "metadata": {},
   "outputs": [],
   "source": [
    "gender_comparision = pd.merge(treat_gender, control_gender, on = \"gender\",how = \"inner\")\n",
    "user_type_comparision = pd.merge(treat_user_type, control_user_type, on = \"user_type\",how = \"inner\")"
   ]
  },
  {
   "cell_type": "code",
   "execution_count": 107,
   "metadata": {},
   "outputs": [],
   "source": [
    "gender_comparision['treat_ratio'] = gender_comparision['count_treat_gender'] / gender_comparision['count_treat_gender'].sum()\n",
    "gender_comparision['control_ratio'] = gender_comparision['count_control_gender'] / gender_comparision['count_control_gender'].sum()"
   ]
  },
  {
   "cell_type": "code",
   "execution_count": 108,
   "metadata": {},
   "outputs": [
    {
     "data": {
      "text/html": [
       "<div>\n",
       "<style scoped>\n",
       "    .dataframe tbody tr th:only-of-type {\n",
       "        vertical-align: middle;\n",
       "    }\n",
       "\n",
       "    .dataframe tbody tr th {\n",
       "        vertical-align: top;\n",
       "    }\n",
       "\n",
       "    .dataframe thead th {\n",
       "        text-align: right;\n",
       "    }\n",
       "</style>\n",
       "<table border=\"1\" class=\"dataframe\">\n",
       "  <thead>\n",
       "    <tr style=\"text-align: right;\">\n",
       "      <th></th>\n",
       "      <th>gender</th>\n",
       "      <th>treat_ratio</th>\n",
       "      <th>control_ratio</th>\n",
       "    </tr>\n",
       "  </thead>\n",
       "  <tbody>\n",
       "    <tr>\n",
       "      <td>0</td>\n",
       "      <td>male</td>\n",
       "      <td>0.552</td>\n",
       "      <td>0.555925</td>\n",
       "    </tr>\n",
       "    <tr>\n",
       "      <td>1</td>\n",
       "      <td>female</td>\n",
       "      <td>0.287</td>\n",
       "      <td>0.290175</td>\n",
       "    </tr>\n",
       "    <tr>\n",
       "      <td>2</td>\n",
       "      <td>unknown</td>\n",
       "      <td>0.161</td>\n",
       "      <td>0.153900</td>\n",
       "    </tr>\n",
       "  </tbody>\n",
       "</table>\n",
       "</div>"
      ],
      "text/plain": [
       "    gender  treat_ratio  control_ratio\n",
       "0     male        0.552       0.555925\n",
       "1   female        0.287       0.290175\n",
       "2  unknown        0.161       0.153900"
      ]
     },
     "execution_count": 108,
     "metadata": {},
     "output_type": "execute_result"
    }
   ],
   "source": [
    "gender_comparision.drop(columns = ['count_treat_gender','count_control_gender'])"
   ]
  },
  {
   "cell_type": "code",
   "execution_count": 109,
   "metadata": {},
   "outputs": [],
   "source": [
    "user_type_comparision['treat_ratio']   = user_type_comparision['count_treat_user_type'] / user_type_comparision['count_treat_user_type'].sum()\n",
    "user_type_comparision['control_ratio'] = user_type_comparision['count_control_user_type'] / user_type_comparision['count_control_user_type'].sum()"
   ]
  },
  {
   "cell_type": "code",
   "execution_count": 110,
   "metadata": {},
   "outputs": [
    {
     "data": {
      "text/html": [
       "<div>\n",
       "<style scoped>\n",
       "    .dataframe tbody tr th:only-of-type {\n",
       "        vertical-align: middle;\n",
       "    }\n",
       "\n",
       "    .dataframe tbody tr th {\n",
       "        vertical-align: top;\n",
       "    }\n",
       "\n",
       "    .dataframe thead th {\n",
       "        text-align: right;\n",
       "    }\n",
       "</style>\n",
       "<table border=\"1\" class=\"dataframe\">\n",
       "  <thead>\n",
       "    <tr style=\"text-align: right;\">\n",
       "      <th></th>\n",
       "      <th>user_type</th>\n",
       "      <th>treat_ratio</th>\n",
       "      <th>control_ratio</th>\n",
       "    </tr>\n",
       "  </thead>\n",
       "  <tbody>\n",
       "    <tr>\n",
       "      <td>0</td>\n",
       "      <td>non_reader</td>\n",
       "      <td>0.7367</td>\n",
       "      <td>0.717475</td>\n",
       "    </tr>\n",
       "    <tr>\n",
       "      <td>1</td>\n",
       "      <td>reader</td>\n",
       "      <td>0.1269</td>\n",
       "      <td>0.168325</td>\n",
       "    </tr>\n",
       "    <tr>\n",
       "      <td>2</td>\n",
       "      <td>new_user</td>\n",
       "      <td>0.1235</td>\n",
       "      <td>0.091325</td>\n",
       "    </tr>\n",
       "    <tr>\n",
       "      <td>3</td>\n",
       "      <td>contributor</td>\n",
       "      <td>0.0129</td>\n",
       "      <td>0.022875</td>\n",
       "    </tr>\n",
       "  </tbody>\n",
       "</table>\n",
       "</div>"
      ],
      "text/plain": [
       "     user_type  treat_ratio  control_ratio\n",
       "0   non_reader       0.7367       0.717475\n",
       "1       reader       0.1269       0.168325\n",
       "2     new_user       0.1235       0.091325\n",
       "3  contributor       0.0129       0.022875"
      ]
     },
     "execution_count": 110,
     "metadata": {},
     "output_type": "execute_result"
    }
   ],
   "source": [
    "user_type_comparision.drop(columns = ['count_treat_user_type','count_control_user_type'])"
   ]
  },
  {
   "cell_type": "markdown",
   "metadata": {},
   "source": [
    "### After the test is conducted"
   ]
  },
  {
   "cell_type": "code",
   "execution_count": 111,
   "metadata": {},
   "outputs": [],
   "source": [
    "def intersection(lst1, lst2): \n",
    "    return list(set(lst1) & set(lst2))"
   ]
  },
  {
   "cell_type": "code",
   "execution_count": 112,
   "metadata": {},
   "outputs": [],
   "source": [
    "uid_control         = list(var_gen_ageinquora_control[\"uid\"])\n",
    "uid_treatment       = list(var_gen_ageinquora_treatment[\"uid\"])\n",
    "before_AB_control   = t3_user_active_min_pre[t3_user_active_min_pre['uid'].isin(uid_control)]\n",
    "before_AB_treatment = t3_user_active_min_pre[t3_user_active_min_pre['uid'].isin(uid_treatment)]\n",
    "after_AB_control    = t1_user_active_min[t1_user_active_min['uid'].isin(uid_control)]\n",
    "after_AB_treatment  = t1_user_active_min[t1_user_active_min['uid'].isin(uid_treatment)]"
   ]
  },
  {
   "cell_type": "code",
   "execution_count": 113,
   "metadata": {},
   "outputs": [
    {
     "data": {
      "text/plain": [
       "[]"
      ]
     },
     "execution_count": 113,
     "metadata": {},
     "output_type": "execute_result"
    }
   ],
   "source": [
    "# Validating if there is no common elements between control and treatment.\n",
    "intersection(uid_control, uid_treatment)"
   ]
  },
  {
   "cell_type": "code",
   "execution_count": 114,
   "metadata": {},
   "outputs": [],
   "source": [
    "after_AB_control_uid    = list(after_AB_control['uid'])\n",
    "after_AB_treatment_uid  = list(after_AB_treatment['uid'])\n",
    "before_AB_control_uid   = list(before_AB_control['uid'])\n",
    "before_AB_treatment_uid = list(before_AB_treatment['uid'])"
   ]
  },
  {
   "cell_type": "code",
   "execution_count": 115,
   "metadata": {},
   "outputs": [],
   "source": [
    "common_control_uid   = intersection(after_AB_control_uid, before_AB_control_uid)\n",
    "common_treatment_uid = intersection(after_AB_treatment_uid, before_AB_treatment_uid)"
   ]
  },
  {
   "cell_type": "code",
   "execution_count": 116,
   "metadata": {},
   "outputs": [],
   "source": [
    "before_AB_control   = t3_user_active_min_pre[t3_user_active_min_pre['uid'].isin(common_control_uid)]\n",
    "before_AB_treatment = t3_user_active_min_pre[t3_user_active_min_pre['uid'].isin(common_treatment_uid)]\n",
    "after_AB_control    = t1_user_active_min[t1_user_active_min['uid'].isin(common_control_uid)]\n",
    "after_AB_treatment  = t1_user_active_min[t1_user_active_min['uid'].isin(common_treatment_uid)]"
   ]
  },
  {
   "cell_type": "code",
   "execution_count": 117,
   "metadata": {},
   "outputs": [
    {
     "data": {
      "text/html": [
       "<div>\n",
       "<style scoped>\n",
       "    .dataframe tbody tr th:only-of-type {\n",
       "        vertical-align: middle;\n",
       "    }\n",
       "\n",
       "    .dataframe tbody tr th {\n",
       "        vertical-align: top;\n",
       "    }\n",
       "\n",
       "    .dataframe thead th {\n",
       "        text-align: right;\n",
       "    }\n",
       "</style>\n",
       "<table border=\"1\" class=\"dataframe\">\n",
       "  <thead>\n",
       "    <tr style=\"text-align: right;\">\n",
       "      <th></th>\n",
       "      <th>uid</th>\n",
       "      <th>dt</th>\n",
       "      <th>active_mins</th>\n",
       "    </tr>\n",
       "  </thead>\n",
       "  <tbody>\n",
       "    <tr>\n",
       "      <td>0</td>\n",
       "      <td>0</td>\n",
       "      <td>2018-09-24</td>\n",
       "      <td>3.0</td>\n",
       "    </tr>\n",
       "    <tr>\n",
       "      <td>1</td>\n",
       "      <td>0</td>\n",
       "      <td>2018-11-08</td>\n",
       "      <td>4.0</td>\n",
       "    </tr>\n",
       "    <tr>\n",
       "      <td>2</td>\n",
       "      <td>0</td>\n",
       "      <td>2018-11-24</td>\n",
       "      <td>3.0</td>\n",
       "    </tr>\n",
       "    <tr>\n",
       "      <td>3</td>\n",
       "      <td>0</td>\n",
       "      <td>2018-11-28</td>\n",
       "      <td>6.0</td>\n",
       "    </tr>\n",
       "    <tr>\n",
       "      <td>4</td>\n",
       "      <td>0</td>\n",
       "      <td>2018-12-02</td>\n",
       "      <td>6.0</td>\n",
       "    </tr>\n",
       "  </tbody>\n",
       "</table>\n",
       "</div>"
      ],
      "text/plain": [
       "   uid          dt  active_mins\n",
       "0    0  2018-09-24          3.0\n",
       "1    0  2018-11-08          4.0\n",
       "2    0  2018-11-24          3.0\n",
       "3    0  2018-11-28          6.0\n",
       "4    0  2018-12-02          6.0"
      ]
     },
     "execution_count": 117,
     "metadata": {},
     "output_type": "execute_result"
    }
   ],
   "source": [
    "before_AB_control.head()"
   ]
  },
  {
   "cell_type": "code",
   "execution_count": 118,
   "metadata": {},
   "outputs": [],
   "source": [
    "before_AB_control_base_table   = pd.merge(before_AB_control,var_gen_ageinquora, how = \"inner\", on = \"uid\")\n",
    "before_AB_treatment_base_table = pd.merge(before_AB_treatment,var_gen_ageinquora, how = \"inner\", on = \"uid\")\n",
    "after_AB_control_base_table    = pd.merge(after_AB_control,var_gen_ageinquora, how = \"inner\", on = \"uid\")\n",
    "after_AB_treatment_base_table  = pd.merge(after_AB_treatment,var_gen_ageinquora, how = \"inner\", on = \"uid\")"
   ]
  },
  {
   "cell_type": "code",
   "execution_count": 119,
   "metadata": {},
   "outputs": [
    {
     "data": {
      "text/html": [
       "<div>\n",
       "<style scoped>\n",
       "    .dataframe tbody tr th:only-of-type {\n",
       "        vertical-align: middle;\n",
       "    }\n",
       "\n",
       "    .dataframe tbody tr th {\n",
       "        vertical-align: top;\n",
       "    }\n",
       "\n",
       "    .dataframe thead th {\n",
       "        text-align: right;\n",
       "    }\n",
       "</style>\n",
       "<table border=\"1\" class=\"dataframe\">\n",
       "  <thead>\n",
       "    <tr style=\"text-align: right;\">\n",
       "      <th></th>\n",
       "      <th>uid</th>\n",
       "      <th>date</th>\n",
       "      <th>active_mins</th>\n",
       "      <th>variant_number</th>\n",
       "      <th>AB_Date</th>\n",
       "      <th>signup_date</th>\n",
       "      <th>gender</th>\n",
       "      <th>user_type</th>\n",
       "    </tr>\n",
       "  </thead>\n",
       "  <tbody>\n",
       "    <tr>\n",
       "      <td>0</td>\n",
       "      <td>0</td>\n",
       "      <td>2018-09-24</td>\n",
       "      <td>3.0</td>\n",
       "      <td>0</td>\n",
       "      <td>2019-02-06</td>\n",
       "      <td>2018-09-24</td>\n",
       "      <td>male</td>\n",
       "      <td>non_reader</td>\n",
       "    </tr>\n",
       "    <tr>\n",
       "      <td>1</td>\n",
       "      <td>0</td>\n",
       "      <td>2018-11-08</td>\n",
       "      <td>4.0</td>\n",
       "      <td>0</td>\n",
       "      <td>2019-02-06</td>\n",
       "      <td>2018-09-24</td>\n",
       "      <td>male</td>\n",
       "      <td>non_reader</td>\n",
       "    </tr>\n",
       "    <tr>\n",
       "      <td>2</td>\n",
       "      <td>0</td>\n",
       "      <td>2018-11-24</td>\n",
       "      <td>3.0</td>\n",
       "      <td>0</td>\n",
       "      <td>2019-02-06</td>\n",
       "      <td>2018-09-24</td>\n",
       "      <td>male</td>\n",
       "      <td>non_reader</td>\n",
       "    </tr>\n",
       "    <tr>\n",
       "      <td>3</td>\n",
       "      <td>0</td>\n",
       "      <td>2018-11-28</td>\n",
       "      <td>6.0</td>\n",
       "      <td>0</td>\n",
       "      <td>2019-02-06</td>\n",
       "      <td>2018-09-24</td>\n",
       "      <td>male</td>\n",
       "      <td>non_reader</td>\n",
       "    </tr>\n",
       "    <tr>\n",
       "      <td>4</td>\n",
       "      <td>0</td>\n",
       "      <td>2018-12-02</td>\n",
       "      <td>6.0</td>\n",
       "      <td>0</td>\n",
       "      <td>2019-02-06</td>\n",
       "      <td>2018-09-24</td>\n",
       "      <td>male</td>\n",
       "      <td>non_reader</td>\n",
       "    </tr>\n",
       "  </tbody>\n",
       "</table>\n",
       "</div>"
      ],
      "text/plain": [
       "   uid        date  active_mins  variant_number     AB_Date signup_date  \\\n",
       "0    0  2018-09-24          3.0               0  2019-02-06  2018-09-24   \n",
       "1    0  2018-11-08          4.0               0  2019-02-06  2018-09-24   \n",
       "2    0  2018-11-24          3.0               0  2019-02-06  2018-09-24   \n",
       "3    0  2018-11-28          6.0               0  2019-02-06  2018-09-24   \n",
       "4    0  2018-12-02          6.0               0  2019-02-06  2018-09-24   \n",
       "\n",
       "  gender   user_type  \n",
       "0   male  non_reader  \n",
       "1   male  non_reader  \n",
       "2   male  non_reader  \n",
       "3   male  non_reader  \n",
       "4   male  non_reader  "
      ]
     },
     "execution_count": 119,
     "metadata": {},
     "output_type": "execute_result"
    }
   ],
   "source": [
    "before_AB_control_base_table.rename(columns = {\"dt_x\":\"date\",\"dt_y\":\"AB_Date\"}, inplace = True)\n",
    "before_AB_treatment_base_table.rename(columns = {\"dt_x\":\"date\",\"dt_y\":\"AB_Date\"}, inplace = True)\n",
    "after_AB_control_base_table.rename(columns = {\"dt_x\":\"date\",\"dt_y\":\"AB_Date\"}, inplace = True)\n",
    "after_AB_treatment_base_table.rename(columns = {\"dt_x\":\"date\",\"dt_y\":\"AB_Date\"}, inplace = True)\n",
    "before_AB_control_base_table.head()"
   ]
  },
  {
   "cell_type": "markdown",
   "metadata": {},
   "source": [
    "#### Active minute comparision"
   ]
  },
  {
   "cell_type": "code",
   "execution_count": 120,
   "metadata": {},
   "outputs": [],
   "source": [
    "# import seaborn as sns\n",
    "# import plotly.express as px\n",
    "# fig = px.histogram(before_AB_treatment_base_table_noout, x=\"active_mins\")\n",
    "# fig.show()"
   ]
  },
  {
   "cell_type": "code",
   "execution_count": 121,
   "metadata": {},
   "outputs": [
    {
     "data": {
      "text/html": [
       "<div>\n",
       "<style scoped>\n",
       "    .dataframe tbody tr th:only-of-type {\n",
       "        vertical-align: middle;\n",
       "    }\n",
       "\n",
       "    .dataframe tbody tr th {\n",
       "        vertical-align: top;\n",
       "    }\n",
       "\n",
       "    .dataframe thead th {\n",
       "        text-align: right;\n",
       "    }\n",
       "</style>\n",
       "<table border=\"1\" class=\"dataframe\">\n",
       "  <thead>\n",
       "    <tr style=\"text-align: right;\">\n",
       "      <th></th>\n",
       "      <th>active_mins</th>\n",
       "    </tr>\n",
       "  </thead>\n",
       "  <tbody>\n",
       "    <tr>\n",
       "      <td>count</td>\n",
       "      <td>978727.00000</td>\n",
       "    </tr>\n",
       "    <tr>\n",
       "      <td>mean</td>\n",
       "      <td>35.77256</td>\n",
       "    </tr>\n",
       "    <tr>\n",
       "      <td>std</td>\n",
       "      <td>1283.01916</td>\n",
       "    </tr>\n",
       "    <tr>\n",
       "      <td>min</td>\n",
       "      <td>1.00000</td>\n",
       "    </tr>\n",
       "    <tr>\n",
       "      <td>25%</td>\n",
       "      <td>2.00000</td>\n",
       "    </tr>\n",
       "    <tr>\n",
       "      <td>50%</td>\n",
       "      <td>5.00000</td>\n",
       "    </tr>\n",
       "    <tr>\n",
       "      <td>75%</td>\n",
       "      <td>15.00000</td>\n",
       "    </tr>\n",
       "    <tr>\n",
       "      <td>max</td>\n",
       "      <td>99999.00000</td>\n",
       "    </tr>\n",
       "  </tbody>\n",
       "</table>\n",
       "</div>"
      ],
      "text/plain": [
       "        active_mins\n",
       "count  978727.00000\n",
       "mean       35.77256\n",
       "std      1283.01916\n",
       "min         1.00000\n",
       "25%         2.00000\n",
       "50%         5.00000\n",
       "75%        15.00000\n",
       "max     99999.00000"
      ]
     },
     "execution_count": 121,
     "metadata": {},
     "output_type": "execute_result"
    }
   ],
   "source": [
    "pd.DataFrame(before_AB_control_base_table['active_mins'].describe())"
   ]
  },
  {
   "cell_type": "code",
   "execution_count": 122,
   "metadata": {},
   "outputs": [
    {
     "data": {
      "text/html": [
       "<div>\n",
       "<style scoped>\n",
       "    .dataframe tbody tr th:only-of-type {\n",
       "        vertical-align: middle;\n",
       "    }\n",
       "\n",
       "    .dataframe tbody tr th {\n",
       "        vertical-align: top;\n",
       "    }\n",
       "\n",
       "    .dataframe thead th {\n",
       "        text-align: right;\n",
       "    }\n",
       "</style>\n",
       "<table border=\"1\" class=\"dataframe\">\n",
       "  <thead>\n",
       "    <tr style=\"text-align: right;\">\n",
       "      <th></th>\n",
       "      <th>active_mins</th>\n",
       "    </tr>\n",
       "  </thead>\n",
       "  <tbody>\n",
       "    <tr>\n",
       "      <td>count</td>\n",
       "      <td>197942.000000</td>\n",
       "    </tr>\n",
       "    <tr>\n",
       "      <td>mean</td>\n",
       "      <td>16.222444</td>\n",
       "    </tr>\n",
       "    <tr>\n",
       "      <td>std</td>\n",
       "      <td>503.548367</td>\n",
       "    </tr>\n",
       "    <tr>\n",
       "      <td>min</td>\n",
       "      <td>1.000000</td>\n",
       "    </tr>\n",
       "    <tr>\n",
       "      <td>25%</td>\n",
       "      <td>2.000000</td>\n",
       "    </tr>\n",
       "    <tr>\n",
       "      <td>50%</td>\n",
       "      <td>4.000000</td>\n",
       "    </tr>\n",
       "    <tr>\n",
       "      <td>75%</td>\n",
       "      <td>11.000000</td>\n",
       "    </tr>\n",
       "    <tr>\n",
       "      <td>max</td>\n",
       "      <td>99999.000000</td>\n",
       "    </tr>\n",
       "  </tbody>\n",
       "</table>\n",
       "</div>"
      ],
      "text/plain": [
       "         active_mins\n",
       "count  197942.000000\n",
       "mean       16.222444\n",
       "std       503.548367\n",
       "min         1.000000\n",
       "25%         2.000000\n",
       "50%         4.000000\n",
       "75%        11.000000\n",
       "max     99999.000000"
      ]
     },
     "execution_count": 122,
     "metadata": {},
     "output_type": "execute_result"
    }
   ],
   "source": [
    "pd.DataFrame(before_AB_treatment_base_table['active_mins'].describe())"
   ]
  },
  {
   "cell_type": "code",
   "execution_count": 123,
   "metadata": {},
   "outputs": [
    {
     "data": {
      "text/html": [
       "<div>\n",
       "<style scoped>\n",
       "    .dataframe tbody tr th:only-of-type {\n",
       "        vertical-align: middle;\n",
       "    }\n",
       "\n",
       "    .dataframe tbody tr th {\n",
       "        vertical-align: top;\n",
       "    }\n",
       "\n",
       "    .dataframe thead th {\n",
       "        text-align: right;\n",
       "    }\n",
       "</style>\n",
       "<table border=\"1\" class=\"dataframe\">\n",
       "  <thead>\n",
       "    <tr style=\"text-align: right;\">\n",
       "      <th></th>\n",
       "      <th>active_mins</th>\n",
       "    </tr>\n",
       "  </thead>\n",
       "  <tbody>\n",
       "    <tr>\n",
       "      <td>count</td>\n",
       "      <td>886469.000000</td>\n",
       "    </tr>\n",
       "    <tr>\n",
       "      <td>mean</td>\n",
       "      <td>35.361478</td>\n",
       "    </tr>\n",
       "    <tr>\n",
       "      <td>std</td>\n",
       "      <td>1266.081303</td>\n",
       "    </tr>\n",
       "    <tr>\n",
       "      <td>min</td>\n",
       "      <td>1.000000</td>\n",
       "    </tr>\n",
       "    <tr>\n",
       "      <td>25%</td>\n",
       "      <td>2.000000</td>\n",
       "    </tr>\n",
       "    <tr>\n",
       "      <td>50%</td>\n",
       "      <td>5.000000</td>\n",
       "    </tr>\n",
       "    <tr>\n",
       "      <td>75%</td>\n",
       "      <td>16.000000</td>\n",
       "    </tr>\n",
       "    <tr>\n",
       "      <td>max</td>\n",
       "      <td>99999.000000</td>\n",
       "    </tr>\n",
       "  </tbody>\n",
       "</table>\n",
       "</div>"
      ],
      "text/plain": [
       "         active_mins\n",
       "count  886469.000000\n",
       "mean       35.361478\n",
       "std      1266.081303\n",
       "min         1.000000\n",
       "25%         2.000000\n",
       "50%         5.000000\n",
       "75%        16.000000\n",
       "max     99999.000000"
      ]
     },
     "execution_count": 123,
     "metadata": {},
     "output_type": "execute_result"
    }
   ],
   "source": [
    "pd.DataFrame(after_AB_control_base_table['active_mins'].describe())"
   ]
  },
  {
   "cell_type": "code",
   "execution_count": 124,
   "metadata": {},
   "outputs": [
    {
     "data": {
      "text/html": [
       "<div>\n",
       "<style scoped>\n",
       "    .dataframe tbody tr th:only-of-type {\n",
       "        vertical-align: middle;\n",
       "    }\n",
       "\n",
       "    .dataframe tbody tr th {\n",
       "        vertical-align: top;\n",
       "    }\n",
       "\n",
       "    .dataframe thead th {\n",
       "        text-align: right;\n",
       "    }\n",
       "</style>\n",
       "<table border=\"1\" class=\"dataframe\">\n",
       "  <thead>\n",
       "    <tr style=\"text-align: right;\">\n",
       "      <th></th>\n",
       "      <th>active_mins</th>\n",
       "    </tr>\n",
       "  </thead>\n",
       "  <tbody>\n",
       "    <tr>\n",
       "      <td>count</td>\n",
       "      <td>179291.000000</td>\n",
       "    </tr>\n",
       "    <tr>\n",
       "      <td>mean</td>\n",
       "      <td>40.270471</td>\n",
       "    </tr>\n",
       "    <tr>\n",
       "      <td>std</td>\n",
       "      <td>1294.258138</td>\n",
       "    </tr>\n",
       "    <tr>\n",
       "      <td>min</td>\n",
       "      <td>1.000000</td>\n",
       "    </tr>\n",
       "    <tr>\n",
       "      <td>25%</td>\n",
       "      <td>3.000000</td>\n",
       "    </tr>\n",
       "    <tr>\n",
       "      <td>50%</td>\n",
       "      <td>7.000000</td>\n",
       "    </tr>\n",
       "    <tr>\n",
       "      <td>75%</td>\n",
       "      <td>19.000000</td>\n",
       "    </tr>\n",
       "    <tr>\n",
       "      <td>max</td>\n",
       "      <td>99999.000000</td>\n",
       "    </tr>\n",
       "  </tbody>\n",
       "</table>\n",
       "</div>"
      ],
      "text/plain": [
       "         active_mins\n",
       "count  179291.000000\n",
       "mean       40.270471\n",
       "std      1294.258138\n",
       "min         1.000000\n",
       "25%         3.000000\n",
       "50%         7.000000\n",
       "75%        19.000000\n",
       "max     99999.000000"
      ]
     },
     "execution_count": 124,
     "metadata": {},
     "output_type": "execute_result"
    }
   ],
   "source": [
    "pd.DataFrame(after_AB_treatment_base_table['active_mins'].describe())"
   ]
  },
  {
   "cell_type": "code",
   "execution_count": 125,
   "metadata": {},
   "outputs": [
    {
     "data": {
      "text/html": [
       "<div>\n",
       "<style scoped>\n",
       "    .dataframe tbody tr th:only-of-type {\n",
       "        vertical-align: middle;\n",
       "    }\n",
       "\n",
       "    .dataframe tbody tr th {\n",
       "        vertical-align: top;\n",
       "    }\n",
       "\n",
       "    .dataframe thead th {\n",
       "        text-align: right;\n",
       "    }\n",
       "</style>\n",
       "<table border=\"1\" class=\"dataframe\">\n",
       "  <thead>\n",
       "    <tr style=\"text-align: right;\">\n",
       "      <th></th>\n",
       "      <th>uid</th>\n",
       "      <th>date</th>\n",
       "      <th>active_mins</th>\n",
       "      <th>variant_number</th>\n",
       "      <th>AB_Date</th>\n",
       "      <th>signup_date</th>\n",
       "      <th>gender</th>\n",
       "      <th>user_type</th>\n",
       "    </tr>\n",
       "  </thead>\n",
       "  <tbody>\n",
       "    <tr>\n",
       "      <td>38650</td>\n",
       "      <td>42198</td>\n",
       "      <td>2019-06-08</td>\n",
       "      <td>99999.0</td>\n",
       "      <td>1</td>\n",
       "      <td>2019-02-06</td>\n",
       "      <td>2016-10-11</td>\n",
       "      <td>male</td>\n",
       "      <td>reader</td>\n",
       "    </tr>\n",
       "    <tr>\n",
       "      <td>141896</td>\n",
       "      <td>47957</td>\n",
       "      <td>2019-03-03</td>\n",
       "      <td>99999.0</td>\n",
       "      <td>1</td>\n",
       "      <td>2019-02-06</td>\n",
       "      <td>2013-07-05</td>\n",
       "      <td>male</td>\n",
       "      <td>reader</td>\n",
       "    </tr>\n",
       "    <tr>\n",
       "      <td>170027</td>\n",
       "      <td>49503</td>\n",
       "      <td>2019-03-10</td>\n",
       "      <td>99999.0</td>\n",
       "      <td>1</td>\n",
       "      <td>2019-02-06</td>\n",
       "      <td>2017-05-26</td>\n",
       "      <td>male</td>\n",
       "      <td>contributor</td>\n",
       "    </tr>\n",
       "    <tr>\n",
       "      <td>125504</td>\n",
       "      <td>47041</td>\n",
       "      <td>2019-04-06</td>\n",
       "      <td>99999.0</td>\n",
       "      <td>1</td>\n",
       "      <td>2019-02-06</td>\n",
       "      <td>2018-12-06</td>\n",
       "      <td>female</td>\n",
       "      <td>reader</td>\n",
       "    </tr>\n",
       "    <tr>\n",
       "      <td>170104</td>\n",
       "      <td>49503</td>\n",
       "      <td>2019-06-29</td>\n",
       "      <td>99999.0</td>\n",
       "      <td>1</td>\n",
       "      <td>2019-02-06</td>\n",
       "      <td>2017-05-26</td>\n",
       "      <td>male</td>\n",
       "      <td>contributor</td>\n",
       "    </tr>\n",
       "  </tbody>\n",
       "</table>\n",
       "</div>"
      ],
      "text/plain": [
       "          uid        date  active_mins  variant_number     AB_Date  \\\n",
       "38650   42198  2019-06-08      99999.0               1  2019-02-06   \n",
       "141896  47957  2019-03-03      99999.0               1  2019-02-06   \n",
       "170027  49503  2019-03-10      99999.0               1  2019-02-06   \n",
       "125504  47041  2019-04-06      99999.0               1  2019-02-06   \n",
       "170104  49503  2019-06-29      99999.0               1  2019-02-06   \n",
       "\n",
       "       signup_date  gender    user_type  \n",
       "38650   2016-10-11    male       reader  \n",
       "141896  2013-07-05    male       reader  \n",
       "170027  2017-05-26    male  contributor  \n",
       "125504  2018-12-06  female       reader  \n",
       "170104  2017-05-26    male  contributor  "
      ]
     },
     "execution_count": 125,
     "metadata": {},
     "output_type": "execute_result"
    }
   ],
   "source": [
    "after_AB_treatment_base_table.sort_values(by = ['active_mins'], ascending=False)[:5]"
   ]
  },
  {
   "cell_type": "code",
   "execution_count": 126,
   "metadata": {},
   "outputs": [],
   "source": [
    "before_AB_treatment_base_table_noout = before_AB_treatment_base_table[before_AB_treatment_base_table.active_mins < np.percentile(before_AB_treatment_base_table.active_mins,92)]\n",
    "after_AB_treatment_base_table_noout = after_AB_treatment_base_table[after_AB_treatment_base_table.active_mins < np.percentile(after_AB_treatment_base_table.active_mins,92)]"
   ]
  },
  {
   "cell_type": "code",
   "execution_count": 127,
   "metadata": {},
   "outputs": [
    {
     "data": {
      "text/html": [
       "<div>\n",
       "<style scoped>\n",
       "    .dataframe tbody tr th:only-of-type {\n",
       "        vertical-align: middle;\n",
       "    }\n",
       "\n",
       "    .dataframe tbody tr th {\n",
       "        vertical-align: top;\n",
       "    }\n",
       "\n",
       "    .dataframe thead th {\n",
       "        text-align: right;\n",
       "    }\n",
       "</style>\n",
       "<table border=\"1\" class=\"dataframe\">\n",
       "  <thead>\n",
       "    <tr style=\"text-align: right;\">\n",
       "      <th></th>\n",
       "      <th>uid</th>\n",
       "      <th>date</th>\n",
       "      <th>active_mins</th>\n",
       "      <th>variant_number</th>\n",
       "      <th>AB_Date</th>\n",
       "      <th>signup_date</th>\n",
       "      <th>gender</th>\n",
       "      <th>user_type</th>\n",
       "    </tr>\n",
       "  </thead>\n",
       "  <tbody>\n",
       "    <tr>\n",
       "      <td>0</td>\n",
       "      <td>40001</td>\n",
       "      <td>2018-08-12</td>\n",
       "      <td>1.0</td>\n",
       "      <td>1</td>\n",
       "      <td>2019-02-06</td>\n",
       "      <td>2017-04-29</td>\n",
       "      <td>male</td>\n",
       "      <td>non_reader</td>\n",
       "    </tr>\n",
       "    <tr>\n",
       "      <td>1</td>\n",
       "      <td>40001</td>\n",
       "      <td>2018-08-21</td>\n",
       "      <td>1.0</td>\n",
       "      <td>1</td>\n",
       "      <td>2019-02-06</td>\n",
       "      <td>2017-04-29</td>\n",
       "      <td>male</td>\n",
       "      <td>non_reader</td>\n",
       "    </tr>\n",
       "    <tr>\n",
       "      <td>2</td>\n",
       "      <td>40001</td>\n",
       "      <td>2018-09-21</td>\n",
       "      <td>5.0</td>\n",
       "      <td>1</td>\n",
       "      <td>2019-02-06</td>\n",
       "      <td>2017-04-29</td>\n",
       "      <td>male</td>\n",
       "      <td>non_reader</td>\n",
       "    </tr>\n",
       "    <tr>\n",
       "      <td>3</td>\n",
       "      <td>40001</td>\n",
       "      <td>2018-09-23</td>\n",
       "      <td>3.0</td>\n",
       "      <td>1</td>\n",
       "      <td>2019-02-06</td>\n",
       "      <td>2017-04-29</td>\n",
       "      <td>male</td>\n",
       "      <td>non_reader</td>\n",
       "    </tr>\n",
       "    <tr>\n",
       "      <td>4</td>\n",
       "      <td>40001</td>\n",
       "      <td>2018-10-03</td>\n",
       "      <td>1.0</td>\n",
       "      <td>1</td>\n",
       "      <td>2019-02-06</td>\n",
       "      <td>2017-04-29</td>\n",
       "      <td>male</td>\n",
       "      <td>non_reader</td>\n",
       "    </tr>\n",
       "  </tbody>\n",
       "</table>\n",
       "</div>"
      ],
      "text/plain": [
       "     uid        date  active_mins  variant_number     AB_Date signup_date  \\\n",
       "0  40001  2018-08-12          1.0               1  2019-02-06  2017-04-29   \n",
       "1  40001  2018-08-21          1.0               1  2019-02-06  2017-04-29   \n",
       "2  40001  2018-09-21          5.0               1  2019-02-06  2017-04-29   \n",
       "3  40001  2018-09-23          3.0               1  2019-02-06  2017-04-29   \n",
       "4  40001  2018-10-03          1.0               1  2019-02-06  2017-04-29   \n",
       "\n",
       "  gender   user_type  \n",
       "0   male  non_reader  \n",
       "1   male  non_reader  \n",
       "2   male  non_reader  \n",
       "3   male  non_reader  \n",
       "4   male  non_reader  "
      ]
     },
     "execution_count": 127,
     "metadata": {},
     "output_type": "execute_result"
    }
   ],
   "source": [
    "before_AB_treatment_base_table_noout.head()"
   ]
  },
  {
   "cell_type": "code",
   "execution_count": 128,
   "metadata": {},
   "outputs": [
    {
     "data": {
      "image/png": "[encoded data removed]",
      "text/plain": [
       "<Figure size 432x288 with 1 Axes>"
      ]
     },
     "metadata": {},
     "output_type": "display_data"
    }
   ],
   "source": [
    "build_dist(before_AB_treatment_base_table_noout,after_AB_treatment_base_table_noout,\n",
    "           \"active_mins\",\"active_mins\",\"total_active_mins\", \"before_AB_Testing\",\"After_AB_Testing\")"
   ]
  },
  {
   "cell_type": "code",
   "execution_count": 129,
   "metadata": {},
   "outputs": [
    {
     "data": {
      "image/png": "[encoded data removed]",
      "text/plain": [
       "<Figure size 432x288 with 1 Axes>"
      ]
     },
     "metadata": {},
     "output_type": "display_data"
    }
   ],
   "source": [
    "build_dist(before_AB_treatment_base_table_noout[(before_AB_treatment_base_table_noout[\"gender\"] == \"female\")&(before_AB_treatment_base_table_noout[\"user_type\"] == \"reader\")],\n",
    "           after_AB_treatment_base_table_noout[(after_AB_treatment_base_table_noout[\"gender\"] == \"female\")&(after_AB_treatment_base_table_noout[\"user_type\"] == \"reader\")],\n",
    "           \"active_mins\",\"active_mins\",\"female_reader\", \"before_AB_Testing\",\"After_AB_Testing\")\n"
   ]
  },
  {
   "cell_type": "code",
   "execution_count": 130,
   "metadata": {},
   "outputs": [
    {
     "data": {
      "image/png": "[encoded data removed]",
      "text/plain": [
       "<Figure size 432x288 with 1 Axes>"
      ]
     },
     "metadata": {},
     "output_type": "display_data"
    }
   ],
   "source": [
    "\n",
    "\n",
    "build_dist(before_AB_treatment_base_table_noout[(before_AB_treatment_base_table_noout[\"gender\"] == \"male\")&(before_AB_treatment_base_table_noout[\"user_type\"] == \"reader\")],\n",
    "           after_AB_treatment_base_table_noout[(after_AB_treatment_base_table_noout[\"gender\"] == \"male\")&(after_AB_treatment_base_table_noout[\"user_type\"] == \"reader\")],\n",
    "           \"active_mins\",\"active_mins\",\"male_reader\", \"before_AB_Testing\",\"After_AB_Testing\")\n"
   ]
  },
  {
   "cell_type": "code",
   "execution_count": 131,
   "metadata": {},
   "outputs": [
    {
     "data": {
      "image/png": "[encoded data removed]",
      "text/plain": [
       "<Figure size 432x288 with 1 Axes>"
      ]
     },
     "metadata": {},
     "output_type": "display_data"
    }
   ],
   "source": [
    "\n",
    "build_dist(before_AB_treatment_base_table_noout[(before_AB_treatment_base_table_noout[\"gender\"] == \"female\")&(before_AB_treatment_base_table_noout[\"user_type\"] == \"non_reader\")],\n",
    "           after_AB_treatment_base_table_noout[(after_AB_treatment_base_table_noout[\"gender\"] == \"female\")&(after_AB_treatment_base_table_noout[\"user_type\"] == \"non_reader\")],\n",
    "           \"active_mins\",\"active_mins\",\"female_non_reader\", \"before_AB_Testing\",\"After_AB_Testing\")\n"
   ]
  },
  {
   "cell_type": "code",
   "execution_count": 132,
   "metadata": {},
   "outputs": [
    {
     "data": {
      "image/png": "[encoded data removed]",
      "text/plain": [
       "<Figure size 432x288 with 1 Axes>"
      ]
     },
     "metadata": {},
     "output_type": "display_data"
    }
   ],
   "source": [
    "\n",
    "build_dist(before_AB_treatment_base_table_noout[(before_AB_treatment_base_table_noout[\"gender\"] == \"male\")&(before_AB_treatment_base_table_noout[\"user_type\"] == \"non_reader\")],\n",
    "           after_AB_treatment_base_table_noout[(after_AB_treatment_base_table_noout[\"gender\"] == \"male\")&(after_AB_treatment_base_table_noout[\"user_type\"] == \"non_reader\")],\n",
    "           \"active_mins\",\"active_mins\", \"male_non_reader\", \"before_AB_Testing\",\"After_AB_Testing\")\n"
   ]
  },
  {
   "cell_type": "code",
   "execution_count": 133,
   "metadata": {},
   "outputs": [
    {
     "data": {
      "image/png": "[encoded data removed]",
      "text/plain": [
       "<Figure size 432x288 with 1 Axes>"
      ]
     },
     "metadata": {},
     "output_type": "display_data"
    }
   ],
   "source": [
    "build_dist(before_AB_treatment_base_table_noout[(before_AB_treatment_base_table_noout[\"gender\"] == \"unknown\")&(before_AB_treatment_base_table_noout[\"user_type\"] == \"contributor\")],\n",
    "           after_AB_treatment_base_table_noout[(after_AB_treatment_base_table_noout[\"gender\"] == \"unknown\")&(after_AB_treatment_base_table_noout[\"user_type\"] == \"contributor\")],\n",
    "           \"active_mins\",\"active_mins\",\"female_contributer\", \"before_AB_Testing\",\"After_AB_Testing\")"
   ]
  },
  {
   "cell_type": "code",
   "execution_count": 134,
   "metadata": {},
   "outputs": [
    {
     "data": {
      "image/png": "[encoded data removed]",
      "text/plain": [
       "<Figure size 432x288 with 1 Axes>"
      ]
     },
     "metadata": {},
     "output_type": "display_data"
    }
   ],
   "source": [
    "\n",
    "build_dist(before_AB_treatment_base_table_noout[(before_AB_treatment_base_table_noout[\"gender\"] == \"male\")&(before_AB_treatment_base_table_noout[\"user_type\"] == \"contributor\")],\n",
    "           after_AB_treatment_base_table_noout[(after_AB_treatment_base_table_noout[\"gender\"] == \"male\")&(after_AB_treatment_base_table_noout[\"user_type\"] == \"contributor\")],\n",
    "           \"active_mins\",\"active_mins\",\"male_contributer\", \"before_AB_Testing\",\"After_AB_Testing\")\n"
   ]
  },
  {
   "cell_type": "code",
   "execution_count": 135,
   "metadata": {},
   "outputs": [
    {
     "data": {
      "image/png": "[encoded data removed]",
      "text/plain": [
       "<Figure size 432x288 with 1 Axes>"
      ]
     },
     "metadata": {},
     "output_type": "display_data"
    }
   ],
   "source": [
    "build_dist(before_AB_treatment_base_table_noout[(before_AB_treatment_base_table_noout[\"gender\"] == \"female\")&(before_AB_treatment_base_table_noout[\"user_type\"] == \"new_user\")],\n",
    "           after_AB_treatment_base_table_noout[(after_AB_treatment_base_table_noout[\"gender\"] == \"female\")&(after_AB_treatment_base_table_noout[\"user_type\"] == \"new_user\")],\n",
    "           \"active_mins\",\"active_mins\",\"female_new_user\", \"before_AB_Testing\",\"After_AB_Testing\")"
   ]
  },
  {
   "cell_type": "code",
   "execution_count": 136,
   "metadata": {},
   "outputs": [
    {
     "data": {
      "image/png": "[encoded data removed]",
      "text/plain": [
       "<Figure size 432x288 with 1 Axes>"
      ]
     },
     "metadata": {},
     "output_type": "display_data"
    }
   ],
   "source": [
    "\n",
    "build_dist(before_AB_treatment_base_table_noout[(before_AB_treatment_base_table_noout[\"gender\"] == \"male\")&(before_AB_treatment_base_table_noout[\"user_type\"] == \"new_user\")],\n",
    "           after_AB_treatment_base_table_noout[(after_AB_treatment_base_table_noout[\"gender\"] == \"male\")&(after_AB_treatment_base_table_noout[\"user_type\"] == \"new_user\")],\n",
    "           \"active_mins\",\"active_mins\",\"male_new_user\", \"before_AB_Testing\",\"After_AB_Testing\")"
   ]
  },
  {
   "cell_type": "code",
   "execution_count": 137,
   "metadata": {},
   "outputs": [
    {
     "data": {
      "image/png": "[encoded data removed]",
      "text/plain": [
       "<Figure size 432x288 with 1 Axes>"
      ]
     },
     "metadata": {},
     "output_type": "display_data"
    }
   ],
   "source": [
    "build_dist(before_AB_treatment_base_table_noout[(before_AB_treatment_base_table_noout[\"gender\"] == \"unknown\")],\n",
    "           after_AB_treatment_base_table_noout[(after_AB_treatment_base_table_noout[\"gender\"] == \"unknown\")],\n",
    "           \"active_mins\",\"active_mins\",\"Unknown gender\", \"before_AB_Testing\",\"After_AB_Testing\")"
   ]
  },
  {
   "cell_type": "code",
   "execution_count": 138,
   "metadata": {},
   "outputs": [
    {
     "data": {
      "image/png": "[encoded data removed]",
      "text/plain": [
       "<Figure size 432x288 with 1 Axes>"
      ]
     },
     "metadata": {},
     "output_type": "display_data"
    }
   ],
   "source": [
    "build_dist(before_AB_treatment_base_table_noout[before_AB_treatment_base_table_noout[\"user_type\"] == \"reader\"],\n",
    "           after_AB_treatment_base_table_noout[after_AB_treatment_base_table_noout[\"user_type\"] == \"reader\"],\n",
    "           \"active_mins\",\"active_mins\",\"Reader\", \"before_AB_Testing\",\"After_AB_Testing\")"
   ]
  },
  {
   "cell_type": "code",
   "execution_count": 139,
   "metadata": {},
   "outputs": [
    {
     "data": {
      "image/png": "[encoded data removed]",
      "text/plain": [
       "<Figure size 432x288 with 1 Axes>"
      ]
     },
     "metadata": {},
     "output_type": "display_data"
    }
   ],
   "source": [
    "build_dist(before_AB_treatment_base_table_noout[before_AB_treatment_base_table_noout[\"user_type\"] == \"non_reader\"],\n",
    "           after_AB_treatment_base_table_noout[after_AB_treatment_base_table_noout[\"user_type\"] == \"non_reader\"],\n",
    "           \"active_mins\",\"active_mins\",\"non_reader\", \"before_AB_Testing\",\"After_AB_Testing\")"
   ]
  },
  {
   "cell_type": "code",
   "execution_count": 140,
   "metadata": {},
   "outputs": [
    {
     "data": {
      "image/png": "[encoded data removed]",
      "text/plain": [
       "<Figure size 432x288 with 1 Axes>"
      ]
     },
     "metadata": {},
     "output_type": "display_data"
    }
   ],
   "source": [
    "build_dist(before_AB_treatment_base_table_noout[before_AB_treatment_base_table_noout[\"user_type\"] == \"new_user\"],\n",
    "           after_AB_treatment_base_table_noout[after_AB_treatment_base_table_noout[\"user_type\"] == \"new_user\"],\n",
    "           \"active_mins\",\"active_mins\",\"new_user\", \"before_AB_Testing\",\"After_AB_Testing\")"
   ]
  },
  {
   "cell_type": "code",
   "execution_count": 141,
   "metadata": {},
   "outputs": [
    {
     "data": {
      "image/png": "[encoded data removed]",
      "text/plain": [
       "<Figure size 432x288 with 1 Axes>"
      ]
     },
     "metadata": {},
     "output_type": "display_data"
    }
   ],
   "source": [
    "build_dist(before_AB_treatment_base_table_noout[before_AB_treatment_base_table_noout[\"user_type\"] == \"contributor\"],\n",
    "           after_AB_treatment_base_table_noout[after_AB_treatment_base_table_noout[\"user_type\"] == \"contributor\"],\n",
    "           \"active_mins\",\"active_mins\",\"contributor\", \"before_AB_Testing\",\"After_AB_Testing\")"
   ]
  },
  {
   "cell_type": "code",
   "execution_count": 142,
   "metadata": {},
   "outputs": [
    {
     "data": {
      "image/png": "[encoded data removed]",
      "text/plain": [
       "<Figure size 432x288 with 1 Axes>"
      ]
     },
     "metadata": {},
     "output_type": "display_data"
    }
   ],
   "source": [
    "build_dist(before_AB_treatment_base_table_noout[before_AB_treatment_base_table_noout[\"gender\"] == \"male\"],\n",
    "           after_AB_treatment_base_table_noout[after_AB_treatment_base_table_noout[\"gender\"] == \"male\"],\n",
    "           \"active_mins\",\"active_mins\",\"male\", \"before_AB_Testing\",\"After_AB_Testing\")"
   ]
  },
  {
   "cell_type": "code",
   "execution_count": 143,
   "metadata": {},
   "outputs": [
    {
     "data": {
      "image/png": "[encoded data removed]",
      "text/plain": [
       "<Figure size 432x288 with 1 Axes>"
      ]
     },
     "metadata": {},
     "output_type": "display_data"
    }
   ],
   "source": [
    "build_dist(before_AB_treatment_base_table_noout[before_AB_treatment_base_table_noout[\"gender\"] == \"female\"],\n",
    "           after_AB_treatment_base_table_noout[after_AB_treatment_base_table_noout[\"gender\"] == \"female\"],\n",
    "           \"active_mins\",\"active_mins\",\"female\", \"before_AB_Testing\",\"After_AB_Testing\")"
   ]
  },
  {
   "cell_type": "code",
   "execution_count": 144,
   "metadata": {},
   "outputs": [
    {
     "data": {
      "image/png": "[encoded data removed]",
      "text/plain": [
       "<Figure size 432x288 with 1 Axes>"
      ]
     },
     "metadata": {},
     "output_type": "display_data"
    }
   ],
   "source": [
    "build_dist(before_AB_treatment_base_table_noout[before_AB_treatment_base_table_noout[\"gender\"] == \"unknown\"],\n",
    "           after_AB_treatment_base_table_noout[after_AB_treatment_base_table_noout[\"gender\"] == \"unknown\"],\n",
    "           \"active_mins\",\"active_mins\",\"unknown\", \"before_AB_Testing\",\"After_AB_Testing\")"
   ]
  },
  {
   "cell_type": "markdown",
   "metadata": {},
   "source": [
    "#### Trying to see the change in number of visits over the entire data"
   ]
  },
  {
   "cell_type": "code",
   "execution_count": 145,
   "metadata": {
    "scrolled": true
   },
   "outputs": [
    {
     "data": {
      "text/html": [
       "<div>\n",
       "<style scoped>\n",
       "    .dataframe tbody tr th:only-of-type {\n",
       "        vertical-align: middle;\n",
       "    }\n",
       "\n",
       "    .dataframe tbody tr th {\n",
       "        vertical-align: top;\n",
       "    }\n",
       "\n",
       "    .dataframe thead th {\n",
       "        text-align: right;\n",
       "    }\n",
       "</style>\n",
       "<table border=\"1\" class=\"dataframe\">\n",
       "  <thead>\n",
       "    <tr style=\"text-align: right;\">\n",
       "      <th></th>\n",
       "      <th>uid</th>\n",
       "      <th>date</th>\n",
       "      <th>active_mins</th>\n",
       "      <th>variant_number</th>\n",
       "      <th>AB_Date</th>\n",
       "      <th>signup_date</th>\n",
       "      <th>gender</th>\n",
       "      <th>user_type</th>\n",
       "    </tr>\n",
       "  </thead>\n",
       "  <tbody>\n",
       "    <tr>\n",
       "      <td>0</td>\n",
       "      <td>40001</td>\n",
       "      <td>2018-08-12</td>\n",
       "      <td>1.0</td>\n",
       "      <td>1</td>\n",
       "      <td>2019-02-06</td>\n",
       "      <td>2017-04-29</td>\n",
       "      <td>male</td>\n",
       "      <td>non_reader</td>\n",
       "    </tr>\n",
       "    <tr>\n",
       "      <td>1</td>\n",
       "      <td>40001</td>\n",
       "      <td>2018-08-21</td>\n",
       "      <td>1.0</td>\n",
       "      <td>1</td>\n",
       "      <td>2019-02-06</td>\n",
       "      <td>2017-04-29</td>\n",
       "      <td>male</td>\n",
       "      <td>non_reader</td>\n",
       "    </tr>\n",
       "    <tr>\n",
       "      <td>2</td>\n",
       "      <td>40001</td>\n",
       "      <td>2018-09-21</td>\n",
       "      <td>5.0</td>\n",
       "      <td>1</td>\n",
       "      <td>2019-02-06</td>\n",
       "      <td>2017-04-29</td>\n",
       "      <td>male</td>\n",
       "      <td>non_reader</td>\n",
       "    </tr>\n",
       "    <tr>\n",
       "      <td>3</td>\n",
       "      <td>40001</td>\n",
       "      <td>2018-09-23</td>\n",
       "      <td>3.0</td>\n",
       "      <td>1</td>\n",
       "      <td>2019-02-06</td>\n",
       "      <td>2017-04-29</td>\n",
       "      <td>male</td>\n",
       "      <td>non_reader</td>\n",
       "    </tr>\n",
       "    <tr>\n",
       "      <td>4</td>\n",
       "      <td>40001</td>\n",
       "      <td>2018-10-03</td>\n",
       "      <td>1.0</td>\n",
       "      <td>1</td>\n",
       "      <td>2019-02-06</td>\n",
       "      <td>2017-04-29</td>\n",
       "      <td>male</td>\n",
       "      <td>non_reader</td>\n",
       "    </tr>\n",
       "  </tbody>\n",
       "</table>\n",
       "</div>"
      ],
      "text/plain": [
       "     uid        date  active_mins  variant_number    AB_Date signup_date  \\\n",
       "0  40001  2018-08-12          1.0               1 2019-02-06  2017-04-29   \n",
       "1  40001  2018-08-21          1.0               1 2019-02-06  2017-04-29   \n",
       "2  40001  2018-09-21          5.0               1 2019-02-06  2017-04-29   \n",
       "3  40001  2018-09-23          3.0               1 2019-02-06  2017-04-29   \n",
       "4  40001  2018-10-03          1.0               1 2019-02-06  2017-04-29   \n",
       "\n",
       "  gender   user_type  \n",
       "0   male  non_reader  \n",
       "1   male  non_reader  \n",
       "2   male  non_reader  \n",
       "3   male  non_reader  \n",
       "4   male  non_reader  "
      ]
     },
     "execution_count": 145,
     "metadata": {},
     "output_type": "execute_result"
    }
   ],
   "source": [
    "# Changing to date data-type\n",
    "before_AB_treatment_base_table_noout['AB_Date'] = pd.to_datetime(before_AB_treatment_base_table_noout['AB_Date'])\n",
    "before_AB_treatment_base_table_noout['signup_date'] = pd.to_datetime(before_AB_treatment_base_table_noout['signup_date'])\n",
    "before_AB_treatment_base_table_noout.head()"
   ]
  },
  {
   "cell_type": "code",
   "execution_count": 146,
   "metadata": {},
   "outputs": [],
   "source": [
    "user_count_before_AB = pd.DataFrame(before_AB_treatment_base_table_noout['uid'].value_counts())\n",
    "user_count_before_AB.reset_index(inplace = True)\n",
    "user_count_before_AB.rename(columns = {'uid':'before_count', 'index':'uid'}, inplace = True)\n",
    "user_count_after_AB = pd.DataFrame(after_AB_treatment_base_table_noout['uid'].value_counts())\n",
    "user_count_after_AB.reset_index(inplace = True)\n",
    "user_count_after_AB.rename(columns = {'uid':'after_count', 'index':'uid'}, inplace = True)"
   ]
  },
  {
   "cell_type": "code",
   "execution_count": 147,
   "metadata": {},
   "outputs": [
    {
     "data": {
      "image/png": "[encoded data removed]",
      "text/plain": [
       "<Figure size 432x288 with 1 Axes>"
      ]
     },
     "metadata": {},
     "output_type": "display_data"
    }
   ],
   "source": [
    "build_dist(user_count_before_AB,user_count_after_AB,'before_count','after_count','frequency of visit', \"before_AB_Testing\",\"After_AB_Testing\")"
   ]
  },
  {
   "cell_type": "code",
   "execution_count": 148,
   "metadata": {},
   "outputs": [],
   "source": [
    "frequency_AB_effect = pd.merge(user_count_before_AB, user_count_after_AB, how = \"inner\", on = \"uid\")\n",
    "sample_df = pd.DataFrame(after_AB_treatment_base_table_noout.groupby(['uid'])[['gender','user_type']].min())\n",
    "\n",
    "frequency_AB_effect = pd.merge(frequency_AB_effect, sample_df, how = \"left\", on = \"uid\")\n",
    "visit_increased_0_1 = []\n",
    "attribute_visit_increased = []\n",
    "attribute_visit_decreased = []\n",
    "for index,row in frequency_AB_effect.iterrows():\n",
    "    if row['after_count'] > row['before_count']:\n",
    "        visit_increased_0_1.append(1)\n",
    "        attribute_visit_increased.append([row['gender'],row['user_type']])\n",
    "    else:\n",
    "        visit_increased_0_1.append(0)\n",
    "        attribute_visit_decreased.append([row['gender'],row['user_type']])\n",
    "        \n",
    "        \n",
    "a = pd.DataFrame(attribute_visit_increased)\n",
    "b = pd.DataFrame(attribute_visit_decreased)\n",
    "\n",
    "\n",
    "analysis_increased_gender = pd.DataFrame(a[0].value_counts())\n",
    "analysis_increased_gender.reset_index(inplace = True)\n",
    "\n",
    "analysis_increased_gender.rename(columns = {0:'increased_after_AB_Testing', 'index':'gender'}, inplace = True)\n",
    "\n",
    "analysis_increased_user_type= pd.DataFrame(a[1].value_counts())\n",
    "analysis_increased_user_type.reset_index(inplace = True)\n",
    "\n",
    "analysis_increased_user_type.rename(columns = {1:'increased_after_AB_Testing', 'index':'user_type'}, inplace = True)\n",
    "\n",
    "analysis_decreased_gender = pd.DataFrame(b[0].value_counts())\n",
    "analysis_decreased_gender.reset_index(inplace = True)\n",
    "\n",
    "analysis_decreased_gender.rename(columns = {0:'decreased_after_AB_Testing', 'index':'gender'}, inplace = True)\n",
    "\n",
    "analysis_decreased_user_type= pd.DataFrame(b[1].value_counts())\n",
    "analysis_decreased_user_type.reset_index(inplace = True)\n",
    "analysis_decreased_user_type.rename(columns = {1:'decreased_after_AB_Testing', 'index':'user_type'}, inplace = True)\n",
    "\n",
    "analysis_gender_AB = pd.merge(analysis_increased_gender, analysis_decreased_gender,\n",
    "                             how = \"inner\", on = \"gender\")\n",
    "\n",
    "analysis_usertype_AB = pd.merge(analysis_increased_user_type, analysis_decreased_user_type,\n",
    "                             how = \"inner\", on = \"user_type\")"
   ]
  },
  {
   "cell_type": "code",
   "execution_count": 149,
   "metadata": {},
   "outputs": [
    {
     "data": {
      "text/html": [
       "<div>\n",
       "<style scoped>\n",
       "    .dataframe tbody tr th:only-of-type {\n",
       "        vertical-align: middle;\n",
       "    }\n",
       "\n",
       "    .dataframe tbody tr th {\n",
       "        vertical-align: top;\n",
       "    }\n",
       "\n",
       "    .dataframe thead th {\n",
       "        text-align: right;\n",
       "    }\n",
       "</style>\n",
       "<table border=\"1\" class=\"dataframe\">\n",
       "  <thead>\n",
       "    <tr style=\"text-align: right;\">\n",
       "      <th></th>\n",
       "      <th>user_type</th>\n",
       "      <th>increased_after_AB_Testing</th>\n",
       "      <th>decreased_after_AB_Testing</th>\n",
       "    </tr>\n",
       "  </thead>\n",
       "  <tbody>\n",
       "    <tr>\n",
       "      <td>0</td>\n",
       "      <td>non_reader</td>\n",
       "      <td>2554</td>\n",
       "      <td>4451</td>\n",
       "    </tr>\n",
       "    <tr>\n",
       "      <td>1</td>\n",
       "      <td>new_user</td>\n",
       "      <td>546</td>\n",
       "      <td>223</td>\n",
       "    </tr>\n",
       "    <tr>\n",
       "      <td>2</td>\n",
       "      <td>reader</td>\n",
       "      <td>455</td>\n",
       "      <td>804</td>\n",
       "    </tr>\n",
       "    <tr>\n",
       "      <td>3</td>\n",
       "      <td>contributor</td>\n",
       "      <td>49</td>\n",
       "      <td>77</td>\n",
       "    </tr>\n",
       "  </tbody>\n",
       "</table>\n",
       "</div>"
      ],
      "text/plain": [
       "     user_type  increased_after_AB_Testing  decreased_after_AB_Testing\n",
       "0   non_reader                        2554                        4451\n",
       "1     new_user                         546                         223\n",
       "2       reader                         455                         804\n",
       "3  contributor                          49                          77"
      ]
     },
     "execution_count": 149,
     "metadata": {},
     "output_type": "execute_result"
    }
   ],
   "source": [
    "analysis_usertype_AB.head()"
   ]
  },
  {
   "cell_type": "code",
   "execution_count": 150,
   "metadata": {},
   "outputs": [
    {
     "data": {
      "text/html": [
       "<div>\n",
       "<style scoped>\n",
       "    .dataframe tbody tr th:only-of-type {\n",
       "        vertical-align: middle;\n",
       "    }\n",
       "\n",
       "    .dataframe tbody tr th {\n",
       "        vertical-align: top;\n",
       "    }\n",
       "\n",
       "    .dataframe thead th {\n",
       "        text-align: right;\n",
       "    }\n",
       "</style>\n",
       "<table border=\"1\" class=\"dataframe\">\n",
       "  <thead>\n",
       "    <tr style=\"text-align: right;\">\n",
       "      <th></th>\n",
       "      <th>gender</th>\n",
       "      <th>increased_after_AB_Testing</th>\n",
       "      <th>decreased_after_AB_Testing</th>\n",
       "    </tr>\n",
       "  </thead>\n",
       "  <tbody>\n",
       "    <tr>\n",
       "      <td>0</td>\n",
       "      <td>male</td>\n",
       "      <td>1995</td>\n",
       "      <td>3127</td>\n",
       "    </tr>\n",
       "    <tr>\n",
       "      <td>1</td>\n",
       "      <td>female</td>\n",
       "      <td>1044</td>\n",
       "      <td>1545</td>\n",
       "    </tr>\n",
       "    <tr>\n",
       "      <td>2</td>\n",
       "      <td>unknown</td>\n",
       "      <td>565</td>\n",
       "      <td>883</td>\n",
       "    </tr>\n",
       "  </tbody>\n",
       "</table>\n",
       "</div>"
      ],
      "text/plain": [
       "    gender  increased_after_AB_Testing  decreased_after_AB_Testing\n",
       "0     male                        1995                        3127\n",
       "1   female                        1044                        1545\n",
       "2  unknown                         565                         883"
      ]
     },
     "execution_count": 150,
     "metadata": {},
     "output_type": "execute_result"
    }
   ],
   "source": [
    "analysis_gender_AB.head()"
   ]
  },
  {
   "cell_type": "markdown",
   "metadata": {},
   "source": [
    "#### Trying to see the change in amount of time spent over the entire data"
   ]
  },
  {
   "cell_type": "code",
   "execution_count": 151,
   "metadata": {},
   "outputs": [],
   "source": [
    "before_AB = pd.DataFrame(before_AB_treatment_base_table_noout.groupby(['uid'])['active_mins'].sum())\n",
    "after_AB = pd.DataFrame(after_AB_treatment_base_table_noout.groupby(['uid'])['active_mins'].sum())\n",
    "after_AB.reset_index(inplace = True)\n",
    "after_AB.rename(columns = {'active_mins':'total_active_time_after_AB_testing'}, inplace = True)\n",
    "before_AB.reset_index(inplace = True)\n",
    "before_AB.rename(columns = {'active_mins':'total_active_time_before_AB_testing'}, inplace = True)\n",
    "\n",
    "active_min_AB_testing_analysis = pd.merge(before_AB,after_AB, on = \"uid\", how = \"inner\")\n",
    "active_min_AB_testing_analysis = pd.merge(active_min_AB_testing_analysis,\n",
    "                                          t4_user_attributes, how = 'left', on = \"uid\")\n",
    "\n",
    "visit_increased_0_1 = []\n",
    "attribute_visit_increased = []\n",
    "attribute_visit_decreased = []\n",
    "for index,row in active_min_AB_testing_analysis.iterrows():\n",
    "    if row['total_active_time_after_AB_testing'] > row['total_active_time_before_AB_testing']:\n",
    "        visit_increased_0_1.append(1)\n",
    "        attribute_visit_increased.append([row['gender'],row['user_type']])\n",
    "    else:\n",
    "        visit_increased_0_1.append(0)\n",
    "        attribute_visit_decreased.append([row['gender'],row['user_type']])\n",
    "        \n",
    "        \n",
    "a = pd.DataFrame(attribute_visit_increased)\n",
    "b = pd.DataFrame(attribute_visit_decreased)\n",
    "\n",
    "\n",
    "time_increased_gender = pd.DataFrame(a[0].value_counts())\n",
    "time_increased_gender.reset_index(inplace = True)\n",
    "\n",
    "time_increased_gender.rename(columns = {0:'increased_after_AB_Testing', 'index':'gender'}, inplace = True)\n",
    "\n",
    "time_increased_user_type= pd.DataFrame(a[1].value_counts())\n",
    "time_increased_user_type.reset_index(inplace = True)\n",
    "\n",
    "time_increased_user_type.rename(columns = {1:'increased_after_AB_Testing', 'index':'user_type'}, inplace = True)\n",
    "\n",
    "time_decreased_gender = pd.DataFrame(b[0].value_counts())\n",
    "time_decreased_gender.reset_index(inplace = True)\n",
    "\n",
    "time_decreased_gender.rename(columns = {0:'decreased_after_AB_Testing', 'index':'gender'}, inplace = True)\n",
    "\n",
    "time_decreased_user_type= pd.DataFrame(b[1].value_counts())\n",
    "time_decreased_user_type.reset_index(inplace = True)\n",
    "time_decreased_user_type.rename(columns = {1:'decreased_after_AB_Testing', 'index':'user_type'}, inplace = True)\n",
    "\n",
    "time_analysis_gender_AB = pd.merge(analysis_increased_gender, analysis_decreased_gender,\n",
    "                             how = \"inner\", on = \"gender\")\n",
    "\n",
    "time_analysis_usertype_AB = pd.merge(analysis_increased_user_type, analysis_decreased_user_type,\n",
    "                             how = \"inner\", on = \"user_type\")"
   ]
  },
  {
   "cell_type": "code",
   "execution_count": 152,
   "metadata": {},
   "outputs": [
    {
     "data": {
      "text/html": [
       "<div>\n",
       "<style scoped>\n",
       "    .dataframe tbody tr th:only-of-type {\n",
       "        vertical-align: middle;\n",
       "    }\n",
       "\n",
       "    .dataframe tbody tr th {\n",
       "        vertical-align: top;\n",
       "    }\n",
       "\n",
       "    .dataframe thead th {\n",
       "        text-align: right;\n",
       "    }\n",
       "</style>\n",
       "<table border=\"1\" class=\"dataframe\">\n",
       "  <thead>\n",
       "    <tr style=\"text-align: right;\">\n",
       "      <th></th>\n",
       "      <th>gender</th>\n",
       "      <th>increased_after_AB_Testing</th>\n",
       "      <th>decreased_after_AB_Testing</th>\n",
       "    </tr>\n",
       "  </thead>\n",
       "  <tbody>\n",
       "    <tr>\n",
       "      <td>0</td>\n",
       "      <td>male</td>\n",
       "      <td>1995</td>\n",
       "      <td>3127</td>\n",
       "    </tr>\n",
       "    <tr>\n",
       "      <td>1</td>\n",
       "      <td>female</td>\n",
       "      <td>1044</td>\n",
       "      <td>1545</td>\n",
       "    </tr>\n",
       "    <tr>\n",
       "      <td>2</td>\n",
       "      <td>unknown</td>\n",
       "      <td>565</td>\n",
       "      <td>883</td>\n",
       "    </tr>\n",
       "  </tbody>\n",
       "</table>\n",
       "</div>"
      ],
      "text/plain": [
       "    gender  increased_after_AB_Testing  decreased_after_AB_Testing\n",
       "0     male                        1995                        3127\n",
       "1   female                        1044                        1545\n",
       "2  unknown                         565                         883"
      ]
     },
     "execution_count": 152,
     "metadata": {},
     "output_type": "execute_result"
    }
   ],
   "source": [
    "time_analysis_gender_AB.head()"
   ]
  },
  {
   "cell_type": "code",
   "execution_count": 153,
   "metadata": {},
   "outputs": [
    {
     "data": {
      "text/html": [
       "<div>\n",
       "<style scoped>\n",
       "    .dataframe tbody tr th:only-of-type {\n",
       "        vertical-align: middle;\n",
       "    }\n",
       "\n",
       "    .dataframe tbody tr th {\n",
       "        vertical-align: top;\n",
       "    }\n",
       "\n",
       "    .dataframe thead th {\n",
       "        text-align: right;\n",
       "    }\n",
       "</style>\n",
       "<table border=\"1\" class=\"dataframe\">\n",
       "  <thead>\n",
       "    <tr style=\"text-align: right;\">\n",
       "      <th></th>\n",
       "      <th>user_type</th>\n",
       "      <th>increased_after_AB_Testing</th>\n",
       "      <th>decreased_after_AB_Testing</th>\n",
       "    </tr>\n",
       "  </thead>\n",
       "  <tbody>\n",
       "    <tr>\n",
       "      <td>0</td>\n",
       "      <td>non_reader</td>\n",
       "      <td>2554</td>\n",
       "      <td>4451</td>\n",
       "    </tr>\n",
       "    <tr>\n",
       "      <td>1</td>\n",
       "      <td>new_user</td>\n",
       "      <td>546</td>\n",
       "      <td>223</td>\n",
       "    </tr>\n",
       "    <tr>\n",
       "      <td>2</td>\n",
       "      <td>reader</td>\n",
       "      <td>455</td>\n",
       "      <td>804</td>\n",
       "    </tr>\n",
       "    <tr>\n",
       "      <td>3</td>\n",
       "      <td>contributor</td>\n",
       "      <td>49</td>\n",
       "      <td>77</td>\n",
       "    </tr>\n",
       "  </tbody>\n",
       "</table>\n",
       "</div>"
      ],
      "text/plain": [
       "     user_type  increased_after_AB_Testing  decreased_after_AB_Testing\n",
       "0   non_reader                        2554                        4451\n",
       "1     new_user                         546                         223\n",
       "2       reader                         455                         804\n",
       "3  contributor                          49                          77"
      ]
     },
     "execution_count": 153,
     "metadata": {},
     "output_type": "execute_result"
    }
   ],
   "source": [
    "time_analysis_usertype_AB.head()"
   ]
  },
  {
   "cell_type": "markdown",
   "metadata": {},
   "source": [
    "#### Between control and treatment group "
   ]
  },
  {
   "cell_type": "code",
   "execution_count": 154,
   "metadata": {},
   "outputs": [],
   "source": [
    "after_AB_control_base_table_noout = after_AB_control_base_table[after_AB_control_base_table.active_mins < np.percentile(after_AB_control_base_table.active_mins,92)]\n",
    "after_AB_treatment_base_table_noout = after_AB_treatment_base_table[after_AB_treatment_base_table.active_mins < np.percentile(after_AB_treatment_base_table.active_mins,92)]"
   ]
  },
  {
   "cell_type": "code",
   "execution_count": 155,
   "metadata": {},
   "outputs": [
    {
     "data": {
      "image/png": "[encoded data removed]",
      "text/plain": [
       "<Figure size 432x288 with 1 Axes>"
      ]
     },
     "metadata": {},
     "output_type": "display_data"
    }
   ],
   "source": [
    "build_dist(after_AB_control_base_table,after_AB_treatment_base_table,\n",
    "           \"active_mins\",\"active_mins\",\"total_active_mins\",\"Control\",\"Treatment\")"
   ]
  },
  {
   "cell_type": "code",
   "execution_count": 156,
   "metadata": {},
   "outputs": [
    {
     "data": {
      "image/png": "[encoded data removed]",
      "text/plain": [
       "<Figure size 432x288 with 1 Axes>"
      ]
     },
     "metadata": {},
     "output_type": "display_data"
    }
   ],
   "source": [
    "build_dist(after_AB_control_base_table_noout[(after_AB_control_base_table_noout[\"gender\"] == \"female\")&(after_AB_control_base_table_noout[\"user_type\"] == \"reader\")],\n",
    "           after_AB_treatment_base_table_noout[(after_AB_treatment_base_table_noout[\"gender\"] == \"female\")&(after_AB_treatment_base_table_noout[\"user_type\"] == \"reader\")],\n",
    "           \"active_mins\",\"active_mins\",\"female_reader\",\"Control\",\"Treatment\")"
   ]
  },
  {
   "cell_type": "code",
   "execution_count": 157,
   "metadata": {},
   "outputs": [
    {
     "data": {
      "image/png": "[encoded data removed]",
      "text/plain": [
       "<Figure size 432x288 with 1 Axes>"
      ]
     },
     "metadata": {},
     "output_type": "display_data"
    }
   ],
   "source": [
    "build_dist(after_AB_control_base_table_noout[(after_AB_control_base_table_noout[\"gender\"] == \"male\")&(after_AB_control_base_table_noout[\"user_type\"] == \"reader\")],\n",
    "           after_AB_treatment_base_table_noout[(after_AB_treatment_base_table_noout[\"gender\"] == \"male\")&(after_AB_treatment_base_table_noout[\"user_type\"] == \"reader\")],\n",
    "           \"active_mins\",\"active_mins\",\"male_reader\", \"Control\", \"Treatment\")"
   ]
  },
  {
   "cell_type": "code",
   "execution_count": 158,
   "metadata": {},
   "outputs": [
    {
     "data": {
      "image/png": "[encoded data removed]",
      "text/plain": [
       "<Figure size 432x288 with 1 Axes>"
      ]
     },
     "metadata": {},
     "output_type": "display_data"
    }
   ],
   "source": [
    "build_dist(after_AB_control_base_table_noout[(after_AB_control_base_table_noout[\"gender\"] == \"female\")&(after_AB_control_base_table_noout[\"user_type\"] == \"non_reader\")],\n",
    "           after_AB_treatment_base_table_noout[(after_AB_treatment_base_table_noout[\"gender\"] == \"female\")&(after_AB_treatment_base_table_noout[\"user_type\"] == \"non_reader\")],\n",
    "           \"active_mins\",\"active_mins\",\"female_non_reader\", \"Control\", \"Treatment\")"
   ]
  },
  {
   "cell_type": "code",
   "execution_count": 159,
   "metadata": {},
   "outputs": [
    {
     "data": {
      "image/png": "[encoded data removed]",
      "text/plain": [
       "<Figure size 432x288 with 1 Axes>"
      ]
     },
     "metadata": {},
     "output_type": "display_data"
    }
   ],
   "source": [
    "build_dist(after_AB_control_base_table_noout[(after_AB_control_base_table_noout[\"gender\"] == \"male\")&(after_AB_control_base_table_noout[\"user_type\"] == \"non_reader\")],\n",
    "           after_AB_treatment_base_table_noout[(after_AB_treatment_base_table_noout[\"gender\"] == \"male\")&(after_AB_treatment_base_table_noout[\"user_type\"] == \"non_reader\")],\n",
    "           \"active_mins\",\"active_mins\", \"male_non_reader\", \"Control\", \"Treatment\")"
   ]
  },
  {
   "cell_type": "code",
   "execution_count": 160,
   "metadata": {},
   "outputs": [
    {
     "data": {
      "image/png": "[encoded data removed]",
      "text/plain": [
       "<Figure size 432x288 with 1 Axes>"
      ]
     },
     "metadata": {},
     "output_type": "display_data"
    }
   ],
   "source": [
    "build_dist(after_AB_control_base_table_noout[(after_AB_control_base_table_noout[\"gender\"] == \"female\")&(after_AB_control_base_table_noout[\"user_type\"] == \"contributor\")],\n",
    "           after_AB_treatment_base_table_noout[(after_AB_treatment_base_table_noout[\"gender\"] == \"female\")&(after_AB_treatment_base_table_noout[\"user_type\"] == \"contributor\")],\n",
    "           \"active_mins\",\"active_mins\",\"female_contributor\", \"Control\", \"Treatment\")"
   ]
  },
  {
   "cell_type": "code",
   "execution_count": 161,
   "metadata": {},
   "outputs": [
    {
     "data": {
      "image/png": "[encoded data removed]",
      "text/plain": [
       "<Figure size 432x288 with 1 Axes>"
      ]
     },
     "metadata": {},
     "output_type": "display_data"
    }
   ],
   "source": [
    "build_dist(after_AB_control_base_table_noout[(after_AB_control_base_table_noout[\"gender\"] == \"male\")&(after_AB_control_base_table_noout[\"user_type\"] == \"contributor\")],\n",
    "           after_AB_treatment_base_table_noout[(after_AB_treatment_base_table_noout[\"gender\"] == \"male\")&(after_AB_treatment_base_table_noout[\"user_type\"] == \"contributor\")],\n",
    "           \"active_mins\",\"active_mins\",\"male_contributor\", \"Control\", \"Treatment\")"
   ]
  },
  {
   "cell_type": "code",
   "execution_count": 162,
   "metadata": {},
   "outputs": [
    {
     "data": {
      "image/png": "[encoded data removed]",
      "text/plain": [
       "<Figure size 432x288 with 1 Axes>"
      ]
     },
     "metadata": {},
     "output_type": "display_data"
    }
   ],
   "source": [
    "build_dist(after_AB_control_base_table_noout[(after_AB_control_base_table_noout[\"gender\"] == \"female\")&(after_AB_control_base_table_noout[\"user_type\"] == \"new_user\")],\n",
    "           after_AB_treatment_base_table_noout[(after_AB_treatment_base_table_noout[\"gender\"] == \"female\")&(after_AB_treatment_base_table_noout[\"user_type\"] == \"new_user\")],\n",
    "           \"active_mins\",\"active_mins\",\"female_new_user\", \"Control\", \"Treatment\")"
   ]
  },
  {
   "cell_type": "code",
   "execution_count": 163,
   "metadata": {},
   "outputs": [
    {
     "data": {
      "image/png": "[encoded data removed]",
      "text/plain": [
       "<Figure size 432x288 with 1 Axes>"
      ]
     },
     "metadata": {},
     "output_type": "display_data"
    }
   ],
   "source": [
    "build_dist(after_AB_control_base_table_noout[(after_AB_control_base_table_noout[\"gender\"] == \"male\")&(after_AB_control_base_table_noout[\"user_type\"] == \"new_user\")],\n",
    "           after_AB_treatment_base_table_noout[(after_AB_treatment_base_table_noout[\"gender\"] == \"male\")&(after_AB_treatment_base_table_noout[\"user_type\"] == \"new_user\")],\n",
    "           \"active_mins\",\"active_mins\",\"male_new_user\", \"Control\", \"Treatment\")"
   ]
  },
  {
   "cell_type": "markdown",
   "metadata": {},
   "source": [
    "#### Regrression and p-value analysis"
   ]
  },
  {
   "cell_type": "code",
   "execution_count": 164,
   "metadata": {},
   "outputs": [],
   "source": [
    "before_AB_treatment_base_table['date'] = pd.to_datetime(before_AB_treatment_base_table['date'])\n",
    "before_AB_treatment_base_table['AB_Date'] = pd.to_datetime(before_AB_treatment_base_table['AB_Date'])\n",
    "before_AB_treatment_base_table['signup_date'] = pd.to_datetime(before_AB_treatment_base_table['signup_date'])\n",
    "\n",
    "after_AB_control_base_table['date'] = pd.to_datetime(after_AB_control_base_table['date'])\n",
    "after_AB_control_base_table['AB_Date'] = pd.to_datetime(after_AB_control_base_table['AB_Date'])\n",
    "after_AB_control_base_table['signup_date'] = pd.to_datetime(after_AB_control_base_table['signup_date'])\n",
    "\n",
    "after_AB_treatment_base_table['date'] = pd.to_datetime(after_AB_treatment_base_table['date'])\n",
    "after_AB_treatment_base_table['AB_Date'] = pd.to_datetime(after_AB_treatment_base_table['AB_Date'])\n",
    "after_AB_treatment_base_table['signup_date'] = pd.to_datetime(after_AB_treatment_base_table['signup_date'])\n",
    "\n",
    "before_AB_control_base_table['date'] = pd.to_datetime(before_AB_control_base_table['date'])\n",
    "before_AB_control_base_table['AB_Date'] = pd.to_datetime(before_AB_control_base_table['AB_Date'])\n",
    "before_AB_control_base_table['signup_date'] = pd.to_datetime(before_AB_control_base_table['signup_date'])\n"
   ]
  },
  {
   "cell_type": "code",
   "execution_count": 165,
   "metadata": {},
   "outputs": [],
   "source": [
    "before_AB_control_base_table['days_since_signup'] = before_AB_control_base_table['AB_Date'] - before_AB_control_base_table['signup_date']\n",
    "before_AB_control_base_table['days_since_signup'] = before_AB_control_base_table['days_since_signup'].apply(lambda x:x.days)\n",
    "\n",
    "after_AB_control_base_table['days_since_signup'] = after_AB_control_base_table['AB_Date'] - after_AB_control_base_table['signup_date']\n",
    "after_AB_control_base_table['days_since_signup'] = after_AB_control_base_table['days_since_signup'].apply(lambda x:x.days)\n",
    "\n",
    "after_AB_treatment_base_table['days_since_signup'] = after_AB_treatment_base_table['AB_Date'] - after_AB_treatment_base_table['signup_date']\n",
    "after_AB_treatment_base_table['days_since_signup'] = after_AB_treatment_base_table['days_since_signup'].apply(lambda x:x.days)\n",
    "\n",
    "before_AB_control_base_table['days_since_signup'] = before_AB_control_base_table['AB_Date'] - before_AB_control_base_table['signup_date']\n",
    "before_AB_control_base_table['days_since_signup'] = before_AB_control_base_table['days_since_signup'].apply(lambda x:x.days)"
   ]
  },
  {
   "cell_type": "code",
   "execution_count": 166,
   "metadata": {},
   "outputs": [
    {
     "data": {
      "text/html": [
       "<div>\n",
       "<style scoped>\n",
       "    .dataframe tbody tr th:only-of-type {\n",
       "        vertical-align: middle;\n",
       "    }\n",
       "\n",
       "    .dataframe tbody tr th {\n",
       "        vertical-align: top;\n",
       "    }\n",
       "\n",
       "    .dataframe thead th {\n",
       "        text-align: right;\n",
       "    }\n",
       "</style>\n",
       "<table border=\"1\" class=\"dataframe\">\n",
       "  <thead>\n",
       "    <tr style=\"text-align: right;\">\n",
       "      <th></th>\n",
       "      <th>uid</th>\n",
       "      <th>date</th>\n",
       "      <th>active_mins</th>\n",
       "      <th>variant_number</th>\n",
       "      <th>AB_Date</th>\n",
       "      <th>signup_date</th>\n",
       "      <th>gender</th>\n",
       "      <th>user_type</th>\n",
       "      <th>days_since_signup</th>\n",
       "    </tr>\n",
       "  </thead>\n",
       "  <tbody>\n",
       "    <tr>\n",
       "      <td>0</td>\n",
       "      <td>40001</td>\n",
       "      <td>2019-02-14</td>\n",
       "      <td>16.0</td>\n",
       "      <td>1</td>\n",
       "      <td>2019-02-06</td>\n",
       "      <td>2017-04-29</td>\n",
       "      <td>male</td>\n",
       "      <td>non_reader</td>\n",
       "      <td>648</td>\n",
       "    </tr>\n",
       "    <tr>\n",
       "      <td>1</td>\n",
       "      <td>40001</td>\n",
       "      <td>2019-02-17</td>\n",
       "      <td>5.0</td>\n",
       "      <td>1</td>\n",
       "      <td>2019-02-06</td>\n",
       "      <td>2017-04-29</td>\n",
       "      <td>male</td>\n",
       "      <td>non_reader</td>\n",
       "      <td>648</td>\n",
       "    </tr>\n",
       "    <tr>\n",
       "      <td>2</td>\n",
       "      <td>40001</td>\n",
       "      <td>2019-02-22</td>\n",
       "      <td>16.0</td>\n",
       "      <td>1</td>\n",
       "      <td>2019-02-06</td>\n",
       "      <td>2017-04-29</td>\n",
       "      <td>male</td>\n",
       "      <td>non_reader</td>\n",
       "      <td>648</td>\n",
       "    </tr>\n",
       "    <tr>\n",
       "      <td>3</td>\n",
       "      <td>40001</td>\n",
       "      <td>2019-02-24</td>\n",
       "      <td>5.0</td>\n",
       "      <td>1</td>\n",
       "      <td>2019-02-06</td>\n",
       "      <td>2017-04-29</td>\n",
       "      <td>male</td>\n",
       "      <td>non_reader</td>\n",
       "      <td>648</td>\n",
       "    </tr>\n",
       "    <tr>\n",
       "      <td>4</td>\n",
       "      <td>40001</td>\n",
       "      <td>2019-02-25</td>\n",
       "      <td>34.0</td>\n",
       "      <td>1</td>\n",
       "      <td>2019-02-06</td>\n",
       "      <td>2017-04-29</td>\n",
       "      <td>male</td>\n",
       "      <td>non_reader</td>\n",
       "      <td>648</td>\n",
       "    </tr>\n",
       "  </tbody>\n",
       "</table>\n",
       "</div>"
      ],
      "text/plain": [
       "     uid       date  active_mins  variant_number    AB_Date signup_date  \\\n",
       "0  40001 2019-02-14         16.0               1 2019-02-06  2017-04-29   \n",
       "1  40001 2019-02-17          5.0               1 2019-02-06  2017-04-29   \n",
       "2  40001 2019-02-22         16.0               1 2019-02-06  2017-04-29   \n",
       "3  40001 2019-02-24          5.0               1 2019-02-06  2017-04-29   \n",
       "4  40001 2019-02-25         34.0               1 2019-02-06  2017-04-29   \n",
       "\n",
       "  gender   user_type  days_since_signup  \n",
       "0   male  non_reader                648  \n",
       "1   male  non_reader                648  \n",
       "2   male  non_reader                648  \n",
       "3   male  non_reader                648  \n",
       "4   male  non_reader                648  "
      ]
     },
     "execution_count": 166,
     "metadata": {},
     "output_type": "execute_result"
    }
   ],
   "source": [
    "after_AB_treatment_base_table.head()"
   ]
  },
  {
   "cell_type": "code",
   "execution_count": 167,
   "metadata": {},
   "outputs": [],
   "source": [
    "col_to_drop = ['date','AB_Date','signup_date']"
   ]
  },
  {
   "cell_type": "code",
   "execution_count": 168,
   "metadata": {},
   "outputs": [
    {
     "data": {
      "text/html": [
       "<div>\n",
       "<style scoped>\n",
       "    .dataframe tbody tr th:only-of-type {\n",
       "        vertical-align: middle;\n",
       "    }\n",
       "\n",
       "    .dataframe tbody tr th {\n",
       "        vertical-align: top;\n",
       "    }\n",
       "\n",
       "    .dataframe thead th {\n",
       "        text-align: right;\n",
       "    }\n",
       "</style>\n",
       "<table border=\"1\" class=\"dataframe\">\n",
       "  <thead>\n",
       "    <tr style=\"text-align: right;\">\n",
       "      <th></th>\n",
       "      <th>uid</th>\n",
       "      <th>date</th>\n",
       "      <th>active_mins</th>\n",
       "      <th>variant_number</th>\n",
       "      <th>AB_Date</th>\n",
       "      <th>signup_date</th>\n",
       "      <th>gender</th>\n",
       "      <th>user_type</th>\n",
       "      <th>days_since_signup</th>\n",
       "    </tr>\n",
       "  </thead>\n",
       "  <tbody>\n",
       "    <tr>\n",
       "      <td>0</td>\n",
       "      <td>0</td>\n",
       "      <td>2018-09-24</td>\n",
       "      <td>3.0</td>\n",
       "      <td>0</td>\n",
       "      <td>2019-02-06</td>\n",
       "      <td>2018-09-24</td>\n",
       "      <td>male</td>\n",
       "      <td>non_reader</td>\n",
       "      <td>135</td>\n",
       "    </tr>\n",
       "    <tr>\n",
       "      <td>1</td>\n",
       "      <td>0</td>\n",
       "      <td>2018-11-08</td>\n",
       "      <td>4.0</td>\n",
       "      <td>0</td>\n",
       "      <td>2019-02-06</td>\n",
       "      <td>2018-09-24</td>\n",
       "      <td>male</td>\n",
       "      <td>non_reader</td>\n",
       "      <td>135</td>\n",
       "    </tr>\n",
       "    <tr>\n",
       "      <td>2</td>\n",
       "      <td>0</td>\n",
       "      <td>2018-11-24</td>\n",
       "      <td>3.0</td>\n",
       "      <td>0</td>\n",
       "      <td>2019-02-06</td>\n",
       "      <td>2018-09-24</td>\n",
       "      <td>male</td>\n",
       "      <td>non_reader</td>\n",
       "      <td>135</td>\n",
       "    </tr>\n",
       "    <tr>\n",
       "      <td>3</td>\n",
       "      <td>0</td>\n",
       "      <td>2018-11-28</td>\n",
       "      <td>6.0</td>\n",
       "      <td>0</td>\n",
       "      <td>2019-02-06</td>\n",
       "      <td>2018-09-24</td>\n",
       "      <td>male</td>\n",
       "      <td>non_reader</td>\n",
       "      <td>135</td>\n",
       "    </tr>\n",
       "    <tr>\n",
       "      <td>4</td>\n",
       "      <td>0</td>\n",
       "      <td>2018-12-02</td>\n",
       "      <td>6.0</td>\n",
       "      <td>0</td>\n",
       "      <td>2019-02-06</td>\n",
       "      <td>2018-09-24</td>\n",
       "      <td>male</td>\n",
       "      <td>non_reader</td>\n",
       "      <td>135</td>\n",
       "    </tr>\n",
       "  </tbody>\n",
       "</table>\n",
       "</div>"
      ],
      "text/plain": [
       "   uid       date  active_mins  variant_number    AB_Date signup_date gender  \\\n",
       "0    0 2018-09-24          3.0               0 2019-02-06  2018-09-24   male   \n",
       "1    0 2018-11-08          4.0               0 2019-02-06  2018-09-24   male   \n",
       "2    0 2018-11-24          3.0               0 2019-02-06  2018-09-24   male   \n",
       "3    0 2018-11-28          6.0               0 2019-02-06  2018-09-24   male   \n",
       "4    0 2018-12-02          6.0               0 2019-02-06  2018-09-24   male   \n",
       "\n",
       "    user_type  days_since_signup  \n",
       "0  non_reader                135  \n",
       "1  non_reader                135  \n",
       "2  non_reader                135  \n",
       "3  non_reader                135  \n",
       "4  non_reader                135  "
      ]
     },
     "execution_count": 168,
     "metadata": {},
     "output_type": "execute_result"
    }
   ],
   "source": [
    "before_AB_control_base_table.head()"
   ]
  },
  {
   "cell_type": "code",
   "execution_count": 169,
   "metadata": {},
   "outputs": [],
   "source": [
    "dum_1 = pd.get_dummies(before_AB_control_base_table['gender'])\n",
    "dum_2 = pd.get_dummies(before_AB_control_base_table['user_type'])\n",
    "before_AB_control_base_table = pd.concat([before_AB_control_base_table,dum_1,dum_2], axis = 1)\n",
    "before_AB_control_base_table.drop(columns = col_to_drop, inplace = True)\n",
    "a = pd.DataFrame(before_AB_control_base_table['uid'].value_counts())\n",
    "a.reset_index(inplace = True)\n",
    "a.rename(columns = {'uid':'appearences','index':'uid'}, inplace = True)\n",
    "before_AB_control_base_table = pd.merge(before_AB_control_base_table,a,how = \"inner\",\n",
    "                                        on = \"uid\")\n",
    "col_to_group_by = list(before_AB_control_base_table.columns)\n",
    "col_to_group_by.remove('active_mins')\n",
    "before_AB_control_base_table = pd.DataFrame(before_AB_control_base_table.groupby(col_to_group_by)['active_mins'].sum())\n",
    "before_AB_control_base_table.reset_index(inplace = True)\n",
    "before_AB_control_base_table.drop(columns = ['user_type','gender'], inplace = True)\n",
    "before_AB_control_base_table['avg_time_per_user'] = before_AB_control_base_table['active_mins']/before_AB_control_base_table['appearences']\n",
    "before_AB_control_base_table.to_csv(\"before_AB_control_base_table.csv\", index = False)\n",
    "\n",
    "dum_1 = pd.get_dummies(before_AB_treatment_base_table['gender'])\n",
    "dum_2 = pd.get_dummies(before_AB_treatment_base_table['user_type'])\n",
    "before_AB_treatment_base_table = pd.concat([before_AB_treatment_base_table,dum_1,dum_2], axis = 1)\n",
    "before_AB_treatment_base_table.drop(columns = col_to_drop, inplace = True)\n",
    "a = pd.DataFrame(before_AB_treatment_base_table['uid'].value_counts())\n",
    "a.reset_index(inplace = True)\n",
    "a.rename(columns = {'uid':'appearences','index':'uid'}, inplace = True)\n",
    "before_AB_treatment_base_table = pd.merge(before_AB_treatment_base_table,a,how = \"inner\",\n",
    "                                        on = \"uid\")\n",
    "col_to_group_by = list(before_AB_treatment_base_table.columns)\n",
    "col_to_group_by.remove('active_mins')\n",
    "before_AB_treatment_base_table = pd.DataFrame(before_AB_treatment_base_table.groupby(col_to_group_by)['active_mins'].sum())\n",
    "before_AB_treatment_base_table.reset_index(inplace = True)\n",
    "before_AB_treatment_base_table.drop(columns = ['user_type','gender'], inplace = True)\n",
    "before_AB_treatment_base_table['avg_time_per_user'] = before_AB_treatment_base_table['active_mins']/before_AB_treatment_base_table['appearences']\n",
    "before_AB_treatment_base_table.to_csv(\"before_AB_treatment_base_table.csv\", index = False)\n",
    "\n",
    "\n",
    "dum_1 = pd.get_dummies(after_AB_control_base_table['gender'])\n",
    "dum_2 = pd.get_dummies(after_AB_control_base_table['user_type'])\n",
    "after_AB_control_base_table = pd.concat([after_AB_control_base_table,dum_1,dum_2], axis = 1)\n",
    "after_AB_control_base_table.drop(columns = col_to_drop, inplace = True)\n",
    "a = pd.DataFrame(after_AB_control_base_table['uid'].value_counts())\n",
    "a.reset_index(inplace = True)\n",
    "a.rename(columns = {'uid':'appearences','index':'uid'}, inplace = True)\n",
    "after_AB_control_base_table = pd.merge(after_AB_control_base_table,a,how = \"inner\",\n",
    "                                        on = \"uid\")\n",
    "col_to_group_by = list(after_AB_control_base_table.columns)\n",
    "col_to_group_by.remove('active_mins')\n",
    "after_AB_control_base_table = pd.DataFrame(after_AB_control_base_table.groupby(col_to_group_by)['active_mins'].sum())\n",
    "after_AB_control_base_table.reset_index(inplace = True)\n",
    "after_AB_control_base_table.drop(columns = ['user_type','gender'], inplace = True)\n",
    "after_AB_control_base_table['avg_time_per_user'] = after_AB_control_base_table['active_mins']/after_AB_control_base_table['appearences']\n",
    "after_AB_control_base_table.to_csv(\"after_AB_control_base_table.csv\", index = False)\n",
    "\n",
    "\n",
    "dum_1 = pd.get_dummies(after_AB_treatment_base_table['gender'])\n",
    "dum_2 = pd.get_dummies(after_AB_treatment_base_table['user_type'])\n",
    "after_AB_treatment_base_table = pd.concat([after_AB_treatment_base_table,dum_1,dum_2], axis = 1)\n",
    "after_AB_treatment_base_table.drop(columns = col_to_drop, inplace = True)\n",
    "a = pd.DataFrame(after_AB_treatment_base_table['uid'].value_counts())\n",
    "a.reset_index(inplace = True)\n",
    "a.rename(columns = {'uid':'appearences','index':'uid'}, inplace = True)\n",
    "after_AB_treatment_base_table = pd.merge(after_AB_treatment_base_table,a,how = \"inner\",\n",
    "                                        on = \"uid\")\n",
    "col_to_group_by = list(after_AB_treatment_base_table.columns)\n",
    "col_to_group_by.remove('active_mins')\n",
    "after_AB_treatment_base_table = pd.DataFrame(after_AB_treatment_base_table.groupby(col_to_group_by)['active_mins'].sum())\n",
    "after_AB_treatment_base_table.reset_index(inplace = True)\n",
    "after_AB_treatment_base_table.drop(columns = ['user_type','gender'], inplace = True)\n",
    "after_AB_treatment_base_table['avg_time_per_user'] = after_AB_treatment_base_table['active_mins']/after_AB_treatment_base_table['appearences']\n",
    "after_AB_treatment_base_table.to_csv(\"after_AB_treatment_base_table.csv\", index = False)"
   ]
  },
  {
   "cell_type": "code",
   "execution_count": 170,
   "metadata": {},
   "outputs": [
    {
     "data": {
      "text/html": [
       "<div>\n",
       "<style scoped>\n",
       "    .dataframe tbody tr th:only-of-type {\n",
       "        vertical-align: middle;\n",
       "    }\n",
       "\n",
       "    .dataframe tbody tr th {\n",
       "        vertical-align: top;\n",
       "    }\n",
       "\n",
       "    .dataframe thead th {\n",
       "        text-align: right;\n",
       "    }\n",
       "</style>\n",
       "<table border=\"1\" class=\"dataframe\">\n",
       "  <thead>\n",
       "    <tr style=\"text-align: right;\">\n",
       "      <th></th>\n",
       "      <th>uid</th>\n",
       "      <th>variant_number</th>\n",
       "      <th>days_since_signup</th>\n",
       "      <th>female</th>\n",
       "      <th>male</th>\n",
       "      <th>unknown</th>\n",
       "      <th>contributor</th>\n",
       "      <th>new_user</th>\n",
       "      <th>non_reader</th>\n",
       "      <th>reader</th>\n",
       "      <th>appearences</th>\n",
       "      <th>active_mins</th>\n",
       "      <th>avg_time_per_user</th>\n",
       "    </tr>\n",
       "  </thead>\n",
       "  <tbody>\n",
       "    <tr>\n",
       "      <td>0</td>\n",
       "      <td>40001</td>\n",
       "      <td>1</td>\n",
       "      <td>648</td>\n",
       "      <td>0</td>\n",
       "      <td>1</td>\n",
       "      <td>0</td>\n",
       "      <td>0</td>\n",
       "      <td>0</td>\n",
       "      <td>1</td>\n",
       "      <td>0</td>\n",
       "      <td>32</td>\n",
       "      <td>299.0</td>\n",
       "      <td>9.343750</td>\n",
       "    </tr>\n",
       "    <tr>\n",
       "      <td>1</td>\n",
       "      <td>40002</td>\n",
       "      <td>1</td>\n",
       "      <td>1264</td>\n",
       "      <td>0</td>\n",
       "      <td>1</td>\n",
       "      <td>0</td>\n",
       "      <td>0</td>\n",
       "      <td>0</td>\n",
       "      <td>1</td>\n",
       "      <td>0</td>\n",
       "      <td>26</td>\n",
       "      <td>183.0</td>\n",
       "      <td>7.038462</td>\n",
       "    </tr>\n",
       "    <tr>\n",
       "      <td>2</td>\n",
       "      <td>40004</td>\n",
       "      <td>1</td>\n",
       "      <td>1396</td>\n",
       "      <td>1</td>\n",
       "      <td>0</td>\n",
       "      <td>0</td>\n",
       "      <td>0</td>\n",
       "      <td>0</td>\n",
       "      <td>1</td>\n",
       "      <td>0</td>\n",
       "      <td>9</td>\n",
       "      <td>56.0</td>\n",
       "      <td>6.222222</td>\n",
       "    </tr>\n",
       "    <tr>\n",
       "      <td>3</td>\n",
       "      <td>40005</td>\n",
       "      <td>1</td>\n",
       "      <td>703</td>\n",
       "      <td>1</td>\n",
       "      <td>0</td>\n",
       "      <td>0</td>\n",
       "      <td>0</td>\n",
       "      <td>0</td>\n",
       "      <td>1</td>\n",
       "      <td>0</td>\n",
       "      <td>36</td>\n",
       "      <td>289.0</td>\n",
       "      <td>8.027778</td>\n",
       "    </tr>\n",
       "    <tr>\n",
       "      <td>4</td>\n",
       "      <td>40006</td>\n",
       "      <td>1</td>\n",
       "      <td>964</td>\n",
       "      <td>1</td>\n",
       "      <td>0</td>\n",
       "      <td>0</td>\n",
       "      <td>0</td>\n",
       "      <td>0</td>\n",
       "      <td>1</td>\n",
       "      <td>0</td>\n",
       "      <td>36</td>\n",
       "      <td>194.0</td>\n",
       "      <td>5.388889</td>\n",
       "    </tr>\n",
       "  </tbody>\n",
       "</table>\n",
       "</div>"
      ],
      "text/plain": [
       "     uid  variant_number  days_since_signup  female  male  unknown  \\\n",
       "0  40001               1                648       0     1        0   \n",
       "1  40002               1               1264       0     1        0   \n",
       "2  40004               1               1396       1     0        0   \n",
       "3  40005               1                703       1     0        0   \n",
       "4  40006               1                964       1     0        0   \n",
       "\n",
       "   contributor  new_user  non_reader  reader  appearences  active_mins  \\\n",
       "0            0         0           1       0           32        299.0   \n",
       "1            0         0           1       0           26        183.0   \n",
       "2            0         0           1       0            9         56.0   \n",
       "3            0         0           1       0           36        289.0   \n",
       "4            0         0           1       0           36        194.0   \n",
       "\n",
       "   avg_time_per_user  \n",
       "0           9.343750  \n",
       "1           7.038462  \n",
       "2           6.222222  \n",
       "3           8.027778  \n",
       "4           5.388889  "
      ]
     },
     "execution_count": 170,
     "metadata": {},
     "output_type": "execute_result"
    }
   ],
   "source": [
    "after_AB_treatment_base_table.head()"
   ]
  },
  {
   "cell_type": "code",
   "execution_count": 171,
   "metadata": {},
   "outputs": [
    {
     "name": "stderr",
     "output_type": "stream",
     "text": [
      "/home/sagnik/.local/lib/python3.7/site-packages/statsmodels/base/model.py:1294: RuntimeWarning:\n",
      "\n",
      "invalid value encountered in true_divide\n",
      "\n",
      "/home/sagnik/.local/lib/python3.7/site-packages/scipy/stats/_distn_infrastructure.py:901: RuntimeWarning:\n",
      "\n",
      "invalid value encountered in greater\n",
      "\n",
      "/home/sagnik/.local/lib/python3.7/site-packages/scipy/stats/_distn_infrastructure.py:901: RuntimeWarning:\n",
      "\n",
      "invalid value encountered in less\n",
      "\n",
      "/home/sagnik/.local/lib/python3.7/site-packages/scipy/stats/_distn_infrastructure.py:1892: RuntimeWarning:\n",
      "\n",
      "invalid value encountered in less_equal\n",
      "\n",
      "/home/sagnik/.local/lib/python3.7/site-packages/statsmodels/regression/linear_model.py:1755: RuntimeWarning:\n",
      "\n",
      "divide by zero encountered in double_scalars\n",
      "\n"
     ]
    },
    {
     "data": {
      "text/html": [
       "<table class=\"simpletable\">\n",
       "<caption>OLS Regression Results</caption>\n",
       "<tr>\n",
       "  <th>Dep. Variable:</th>       <td>active_mins</td>   <th>  R-squared:         </th>  <td>   0.812</td>  \n",
       "</tr>\n",
       "<tr>\n",
       "  <th>Model:</th>                   <td>OLS</td>       <th>  Adj. R-squared:    </th>  <td>   0.812</td>  \n",
       "</tr>\n",
       "<tr>\n",
       "  <th>Method:</th>             <td>Least Squares</td>  <th>  F-statistic:       </th>  <td>1.434e+04</td> \n",
       "</tr>\n",
       "<tr>\n",
       "  <th>Date:</th>             <td>Fri, 01 Nov 2019</td> <th>  Prob (F-statistic):</th>   <td>  0.00</td>   \n",
       "</tr>\n",
       "<tr>\n",
       "  <th>Time:</th>                 <td>21:37:22</td>     <th>  Log-Likelihood:    </th> <td>-3.0663e+05</td>\n",
       "</tr>\n",
       "<tr>\n",
       "  <th>No. Observations:</th>      <td> 29850</td>      <th>  AIC:               </th>  <td>6.133e+05</td> \n",
       "</tr>\n",
       "<tr>\n",
       "  <th>Df Residuals:</th>          <td> 29840</td>      <th>  BIC:               </th>  <td>6.134e+05</td> \n",
       "</tr>\n",
       "<tr>\n",
       "  <th>Df Model:</th>              <td>     9</td>      <th>                     </th>      <td> </td>     \n",
       "</tr>\n",
       "<tr>\n",
       "  <th>Covariance Type:</th>      <td>nonrobust</td>    <th>                     </th>      <td> </td>     \n",
       "</tr>\n",
       "</table>\n",
       "<table class=\"simpletable\">\n",
       "<tr>\n",
       "          <td></td>             <th>coef</th>     <th>std err</th>      <th>t</th>      <th>P>|t|</th>  <th>[0.025</th>    <th>0.975]</th>  \n",
       "</tr>\n",
       "<tr>\n",
       "  <th>appearences</th>       <td>   34.1479</td> <td>    2.051</td> <td>   16.647</td> <td> 0.000</td> <td>   30.127</td> <td>   38.168</td>\n",
       "</tr>\n",
       "<tr>\n",
       "  <th>avg_time_per_user</th> <td>   80.5530</td> <td>    0.229</td> <td>  351.027</td> <td> 0.000</td> <td>   80.103</td> <td>   81.003</td>\n",
       "</tr>\n",
       "<tr>\n",
       "  <th>contributor</th>       <td> -560.7797</td> <td>  248.627</td> <td>   -2.256</td> <td> 0.024</td> <td>-1048.099</td> <td>  -73.461</td>\n",
       "</tr>\n",
       "<tr>\n",
       "  <th>days_since_signup</th> <td>   -0.0163</td> <td>    0.071</td> <td>   -0.229</td> <td> 0.819</td> <td>   -0.156</td> <td>    0.123</td>\n",
       "</tr>\n",
       "<tr>\n",
       "  <th>female</th>            <td> -618.3256</td> <td>   95.560</td> <td>   -6.471</td> <td> 0.000</td> <td> -805.627</td> <td> -431.024</td>\n",
       "</tr>\n",
       "<tr>\n",
       "  <th>male</th>              <td> -728.5999</td> <td>   90.397</td> <td>   -8.060</td> <td> 0.000</td> <td> -905.781</td> <td> -551.419</td>\n",
       "</tr>\n",
       "<tr>\n",
       "  <th>new_user</th>          <td>  212.0498</td> <td>  154.544</td> <td>    1.372</td> <td> 0.170</td> <td>  -90.862</td> <td>  514.962</td>\n",
       "</tr>\n",
       "<tr>\n",
       "  <th>non_reader</th>        <td> -278.3836</td> <td>   73.062</td> <td>   -3.810</td> <td> 0.000</td> <td> -421.587</td> <td> -135.180</td>\n",
       "</tr>\n",
       "<tr>\n",
       "  <th>reader</th>            <td>-1412.6891</td> <td>  122.837</td> <td>  -11.501</td> <td> 0.000</td> <td>-1653.454</td> <td>-1171.924</td>\n",
       "</tr>\n",
       "<tr>\n",
       "  <th>uid</th>               <td>    0.0037</td> <td>    0.004</td> <td>    1.062</td> <td> 0.288</td> <td>   -0.003</td> <td>    0.011</td>\n",
       "</tr>\n",
       "<tr>\n",
       "  <th>unknown</th>           <td> -692.8770</td> <td>  114.120</td> <td>   -6.071</td> <td> 0.000</td> <td> -916.557</td> <td> -469.197</td>\n",
       "</tr>\n",
       "<tr>\n",
       "  <th>variant_number</th>    <td>         0</td> <td>        0</td> <td>      nan</td> <td>   nan</td> <td>        0</td> <td>        0</td>\n",
       "</tr>\n",
       "</table>\n",
       "<table class=\"simpletable\">\n",
       "<tr>\n",
       "  <th>Omnibus:</th>       <td>81921.769</td> <th>  Durbin-Watson:     </th>    <td>   1.999</td>    \n",
       "</tr>\n",
       "<tr>\n",
       "  <th>Prob(Omnibus):</th>  <td> 0.000</td>   <th>  Jarque-Bera (JB):  </th> <td>36251693885.042</td>\n",
       "</tr>\n",
       "<tr>\n",
       "  <th>Skew:</th>           <td>-33.377</td>  <th>  Prob(JB):          </th>    <td>    0.00</td>    \n",
       "</tr>\n",
       "<tr>\n",
       "  <th>Kurtosis:</th>      <td>5401.392</td>  <th>  Cond. No.          </th>    <td>     inf</td>    \n",
       "</tr>\n",
       "</table><br/><br/>Warnings:<br/>[1] Standard Errors assume that the covariance matrix of the errors is correctly specified.<br/>[2] The smallest eigenvalue is      0. This might indicate that there are<br/>strong multicollinearity problems or that the design matrix is singular."
      ],
      "text/plain": [
       "<class 'statsmodels.iolib.summary.Summary'>\n",
       "\"\"\"\n",
       "                            OLS Regression Results                            \n",
       "==============================================================================\n",
       "Dep. Variable:            active_mins   R-squared:                       0.812\n",
       "Model:                            OLS   Adj. R-squared:                  0.812\n",
       "Method:                 Least Squares   F-statistic:                 1.434e+04\n",
       "Date:                Fri, 01 Nov 2019   Prob (F-statistic):               0.00\n",
       "Time:                        21:37:22   Log-Likelihood:            -3.0663e+05\n",
       "No. Observations:               29850   AIC:                         6.133e+05\n",
       "Df Residuals:                   29840   BIC:                         6.134e+05\n",
       "Df Model:                           9                                         \n",
       "Covariance Type:            nonrobust                                         \n",
       "=====================================================================================\n",
       "                        coef    std err          t      P>|t|      [0.025      0.975]\n",
       "-------------------------------------------------------------------------------------\n",
       "appearences          34.1479      2.051     16.647      0.000      30.127      38.168\n",
       "avg_time_per_user    80.5530      0.229    351.027      0.000      80.103      81.003\n",
       "contributor        -560.7797    248.627     -2.256      0.024   -1048.099     -73.461\n",
       "days_since_signup    -0.0163      0.071     -0.229      0.819      -0.156       0.123\n",
       "female             -618.3256     95.560     -6.471      0.000    -805.627    -431.024\n",
       "male               -728.5999     90.397     -8.060      0.000    -905.781    -551.419\n",
       "new_user            212.0498    154.544      1.372      0.170     -90.862     514.962\n",
       "non_reader         -278.3836     73.062     -3.810      0.000    -421.587    -135.180\n",
       "reader            -1412.6891    122.837    -11.501      0.000   -1653.454   -1171.924\n",
       "uid                   0.0037      0.004      1.062      0.288      -0.003       0.011\n",
       "unknown            -692.8770    114.120     -6.071      0.000    -916.557    -469.197\n",
       "variant_number             0          0        nan        nan           0           0\n",
       "==============================================================================\n",
       "Omnibus:                    81921.769   Durbin-Watson:                   1.999\n",
       "Prob(Omnibus):                  0.000   Jarque-Bera (JB):      36251693885.042\n",
       "Skew:                         -33.377   Prob(JB):                         0.00\n",
       "Kurtosis:                    5401.392   Cond. No.                          inf\n",
       "==============================================================================\n",
       "\n",
       "Warnings:\n",
       "[1] Standard Errors assume that the covariance matrix of the errors is correctly specified.\n",
       "[2] The smallest eigenvalue is      0. This might indicate that there are\n",
       "strong multicollinearity problems or that the design matrix is singular.\n",
       "\"\"\""
      ]
     },
     "execution_count": 171,
     "metadata": {},
     "output_type": "execute_result"
    }
   ],
   "source": [
    "X = before_AB_control_base_table[before_AB_control_base_table.columns.difference(['active_mins'])]\n",
    "y = before_AB_control_base_table.loc[:,'active_mins']\n",
    "\n",
    "X_train, X_test, y_train, y_test = train_test_split(X, y, test_size=0.20, random_state=42)\n",
    "\n",
    "# Note the difference in argument order\n",
    "model = sm.OLS(y_train, X_train).fit()\n",
    "predictions = model.predict(X_test) # make the predictions by the model\n",
    "p_value_dict = dict(model.pvalues)\n",
    "\n",
    "# Print out the statistics\n",
    "model.summary()"
   ]
  },
  {
   "cell_type": "markdown",
   "metadata": {},
   "source": [
    "### Calculation of parameters for the r script"
   ]
  },
  {
   "cell_type": "code",
   "execution_count": 192,
   "metadata": {},
   "outputs": [
    {
     "data": {
      "text/plain": [
       "0.05603968427310946"
      ]
     },
     "execution_count": 192,
     "metadata": {},
     "output_type": "execute_result"
    }
   ],
   "source": [
    "p1 = 0.86\n",
    "p2 = 0.84\n",
    "h = abs(2*np.arcsin(math.sqrt(p1))-2*np.arcsin(math.sqrt(p2)))\n",
    "h\n",
    "n1 = 9165\n",
    "n2 = 37313\n",
    "sig.level = 0.05\n",
    "power = \n",
    "alternative = two.sided"
   ]
  },
  {
   "cell_type": "markdown",
   "metadata": {},
   "source": [
    "#### For the t-test"
   ]
  },
  {
   "cell_type": "code",
   "execution_count": 196,
   "metadata": {},
   "outputs": [
    {
     "data": {
      "text/plain": [
       "count    9165.000000\n",
       "mean       15.635999\n",
       "std       116.261957\n",
       "min         1.000000\n",
       "25%         3.866667\n",
       "50%         6.000000\n",
       "75%        10.700000\n",
       "max      6044.261682\n",
       "Name: avg_time_per_user, dtype: float64"
      ]
     },
     "execution_count": 196,
     "metadata": {},
     "output_type": "execute_result"
    }
   ],
   "source": [
    "after_AB_treatment_base_table['avg_time_per_user'].describe()"
   ]
  },
  {
   "cell_type": "code",
   "execution_count": 195,
   "metadata": {},
   "outputs": [
    {
     "data": {
      "text/plain": [
       "count    37313.000000\n",
       "mean        13.257813\n",
       "std        185.226048\n",
       "min          1.000000\n",
       "25%          2.464286\n",
       "50%          3.711111\n",
       "75%          6.947368\n",
       "max      16025.471429\n",
       "Name: avg_time_per_user, dtype: float64"
      ]
     },
     "execution_count": 195,
     "metadata": {},
     "output_type": "execute_result"
    }
   ],
   "source": [
    "after_AB_control_base_table['avg_time_per_user'].describe()"
   ]
  },
  {
   "cell_type": "markdown",
   "metadata": {},
   "source": [
    "sd for the t test"
   ]
  },
  {
   "cell_type": "code",
   "execution_count": 198,
   "metadata": {},
   "outputs": [
    {
     "data": {
      "text/plain": [
       "154.63753021690457"
      ]
     },
     "execution_count": 198,
     "metadata": {},
     "output_type": "execute_result"
    }
   ],
   "source": [
    "sd = np.sqrt((116.261957**2 + 185.226048**2)/2)\n",
    "sd"
   ]
  }
 ],
 "metadata": {
  "kernelspec": {
   "display_name": "Python 3",
   "language": "python",
   "name": "python3"
  },
  "language_info": {
   "codemirror_mode": {
    "name": "ipython",
    "version": 3
   },
   "file_extension": ".py",
   "mimetype": "text/x-python",
   "name": "python",
   "nbconvert_exporter": "python",
   "pygments_lexer": "ipython3",
   "version": "3.7.3"
  }
 },
 "nbformat": 4,
 "nbformat_minor": 2
}
