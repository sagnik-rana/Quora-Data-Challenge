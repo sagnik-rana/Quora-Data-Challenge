{
 "cells": [
  {
   "cell_type": "markdown",
   "metadata": {},
   "source": [
    "### Quora Data Challenge"
   ]
  },
  {
   "cell_type": "code",
   "execution_count": 652,
   "metadata": {},
   "outputs": [
    {
     "data": {
      "text/plain": [
       "<Figure size 800x640 with 0 Axes>"
      ]
     },
     "metadata": {},
     "output_type": "display_data"
    }
   ],
   "source": [
    "import io\n",
    "import numpy as np\n",
    "import pandas as pd\n",
    "import matplotlib.pyplot as plt\n",
    "pd.set_option('display.max_columns', None)\n",
    "from matplotlib.pyplot import figure\n",
    "figure(num=None, figsize=(10, 8), dpi=80, facecolor='w', edgecolor='k')\n",
    "plt.style.use('ggplot')\n",
    "pd.set_option('display.max_rows', None)\n",
    "import seaborn as sns\n",
    "\n",
    "import statsmodels.api as sm\n",
    "from sklearn.model_selection import KFold\n",
    "from sklearn.metrics import mean_squared_log_error\n",
    "from sklearn.model_selection import train_test_split\n",
    "from sklearn.linear_model import Ridge, RidgeCV, LassoCV, ElasticNet"
   ]
  },
  {
   "cell_type": "markdown",
   "metadata": {},
   "source": [
    "Suppose you are a Data Scientist on the Mobile team at Quora.<br>The team has just introduced a new UI design to the Quora app.<br>The goal of the new design is to increase user engagement (measured by minutes spent on site). <br>The team ran an A/B test to evaluate the change.<br> Using the data, help the team understand the impact of the UI change better.\n",
    "\n",
    "Tables provided are as follows:\n",
    "    1. t1_user_active_min.csv\n",
    "    2. t2_user_variant.csv\n",
    "    3. t3_user_active_min_pre.csv\n",
    "    4. t4_user_attributes.csv"
   ]
  },
  {
   "cell_type": "code",
   "execution_count": 653,
   "metadata": {},
   "outputs": [],
   "source": [
    "def build_dist(df,df1,col,col1,xlabelvalue,label1,label2):\n",
    "    sns.distplot(df[col], hist=False, label = label1, axlabel = xlabelvalue)\n",
    "    sns.distplot(df1[col1], hist=False, label = label2, axlabel = xlabelvalue)\n",
    "    plt.show()"
   ]
  },
  {
   "cell_type": "code",
   "execution_count": 654,
   "metadata": {},
   "outputs": [],
   "source": [
    "# reading the data sets\n",
    "t1_user_active_min     = pd.read_csv(\"data/t1_user_active_min.csv\")\n",
    "t2_user_variant        = pd.read_csv(\"data/t2_user_variant.csv\")\n",
    "t3_user_active_min_pre = pd.read_csv(\"data/t3_user_active_min_pre.csv\")\n",
    "t4_user_attributes     = pd.read_csv(\"data/t4_user_attributes.csv\")\n",
    "df_list = [t1_user_active_min,t2_user_variant,t3_user_active_min_pre,t4_user_attributes]"
   ]
  },
  {
   "cell_type": "code",
   "execution_count": 655,
   "metadata": {},
   "outputs": [
    {
     "data": {
      "text/html": [
       "<div>\n",
       "<style scoped>\n",
       "    .dataframe tbody tr th:only-of-type {\n",
       "        vertical-align: middle;\n",
       "    }\n",
       "\n",
       "    .dataframe tbody tr th {\n",
       "        vertical-align: top;\n",
       "    }\n",
       "\n",
       "    .dataframe thead th {\n",
       "        text-align: right;\n",
       "    }\n",
       "</style>\n",
       "<table border=\"1\" class=\"dataframe\">\n",
       "  <thead>\n",
       "    <tr style=\"text-align: right;\">\n",
       "      <th></th>\n",
       "      <th>uid</th>\n",
       "      <th>dt</th>\n",
       "      <th>active_mins</th>\n",
       "    </tr>\n",
       "  </thead>\n",
       "  <tbody>\n",
       "    <tr>\n",
       "      <td>0</td>\n",
       "      <td>0</td>\n",
       "      <td>2019-02-22</td>\n",
       "      <td>5.0</td>\n",
       "    </tr>\n",
       "    <tr>\n",
       "      <td>1</td>\n",
       "      <td>0</td>\n",
       "      <td>2019-03-11</td>\n",
       "      <td>5.0</td>\n",
       "    </tr>\n",
       "    <tr>\n",
       "      <td>2</td>\n",
       "      <td>0</td>\n",
       "      <td>2019-03-18</td>\n",
       "      <td>3.0</td>\n",
       "    </tr>\n",
       "    <tr>\n",
       "      <td>3</td>\n",
       "      <td>0</td>\n",
       "      <td>2019-03-22</td>\n",
       "      <td>4.0</td>\n",
       "    </tr>\n",
       "    <tr>\n",
       "      <td>4</td>\n",
       "      <td>0</td>\n",
       "      <td>2019-04-03</td>\n",
       "      <td>9.0</td>\n",
       "    </tr>\n",
       "  </tbody>\n",
       "</table>\n",
       "</div>"
      ],
      "text/plain": [
       "   uid          dt  active_mins\n",
       "0    0  2019-02-22          5.0\n",
       "1    0  2019-03-11          5.0\n",
       "2    0  2019-03-18          3.0\n",
       "3    0  2019-03-22          4.0\n",
       "4    0  2019-04-03          9.0"
      ]
     },
     "execution_count": 655,
     "metadata": {},
     "output_type": "execute_result"
    }
   ],
   "source": [
    "t1_user_active_min.head()"
   ]
  },
  {
   "cell_type": "code",
   "execution_count": 656,
   "metadata": {},
   "outputs": [
    {
     "data": {
      "text/html": [
       "<div>\n",
       "<style scoped>\n",
       "    .dataframe tbody tr th:only-of-type {\n",
       "        vertical-align: middle;\n",
       "    }\n",
       "\n",
       "    .dataframe tbody tr th {\n",
       "        vertical-align: top;\n",
       "    }\n",
       "\n",
       "    .dataframe thead th {\n",
       "        text-align: right;\n",
       "    }\n",
       "</style>\n",
       "<table border=\"1\" class=\"dataframe\">\n",
       "  <thead>\n",
       "    <tr style=\"text-align: right;\">\n",
       "      <th></th>\n",
       "      <th>uid</th>\n",
       "      <th>variant_number</th>\n",
       "      <th>dt</th>\n",
       "      <th>signup_date</th>\n",
       "    </tr>\n",
       "  </thead>\n",
       "  <tbody>\n",
       "    <tr>\n",
       "      <td>0</td>\n",
       "      <td>0</td>\n",
       "      <td>0</td>\n",
       "      <td>2019-02-06</td>\n",
       "      <td>2018-09-24</td>\n",
       "    </tr>\n",
       "    <tr>\n",
       "      <td>1</td>\n",
       "      <td>1</td>\n",
       "      <td>0</td>\n",
       "      <td>2019-02-06</td>\n",
       "      <td>2016-11-07</td>\n",
       "    </tr>\n",
       "    <tr>\n",
       "      <td>2</td>\n",
       "      <td>2</td>\n",
       "      <td>0</td>\n",
       "      <td>2019-02-06</td>\n",
       "      <td>2018-09-17</td>\n",
       "    </tr>\n",
       "    <tr>\n",
       "      <td>3</td>\n",
       "      <td>3</td>\n",
       "      <td>0</td>\n",
       "      <td>2019-02-06</td>\n",
       "      <td>2018-03-04</td>\n",
       "    </tr>\n",
       "    <tr>\n",
       "      <td>4</td>\n",
       "      <td>4</td>\n",
       "      <td>0</td>\n",
       "      <td>2019-02-06</td>\n",
       "      <td>2017-03-09</td>\n",
       "    </tr>\n",
       "  </tbody>\n",
       "</table>\n",
       "</div>"
      ],
      "text/plain": [
       "   uid  variant_number          dt signup_date\n",
       "0    0               0  2019-02-06  2018-09-24\n",
       "1    1               0  2019-02-06  2016-11-07\n",
       "2    2               0  2019-02-06  2018-09-17\n",
       "3    3               0  2019-02-06  2018-03-04\n",
       "4    4               0  2019-02-06  2017-03-09"
      ]
     },
     "execution_count": 656,
     "metadata": {},
     "output_type": "execute_result"
    }
   ],
   "source": [
    "t2_user_variant.head()"
   ]
  },
  {
   "cell_type": "code",
   "execution_count": 657,
   "metadata": {},
   "outputs": [
    {
     "data": {
      "text/plain": [
       "0    40000\n",
       "1    10000\n",
       "Name: variant_number, dtype: int64"
      ]
     },
     "execution_count": 657,
     "metadata": {},
     "output_type": "execute_result"
    }
   ],
   "source": [
    "t2_user_variant['variant_number'].value_counts()"
   ]
  },
  {
   "cell_type": "markdown",
   "metadata": {},
   "source": [
    "People in control group: 80 percent <br>\n",
    "People in treatment group: 20 percent"
   ]
  },
  {
   "cell_type": "code",
   "execution_count": 658,
   "metadata": {},
   "outputs": [],
   "source": [
    "user_control = []\n",
    "user_treatment = []\n",
    "for index,row in t2_user_variant.iterrows():\n",
    "    if row['variant_number'] == 0:\n",
    "        user_control.append(row['uid'])\n",
    "    else:\n",
    "        user_treatment.append(row['uid'])"
   ]
  },
  {
   "cell_type": "code",
   "execution_count": 659,
   "metadata": {},
   "outputs": [
    {
     "data": {
      "text/html": [
       "<div>\n",
       "<style scoped>\n",
       "    .dataframe tbody tr th:only-of-type {\n",
       "        vertical-align: middle;\n",
       "    }\n",
       "\n",
       "    .dataframe tbody tr th {\n",
       "        vertical-align: top;\n",
       "    }\n",
       "\n",
       "    .dataframe thead th {\n",
       "        text-align: right;\n",
       "    }\n",
       "</style>\n",
       "<table border=\"1\" class=\"dataframe\">\n",
       "  <thead>\n",
       "    <tr style=\"text-align: right;\">\n",
       "      <th></th>\n",
       "      <th>uid</th>\n",
       "      <th>dt</th>\n",
       "      <th>active_mins</th>\n",
       "    </tr>\n",
       "  </thead>\n",
       "  <tbody>\n",
       "    <tr>\n",
       "      <td>0</td>\n",
       "      <td>0</td>\n",
       "      <td>2018-09-24</td>\n",
       "      <td>3.0</td>\n",
       "    </tr>\n",
       "    <tr>\n",
       "      <td>1</td>\n",
       "      <td>0</td>\n",
       "      <td>2018-11-08</td>\n",
       "      <td>4.0</td>\n",
       "    </tr>\n",
       "    <tr>\n",
       "      <td>2</td>\n",
       "      <td>0</td>\n",
       "      <td>2018-11-24</td>\n",
       "      <td>3.0</td>\n",
       "    </tr>\n",
       "    <tr>\n",
       "      <td>3</td>\n",
       "      <td>0</td>\n",
       "      <td>2018-11-28</td>\n",
       "      <td>6.0</td>\n",
       "    </tr>\n",
       "    <tr>\n",
       "      <td>4</td>\n",
       "      <td>0</td>\n",
       "      <td>2018-12-02</td>\n",
       "      <td>6.0</td>\n",
       "    </tr>\n",
       "  </tbody>\n",
       "</table>\n",
       "</div>"
      ],
      "text/plain": [
       "   uid          dt  active_mins\n",
       "0    0  2018-09-24          3.0\n",
       "1    0  2018-11-08          4.0\n",
       "2    0  2018-11-24          3.0\n",
       "3    0  2018-11-28          6.0\n",
       "4    0  2018-12-02          6.0"
      ]
     },
     "execution_count": 659,
     "metadata": {},
     "output_type": "execute_result"
    }
   ],
   "source": [
    "t3_user_active_min_pre.head()"
   ]
  },
  {
   "cell_type": "code",
   "execution_count": 660,
   "metadata": {},
   "outputs": [
    {
     "data": {
      "text/html": [
       "<div>\n",
       "<style scoped>\n",
       "    .dataframe tbody tr th:only-of-type {\n",
       "        vertical-align: middle;\n",
       "    }\n",
       "\n",
       "    .dataframe tbody tr th {\n",
       "        vertical-align: top;\n",
       "    }\n",
       "\n",
       "    .dataframe thead th {\n",
       "        text-align: right;\n",
       "    }\n",
       "</style>\n",
       "<table border=\"1\" class=\"dataframe\">\n",
       "  <thead>\n",
       "    <tr style=\"text-align: right;\">\n",
       "      <th></th>\n",
       "      <th>uid</th>\n",
       "      <th>gender</th>\n",
       "      <th>user_type</th>\n",
       "    </tr>\n",
       "  </thead>\n",
       "  <tbody>\n",
       "    <tr>\n",
       "      <td>0</td>\n",
       "      <td>0</td>\n",
       "      <td>male</td>\n",
       "      <td>non_reader</td>\n",
       "    </tr>\n",
       "    <tr>\n",
       "      <td>1</td>\n",
       "      <td>1</td>\n",
       "      <td>male</td>\n",
       "      <td>reader</td>\n",
       "    </tr>\n",
       "    <tr>\n",
       "      <td>2</td>\n",
       "      <td>2</td>\n",
       "      <td>male</td>\n",
       "      <td>non_reader</td>\n",
       "    </tr>\n",
       "    <tr>\n",
       "      <td>3</td>\n",
       "      <td>3</td>\n",
       "      <td>male</td>\n",
       "      <td>non_reader</td>\n",
       "    </tr>\n",
       "    <tr>\n",
       "      <td>4</td>\n",
       "      <td>4</td>\n",
       "      <td>male</td>\n",
       "      <td>non_reader</td>\n",
       "    </tr>\n",
       "  </tbody>\n",
       "</table>\n",
       "</div>"
      ],
      "text/plain": [
       "   uid gender   user_type\n",
       "0    0   male  non_reader\n",
       "1    1   male      reader\n",
       "2    2   male  non_reader\n",
       "3    3   male  non_reader\n",
       "4    4   male  non_reader"
      ]
     },
     "execution_count": 660,
     "metadata": {},
     "output_type": "execute_result"
    }
   ],
   "source": [
    "t4_user_attributes.head()"
   ]
  },
  {
   "cell_type": "markdown",
   "metadata": {},
   "source": [
    "### Hypothesis:\n",
    "1. The AB Testing is intended to increase the user engagement in terms of time.\n",
    "2. Randomized people are used to divide into control and treatment groups.\n",
    "\n",
    "### KPI for AB Test to look for between treatment and control group:\n",
    "1. Active time        - increased/ decreased\n",
    "2. Frequency of visit - increased/decreased\n",
    "3. Segregation of above two points for old/new users, male/female, reader/non-readers.\n",
    "4. I will try to look for the combination of all the other factors"
   ]
  },
  {
   "cell_type": "markdown",
   "metadata": {},
   "source": [
    "#### Creating Analytical Data Table for the user variant - combination of gender/reader/non-reader/days_since_signup"
   ]
  },
  {
   "cell_type": "code",
   "execution_count": 661,
   "metadata": {},
   "outputs": [],
   "source": [
    "var_gen_ageinquora = pd.merge(t2_user_variant,t4_user_attributes,how = \"inner\", on = \"uid\")"
   ]
  },
  {
   "cell_type": "code",
   "execution_count": 662,
   "metadata": {},
   "outputs": [
    {
     "data": {
      "text/html": [
       "<div>\n",
       "<style scoped>\n",
       "    .dataframe tbody tr th:only-of-type {\n",
       "        vertical-align: middle;\n",
       "    }\n",
       "\n",
       "    .dataframe tbody tr th {\n",
       "        vertical-align: top;\n",
       "    }\n",
       "\n",
       "    .dataframe thead th {\n",
       "        text-align: right;\n",
       "    }\n",
       "</style>\n",
       "<table border=\"1\" class=\"dataframe\">\n",
       "  <thead>\n",
       "    <tr style=\"text-align: right;\">\n",
       "      <th></th>\n",
       "      <th>uid</th>\n",
       "      <th>variant_number</th>\n",
       "      <th>dt</th>\n",
       "      <th>signup_date</th>\n",
       "      <th>gender</th>\n",
       "      <th>user_type</th>\n",
       "    </tr>\n",
       "  </thead>\n",
       "  <tbody>\n",
       "    <tr>\n",
       "      <td>0</td>\n",
       "      <td>0</td>\n",
       "      <td>0</td>\n",
       "      <td>2019-02-06</td>\n",
       "      <td>2018-09-24</td>\n",
       "      <td>male</td>\n",
       "      <td>non_reader</td>\n",
       "    </tr>\n",
       "    <tr>\n",
       "      <td>1</td>\n",
       "      <td>1</td>\n",
       "      <td>0</td>\n",
       "      <td>2019-02-06</td>\n",
       "      <td>2016-11-07</td>\n",
       "      <td>male</td>\n",
       "      <td>reader</td>\n",
       "    </tr>\n",
       "    <tr>\n",
       "      <td>2</td>\n",
       "      <td>2</td>\n",
       "      <td>0</td>\n",
       "      <td>2019-02-06</td>\n",
       "      <td>2018-09-17</td>\n",
       "      <td>male</td>\n",
       "      <td>non_reader</td>\n",
       "    </tr>\n",
       "    <tr>\n",
       "      <td>3</td>\n",
       "      <td>3</td>\n",
       "      <td>0</td>\n",
       "      <td>2019-02-06</td>\n",
       "      <td>2018-03-04</td>\n",
       "      <td>male</td>\n",
       "      <td>non_reader</td>\n",
       "    </tr>\n",
       "    <tr>\n",
       "      <td>4</td>\n",
       "      <td>4</td>\n",
       "      <td>0</td>\n",
       "      <td>2019-02-06</td>\n",
       "      <td>2017-03-09</td>\n",
       "      <td>male</td>\n",
       "      <td>non_reader</td>\n",
       "    </tr>\n",
       "  </tbody>\n",
       "</table>\n",
       "</div>"
      ],
      "text/plain": [
       "   uid  variant_number          dt signup_date gender   user_type\n",
       "0    0               0  2019-02-06  2018-09-24   male  non_reader\n",
       "1    1               0  2019-02-06  2016-11-07   male      reader\n",
       "2    2               0  2019-02-06  2018-09-17   male  non_reader\n",
       "3    3               0  2019-02-06  2018-03-04   male  non_reader\n",
       "4    4               0  2019-02-06  2017-03-09   male  non_reader"
      ]
     },
     "execution_count": 662,
     "metadata": {},
     "output_type": "execute_result"
    }
   ],
   "source": [
    "var_gen_ageinquora.head()"
   ]
  },
  {
   "cell_type": "code",
   "execution_count": 663,
   "metadata": {},
   "outputs": [],
   "source": [
    "var_gen_ageinquora_control = var_gen_ageinquora[var_gen_ageinquora['variant_number'] == 0]\n",
    "var_gen_ageinquora_treatment = var_gen_ageinquora[var_gen_ageinquora['variant_number'] == 1]\n",
    "cat_cols = ['gender','user_type']\n",
    "cont_cols = ['days_since_joined_till_AB_tested']"
   ]
  },
  {
   "cell_type": "markdown",
   "metadata": {},
   "source": [
    "#### Checking the ratio in treatment and control group"
   ]
  },
  {
   "cell_type": "code",
   "execution_count": 664,
   "metadata": {},
   "outputs": [],
   "source": [
    "def checkGenderRatioTreatmentControl(df, columnName):\n",
    "    df = pd.DataFrame(df['gender'].value_counts())\n",
    "    df.rename(columns = {'gender':columnName}, inplace = True)\n",
    "    df.reset_index(inplace = True)\n",
    "    df.rename(columns = {'index':'gender'}, inplace = True)\n",
    "    return df"
   ]
  },
  {
   "cell_type": "code",
   "execution_count": 665,
   "metadata": {},
   "outputs": [],
   "source": [
    "treat_gender = checkGenderRatioTreatmentControl(var_gen_ageinquora_treatment, 'count_treat_gender')\n",
    "control_gender = checkGenderRatioTreatmentControl(var_gen_ageinquora_treatment, 'count_control_gender')"
   ]
  },
  {
   "cell_type": "code",
   "execution_count": 666,
   "metadata": {},
   "outputs": [],
   "source": [
    "def checkUserTypeRatioTreatmentControl(df, columnName):\n",
    "    df = pd.DataFrame(df['user_type'].value_counts())\n",
    "    df.rename(columns = {'user_type':columnName}, inplace = True)\n",
    "    df.reset_index(inplace = True)\n",
    "    df.rename(columns = {'index':'user_type'}, inplace = True)\n",
    "    return df"
   ]
  },
  {
   "cell_type": "code",
   "execution_count": 667,
   "metadata": {},
   "outputs": [],
   "source": [
    "treat_user_type = checkUserTypeRatioTreatmentControl(var_gen_ageinquora_treatment, 'count_treat_user_type')\n",
    "control_user_type = checkUserTypeRatioTreatmentControl(var_gen_ageinquora_treatment, 'count_control_user_type')"
   ]
  },
  {
   "cell_type": "code",
   "execution_count": 668,
   "metadata": {},
   "outputs": [],
   "source": [
    "gender_comparision = pd.merge(treat_gender, control_gender, on = \"gender\",how = \"inner\")\n",
    "user_type_comparision = pd.merge(treat_user_type, control_user_type, on = \"user_type\",how = \"inner\")"
   ]
  },
  {
   "cell_type": "code",
   "execution_count": 669,
   "metadata": {},
   "outputs": [],
   "source": [
    "gender_comparision['treat_ratio'] = gender_comparision['count_treat_gender'] / gender_comparision['count_treat_gender'].sum()\n",
    "gender_comparision['control_ratio'] = gender_comparision['count_control_gender'] / gender_comparision['count_control_gender'].sum()"
   ]
  },
  {
   "cell_type": "code",
   "execution_count": 670,
   "metadata": {},
   "outputs": [
    {
     "data": {
      "text/html": [
       "<div>\n",
       "<style scoped>\n",
       "    .dataframe tbody tr th:only-of-type {\n",
       "        vertical-align: middle;\n",
       "    }\n",
       "\n",
       "    .dataframe tbody tr th {\n",
       "        vertical-align: top;\n",
       "    }\n",
       "\n",
       "    .dataframe thead th {\n",
       "        text-align: right;\n",
       "    }\n",
       "</style>\n",
       "<table border=\"1\" class=\"dataframe\">\n",
       "  <thead>\n",
       "    <tr style=\"text-align: right;\">\n",
       "      <th></th>\n",
       "      <th>gender</th>\n",
       "      <th>treat_ratio</th>\n",
       "      <th>control_ratio</th>\n",
       "    </tr>\n",
       "  </thead>\n",
       "  <tbody>\n",
       "    <tr>\n",
       "      <td>0</td>\n",
       "      <td>male</td>\n",
       "      <td>0.552</td>\n",
       "      <td>0.552</td>\n",
       "    </tr>\n",
       "    <tr>\n",
       "      <td>1</td>\n",
       "      <td>female</td>\n",
       "      <td>0.287</td>\n",
       "      <td>0.287</td>\n",
       "    </tr>\n",
       "    <tr>\n",
       "      <td>2</td>\n",
       "      <td>unknown</td>\n",
       "      <td>0.161</td>\n",
       "      <td>0.161</td>\n",
       "    </tr>\n",
       "  </tbody>\n",
       "</table>\n",
       "</div>"
      ],
      "text/plain": [
       "    gender  treat_ratio  control_ratio\n",
       "0     male        0.552          0.552\n",
       "1   female        0.287          0.287\n",
       "2  unknown        0.161          0.161"
      ]
     },
     "execution_count": 670,
     "metadata": {},
     "output_type": "execute_result"
    }
   ],
   "source": [
    "gender_comparision.drop(columns = ['count_treat_gender','count_control_gender'])"
   ]
  },
  {
   "cell_type": "code",
   "execution_count": 671,
   "metadata": {},
   "outputs": [],
   "source": [
    "user_type_comparision['treat_ratio']   = user_type_comparision['count_treat_user_type'] / user_type_comparision['count_treat_user_type'].sum()\n",
    "user_type_comparision['control_ratio'] = user_type_comparision['count_control_user_type'] / user_type_comparision['count_control_user_type'].sum()"
   ]
  },
  {
   "cell_type": "code",
   "execution_count": 672,
   "metadata": {},
   "outputs": [
    {
     "data": {
      "text/html": [
       "<div>\n",
       "<style scoped>\n",
       "    .dataframe tbody tr th:only-of-type {\n",
       "        vertical-align: middle;\n",
       "    }\n",
       "\n",
       "    .dataframe tbody tr th {\n",
       "        vertical-align: top;\n",
       "    }\n",
       "\n",
       "    .dataframe thead th {\n",
       "        text-align: right;\n",
       "    }\n",
       "</style>\n",
       "<table border=\"1\" class=\"dataframe\">\n",
       "  <thead>\n",
       "    <tr style=\"text-align: right;\">\n",
       "      <th></th>\n",
       "      <th>user_type</th>\n",
       "      <th>treat_ratio</th>\n",
       "      <th>control_ratio</th>\n",
       "    </tr>\n",
       "  </thead>\n",
       "  <tbody>\n",
       "    <tr>\n",
       "      <td>0</td>\n",
       "      <td>non_reader</td>\n",
       "      <td>0.7367</td>\n",
       "      <td>0.7367</td>\n",
       "    </tr>\n",
       "    <tr>\n",
       "      <td>1</td>\n",
       "      <td>reader</td>\n",
       "      <td>0.1269</td>\n",
       "      <td>0.1269</td>\n",
       "    </tr>\n",
       "    <tr>\n",
       "      <td>2</td>\n",
       "      <td>new_user</td>\n",
       "      <td>0.1235</td>\n",
       "      <td>0.1235</td>\n",
       "    </tr>\n",
       "    <tr>\n",
       "      <td>3</td>\n",
       "      <td>contributor</td>\n",
       "      <td>0.0129</td>\n",
       "      <td>0.0129</td>\n",
       "    </tr>\n",
       "  </tbody>\n",
       "</table>\n",
       "</div>"
      ],
      "text/plain": [
       "     user_type  treat_ratio  control_ratio\n",
       "0   non_reader       0.7367         0.7367\n",
       "1       reader       0.1269         0.1269\n",
       "2     new_user       0.1235         0.1235\n",
       "3  contributor       0.0129         0.0129"
      ]
     },
     "execution_count": 672,
     "metadata": {},
     "output_type": "execute_result"
    }
   ],
   "source": [
    "user_type_comparision.drop(columns = ['count_treat_user_type','count_control_user_type'])"
   ]
  },
  {
   "cell_type": "markdown",
   "metadata": {},
   "source": [
    "### After the test is conducted"
   ]
  },
  {
   "cell_type": "code",
   "execution_count": 673,
   "metadata": {},
   "outputs": [],
   "source": [
    "def intersection(lst1, lst2): \n",
    "    return list(set(lst1) & set(lst2))"
   ]
  },
  {
   "cell_type": "code",
   "execution_count": 674,
   "metadata": {},
   "outputs": [],
   "source": [
    "uid_control         = list(var_gen_ageinquora_control[\"uid\"])\n",
    "uid_treatment       = list(var_gen_ageinquora_treatment[\"uid\"])\n",
    "before_AB_control   = t3_user_active_min_pre[t3_user_active_min_pre['uid'].isin(uid_control)]\n",
    "before_AB_treatment = t3_user_active_min_pre[t3_user_active_min_pre['uid'].isin(uid_treatment)]\n",
    "after_AB_control    = t1_user_active_min[t1_user_active_min['uid'].isin(uid_control)]\n",
    "after_AB_treatment  = t1_user_active_min[t1_user_active_min['uid'].isin(uid_treatment)]"
   ]
  },
  {
   "cell_type": "code",
   "execution_count": 675,
   "metadata": {},
   "outputs": [
    {
     "data": {
      "text/plain": [
       "[]"
      ]
     },
     "execution_count": 675,
     "metadata": {},
     "output_type": "execute_result"
    }
   ],
   "source": [
    "# Validating if there is no common elements between control and treatment.\n",
    "intersection(uid_control, uid_treatment)"
   ]
  },
  {
   "cell_type": "code",
   "execution_count": 676,
   "metadata": {},
   "outputs": [],
   "source": [
    "after_AB_control_uid    = list(after_AB_control['uid'])\n",
    "after_AB_treatment_uid  = list(after_AB_treatment['uid'])\n",
    "before_AB_control_uid   = list(before_AB_control['uid'])\n",
    "before_AB_treatment_uid = list(before_AB_treatment['uid'])"
   ]
  },
  {
   "cell_type": "code",
   "execution_count": 677,
   "metadata": {},
   "outputs": [],
   "source": [
    "common_control_uid   = intersection(after_AB_control_uid, before_AB_control_uid)\n",
    "common_treatment_uid = intersection(after_AB_treatment_uid, before_AB_treatment_uid)"
   ]
  },
  {
   "cell_type": "code",
   "execution_count": 678,
   "metadata": {},
   "outputs": [],
   "source": [
    "before_AB_control   = t3_user_active_min_pre[t3_user_active_min_pre['uid'].isin(common_control_uid)]\n",
    "before_AB_treatment = t3_user_active_min_pre[t3_user_active_min_pre['uid'].isin(common_treatment_uid)]\n",
    "after_AB_control    = t1_user_active_min[t1_user_active_min['uid'].isin(common_control_uid)]\n",
    "after_AB_treatment  = t1_user_active_min[t1_user_active_min['uid'].isin(common_treatment_uid)]"
   ]
  },
  {
   "cell_type": "code",
   "execution_count": 679,
   "metadata": {},
   "outputs": [
    {
     "data": {
      "text/html": [
       "<div>\n",
       "<style scoped>\n",
       "    .dataframe tbody tr th:only-of-type {\n",
       "        vertical-align: middle;\n",
       "    }\n",
       "\n",
       "    .dataframe tbody tr th {\n",
       "        vertical-align: top;\n",
       "    }\n",
       "\n",
       "    .dataframe thead th {\n",
       "        text-align: right;\n",
       "    }\n",
       "</style>\n",
       "<table border=\"1\" class=\"dataframe\">\n",
       "  <thead>\n",
       "    <tr style=\"text-align: right;\">\n",
       "      <th></th>\n",
       "      <th>uid</th>\n",
       "      <th>dt</th>\n",
       "      <th>active_mins</th>\n",
       "    </tr>\n",
       "  </thead>\n",
       "  <tbody>\n",
       "    <tr>\n",
       "      <td>0</td>\n",
       "      <td>0</td>\n",
       "      <td>2018-09-24</td>\n",
       "      <td>3.0</td>\n",
       "    </tr>\n",
       "    <tr>\n",
       "      <td>1</td>\n",
       "      <td>0</td>\n",
       "      <td>2018-11-08</td>\n",
       "      <td>4.0</td>\n",
       "    </tr>\n",
       "    <tr>\n",
       "      <td>2</td>\n",
       "      <td>0</td>\n",
       "      <td>2018-11-24</td>\n",
       "      <td>3.0</td>\n",
       "    </tr>\n",
       "    <tr>\n",
       "      <td>3</td>\n",
       "      <td>0</td>\n",
       "      <td>2018-11-28</td>\n",
       "      <td>6.0</td>\n",
       "    </tr>\n",
       "    <tr>\n",
       "      <td>4</td>\n",
       "      <td>0</td>\n",
       "      <td>2018-12-02</td>\n",
       "      <td>6.0</td>\n",
       "    </tr>\n",
       "  </tbody>\n",
       "</table>\n",
       "</div>"
      ],
      "text/plain": [
       "   uid          dt  active_mins\n",
       "0    0  2018-09-24          3.0\n",
       "1    0  2018-11-08          4.0\n",
       "2    0  2018-11-24          3.0\n",
       "3    0  2018-11-28          6.0\n",
       "4    0  2018-12-02          6.0"
      ]
     },
     "execution_count": 679,
     "metadata": {},
     "output_type": "execute_result"
    }
   ],
   "source": [
    "before_AB_control.head()"
   ]
  },
  {
   "cell_type": "code",
   "execution_count": 680,
   "metadata": {},
   "outputs": [],
   "source": [
    "before_AB_control_base_table   = pd.merge(before_AB_control,var_gen_ageinquora, how = \"inner\", on = \"uid\")\n",
    "before_AB_treatment_base_table = pd.merge(before_AB_treatment,var_gen_ageinquora, how = \"inner\", on = \"uid\")\n",
    "after_AB_control_base_table    = pd.merge(after_AB_control,var_gen_ageinquora, how = \"inner\", on = \"uid\")\n",
    "after_AB_treatment_base_table  = pd.merge(after_AB_treatment,var_gen_ageinquora, how = \"inner\", on = \"uid\")"
   ]
  },
  {
   "cell_type": "code",
   "execution_count": 681,
   "metadata": {},
   "outputs": [
    {
     "data": {
      "text/html": [
       "<div>\n",
       "<style scoped>\n",
       "    .dataframe tbody tr th:only-of-type {\n",
       "        vertical-align: middle;\n",
       "    }\n",
       "\n",
       "    .dataframe tbody tr th {\n",
       "        vertical-align: top;\n",
       "    }\n",
       "\n",
       "    .dataframe thead th {\n",
       "        text-align: right;\n",
       "    }\n",
       "</style>\n",
       "<table border=\"1\" class=\"dataframe\">\n",
       "  <thead>\n",
       "    <tr style=\"text-align: right;\">\n",
       "      <th></th>\n",
       "      <th>uid</th>\n",
       "      <th>date</th>\n",
       "      <th>active_mins</th>\n",
       "      <th>variant_number</th>\n",
       "      <th>AB_Date</th>\n",
       "      <th>signup_date</th>\n",
       "      <th>gender</th>\n",
       "      <th>user_type</th>\n",
       "    </tr>\n",
       "  </thead>\n",
       "  <tbody>\n",
       "    <tr>\n",
       "      <td>0</td>\n",
       "      <td>0</td>\n",
       "      <td>2018-09-24</td>\n",
       "      <td>3.0</td>\n",
       "      <td>0</td>\n",
       "      <td>2019-02-06</td>\n",
       "      <td>2018-09-24</td>\n",
       "      <td>male</td>\n",
       "      <td>non_reader</td>\n",
       "    </tr>\n",
       "    <tr>\n",
       "      <td>1</td>\n",
       "      <td>0</td>\n",
       "      <td>2018-11-08</td>\n",
       "      <td>4.0</td>\n",
       "      <td>0</td>\n",
       "      <td>2019-02-06</td>\n",
       "      <td>2018-09-24</td>\n",
       "      <td>male</td>\n",
       "      <td>non_reader</td>\n",
       "    </tr>\n",
       "    <tr>\n",
       "      <td>2</td>\n",
       "      <td>0</td>\n",
       "      <td>2018-11-24</td>\n",
       "      <td>3.0</td>\n",
       "      <td>0</td>\n",
       "      <td>2019-02-06</td>\n",
       "      <td>2018-09-24</td>\n",
       "      <td>male</td>\n",
       "      <td>non_reader</td>\n",
       "    </tr>\n",
       "    <tr>\n",
       "      <td>3</td>\n",
       "      <td>0</td>\n",
       "      <td>2018-11-28</td>\n",
       "      <td>6.0</td>\n",
       "      <td>0</td>\n",
       "      <td>2019-02-06</td>\n",
       "      <td>2018-09-24</td>\n",
       "      <td>male</td>\n",
       "      <td>non_reader</td>\n",
       "    </tr>\n",
       "    <tr>\n",
       "      <td>4</td>\n",
       "      <td>0</td>\n",
       "      <td>2018-12-02</td>\n",
       "      <td>6.0</td>\n",
       "      <td>0</td>\n",
       "      <td>2019-02-06</td>\n",
       "      <td>2018-09-24</td>\n",
       "      <td>male</td>\n",
       "      <td>non_reader</td>\n",
       "    </tr>\n",
       "  </tbody>\n",
       "</table>\n",
       "</div>"
      ],
      "text/plain": [
       "   uid        date  active_mins  variant_number     AB_Date signup_date  \\\n",
       "0    0  2018-09-24          3.0               0  2019-02-06  2018-09-24   \n",
       "1    0  2018-11-08          4.0               0  2019-02-06  2018-09-24   \n",
       "2    0  2018-11-24          3.0               0  2019-02-06  2018-09-24   \n",
       "3    0  2018-11-28          6.0               0  2019-02-06  2018-09-24   \n",
       "4    0  2018-12-02          6.0               0  2019-02-06  2018-09-24   \n",
       "\n",
       "  gender   user_type  \n",
       "0   male  non_reader  \n",
       "1   male  non_reader  \n",
       "2   male  non_reader  \n",
       "3   male  non_reader  \n",
       "4   male  non_reader  "
      ]
     },
     "execution_count": 681,
     "metadata": {},
     "output_type": "execute_result"
    }
   ],
   "source": [
    "before_AB_control_base_table.rename(columns = {\"dt_x\":\"date\",\"dt_y\":\"AB_Date\"}, inplace = True)\n",
    "before_AB_treatment_base_table.rename(columns = {\"dt_x\":\"date\",\"dt_y\":\"AB_Date\"}, inplace = True)\n",
    "after_AB_control_base_table.rename(columns = {\"dt_x\":\"date\",\"dt_y\":\"AB_Date\"}, inplace = True)\n",
    "after_AB_treatment_base_table.rename(columns = {\"dt_x\":\"date\",\"dt_y\":\"AB_Date\"}, inplace = True)\n",
    "before_AB_control_base_table.head()"
   ]
  },
  {
   "cell_type": "code",
   "execution_count": 682,
   "metadata": {},
   "outputs": [
    {
     "data": {
      "text/html": [
       "<div>\n",
       "<style scoped>\n",
       "    .dataframe tbody tr th:only-of-type {\n",
       "        vertical-align: middle;\n",
       "    }\n",
       "\n",
       "    .dataframe tbody tr th {\n",
       "        vertical-align: top;\n",
       "    }\n",
       "\n",
       "    .dataframe thead th {\n",
       "        text-align: right;\n",
       "    }\n",
       "</style>\n",
       "<table border=\"1\" class=\"dataframe\">\n",
       "  <thead>\n",
       "    <tr style=\"text-align: right;\">\n",
       "      <th></th>\n",
       "      <th>uid</th>\n",
       "      <th>date</th>\n",
       "      <th>active_mins</th>\n",
       "      <th>variant_number</th>\n",
       "      <th>AB_Date</th>\n",
       "      <th>signup_date</th>\n",
       "      <th>gender</th>\n",
       "      <th>user_type</th>\n",
       "    </tr>\n",
       "  </thead>\n",
       "  <tbody>\n",
       "    <tr>\n",
       "      <td>0</td>\n",
       "      <td>0</td>\n",
       "      <td>2018-09-24</td>\n",
       "      <td>3.0</td>\n",
       "      <td>0</td>\n",
       "      <td>2019-02-06</td>\n",
       "      <td>2018-09-24</td>\n",
       "      <td>male</td>\n",
       "      <td>non_reader</td>\n",
       "    </tr>\n",
       "    <tr>\n",
       "      <td>1</td>\n",
       "      <td>0</td>\n",
       "      <td>2018-11-08</td>\n",
       "      <td>4.0</td>\n",
       "      <td>0</td>\n",
       "      <td>2019-02-06</td>\n",
       "      <td>2018-09-24</td>\n",
       "      <td>male</td>\n",
       "      <td>non_reader</td>\n",
       "    </tr>\n",
       "    <tr>\n",
       "      <td>2</td>\n",
       "      <td>0</td>\n",
       "      <td>2018-11-24</td>\n",
       "      <td>3.0</td>\n",
       "      <td>0</td>\n",
       "      <td>2019-02-06</td>\n",
       "      <td>2018-09-24</td>\n",
       "      <td>male</td>\n",
       "      <td>non_reader</td>\n",
       "    </tr>\n",
       "    <tr>\n",
       "      <td>3</td>\n",
       "      <td>0</td>\n",
       "      <td>2018-11-28</td>\n",
       "      <td>6.0</td>\n",
       "      <td>0</td>\n",
       "      <td>2019-02-06</td>\n",
       "      <td>2018-09-24</td>\n",
       "      <td>male</td>\n",
       "      <td>non_reader</td>\n",
       "    </tr>\n",
       "    <tr>\n",
       "      <td>4</td>\n",
       "      <td>0</td>\n",
       "      <td>2018-12-02</td>\n",
       "      <td>6.0</td>\n",
       "      <td>0</td>\n",
       "      <td>2019-02-06</td>\n",
       "      <td>2018-09-24</td>\n",
       "      <td>male</td>\n",
       "      <td>non_reader</td>\n",
       "    </tr>\n",
       "  </tbody>\n",
       "</table>\n",
       "</div>"
      ],
      "text/plain": [
       "   uid        date  active_mins  variant_number     AB_Date signup_date  \\\n",
       "0    0  2018-09-24          3.0               0  2019-02-06  2018-09-24   \n",
       "1    0  2018-11-08          4.0               0  2019-02-06  2018-09-24   \n",
       "2    0  2018-11-24          3.0               0  2019-02-06  2018-09-24   \n",
       "3    0  2018-11-28          6.0               0  2019-02-06  2018-09-24   \n",
       "4    0  2018-12-02          6.0               0  2019-02-06  2018-09-24   \n",
       "\n",
       "  gender   user_type  \n",
       "0   male  non_reader  \n",
       "1   male  non_reader  \n",
       "2   male  non_reader  \n",
       "3   male  non_reader  \n",
       "4   male  non_reader  "
      ]
     },
     "execution_count": 682,
     "metadata": {},
     "output_type": "execute_result"
    }
   ],
   "source": [
    "before_AB_control_base_table.head()"
   ]
  },
  {
   "cell_type": "markdown",
   "metadata": {},
   "source": [
    "#### Active minute comparision"
   ]
  },
  {
   "cell_type": "code",
   "execution_count": 683,
   "metadata": {},
   "outputs": [],
   "source": [
    "# import seaborn as sns\n",
    "# import plotly.express as px\n",
    "# fig = px.histogram(before_AB_treatment_base_table_noout, x=\"active_mins\")\n",
    "# fig.show()"
   ]
  },
  {
   "cell_type": "code",
   "execution_count": 684,
   "metadata": {},
   "outputs": [
    {
     "data": {
      "text/html": [
       "<div>\n",
       "<style scoped>\n",
       "    .dataframe tbody tr th:only-of-type {\n",
       "        vertical-align: middle;\n",
       "    }\n",
       "\n",
       "    .dataframe tbody tr th {\n",
       "        vertical-align: top;\n",
       "    }\n",
       "\n",
       "    .dataframe thead th {\n",
       "        text-align: right;\n",
       "    }\n",
       "</style>\n",
       "<table border=\"1\" class=\"dataframe\">\n",
       "  <thead>\n",
       "    <tr style=\"text-align: right;\">\n",
       "      <th></th>\n",
       "      <th>active_mins</th>\n",
       "    </tr>\n",
       "  </thead>\n",
       "  <tbody>\n",
       "    <tr>\n",
       "      <td>count</td>\n",
       "      <td>978727.00000</td>\n",
       "    </tr>\n",
       "    <tr>\n",
       "      <td>mean</td>\n",
       "      <td>35.77256</td>\n",
       "    </tr>\n",
       "    <tr>\n",
       "      <td>std</td>\n",
       "      <td>1283.01916</td>\n",
       "    </tr>\n",
       "    <tr>\n",
       "      <td>min</td>\n",
       "      <td>1.00000</td>\n",
       "    </tr>\n",
       "    <tr>\n",
       "      <td>25%</td>\n",
       "      <td>2.00000</td>\n",
       "    </tr>\n",
       "    <tr>\n",
       "      <td>50%</td>\n",
       "      <td>5.00000</td>\n",
       "    </tr>\n",
       "    <tr>\n",
       "      <td>75%</td>\n",
       "      <td>15.00000</td>\n",
       "    </tr>\n",
       "    <tr>\n",
       "      <td>max</td>\n",
       "      <td>99999.00000</td>\n",
       "    </tr>\n",
       "  </tbody>\n",
       "</table>\n",
       "</div>"
      ],
      "text/plain": [
       "        active_mins\n",
       "count  978727.00000\n",
       "mean       35.77256\n",
       "std      1283.01916\n",
       "min         1.00000\n",
       "25%         2.00000\n",
       "50%         5.00000\n",
       "75%        15.00000\n",
       "max     99999.00000"
      ]
     },
     "execution_count": 684,
     "metadata": {},
     "output_type": "execute_result"
    }
   ],
   "source": [
    "pd.DataFrame(before_AB_control_base_table['active_mins'].describe())"
   ]
  },
  {
   "cell_type": "code",
   "execution_count": 685,
   "metadata": {},
   "outputs": [
    {
     "data": {
      "text/html": [
       "<div>\n",
       "<style scoped>\n",
       "    .dataframe tbody tr th:only-of-type {\n",
       "        vertical-align: middle;\n",
       "    }\n",
       "\n",
       "    .dataframe tbody tr th {\n",
       "        vertical-align: top;\n",
       "    }\n",
       "\n",
       "    .dataframe thead th {\n",
       "        text-align: right;\n",
       "    }\n",
       "</style>\n",
       "<table border=\"1\" class=\"dataframe\">\n",
       "  <thead>\n",
       "    <tr style=\"text-align: right;\">\n",
       "      <th></th>\n",
       "      <th>active_mins</th>\n",
       "    </tr>\n",
       "  </thead>\n",
       "  <tbody>\n",
       "    <tr>\n",
       "      <td>count</td>\n",
       "      <td>197942.000000</td>\n",
       "    </tr>\n",
       "    <tr>\n",
       "      <td>mean</td>\n",
       "      <td>16.222444</td>\n",
       "    </tr>\n",
       "    <tr>\n",
       "      <td>std</td>\n",
       "      <td>503.548367</td>\n",
       "    </tr>\n",
       "    <tr>\n",
       "      <td>min</td>\n",
       "      <td>1.000000</td>\n",
       "    </tr>\n",
       "    <tr>\n",
       "      <td>25%</td>\n",
       "      <td>2.000000</td>\n",
       "    </tr>\n",
       "    <tr>\n",
       "      <td>50%</td>\n",
       "      <td>4.000000</td>\n",
       "    </tr>\n",
       "    <tr>\n",
       "      <td>75%</td>\n",
       "      <td>11.000000</td>\n",
       "    </tr>\n",
       "    <tr>\n",
       "      <td>max</td>\n",
       "      <td>99999.000000</td>\n",
       "    </tr>\n",
       "  </tbody>\n",
       "</table>\n",
       "</div>"
      ],
      "text/plain": [
       "         active_mins\n",
       "count  197942.000000\n",
       "mean       16.222444\n",
       "std       503.548367\n",
       "min         1.000000\n",
       "25%         2.000000\n",
       "50%         4.000000\n",
       "75%        11.000000\n",
       "max     99999.000000"
      ]
     },
     "execution_count": 685,
     "metadata": {},
     "output_type": "execute_result"
    }
   ],
   "source": [
    "pd.DataFrame(before_AB_treatment_base_table['active_mins'].describe())"
   ]
  },
  {
   "cell_type": "code",
   "execution_count": 686,
   "metadata": {},
   "outputs": [
    {
     "data": {
      "text/html": [
       "<div>\n",
       "<style scoped>\n",
       "    .dataframe tbody tr th:only-of-type {\n",
       "        vertical-align: middle;\n",
       "    }\n",
       "\n",
       "    .dataframe tbody tr th {\n",
       "        vertical-align: top;\n",
       "    }\n",
       "\n",
       "    .dataframe thead th {\n",
       "        text-align: right;\n",
       "    }\n",
       "</style>\n",
       "<table border=\"1\" class=\"dataframe\">\n",
       "  <thead>\n",
       "    <tr style=\"text-align: right;\">\n",
       "      <th></th>\n",
       "      <th>active_mins</th>\n",
       "    </tr>\n",
       "  </thead>\n",
       "  <tbody>\n",
       "    <tr>\n",
       "      <td>count</td>\n",
       "      <td>886469.000000</td>\n",
       "    </tr>\n",
       "    <tr>\n",
       "      <td>mean</td>\n",
       "      <td>35.361478</td>\n",
       "    </tr>\n",
       "    <tr>\n",
       "      <td>std</td>\n",
       "      <td>1266.081303</td>\n",
       "    </tr>\n",
       "    <tr>\n",
       "      <td>min</td>\n",
       "      <td>1.000000</td>\n",
       "    </tr>\n",
       "    <tr>\n",
       "      <td>25%</td>\n",
       "      <td>2.000000</td>\n",
       "    </tr>\n",
       "    <tr>\n",
       "      <td>50%</td>\n",
       "      <td>5.000000</td>\n",
       "    </tr>\n",
       "    <tr>\n",
       "      <td>75%</td>\n",
       "      <td>16.000000</td>\n",
       "    </tr>\n",
       "    <tr>\n",
       "      <td>max</td>\n",
       "      <td>99999.000000</td>\n",
       "    </tr>\n",
       "  </tbody>\n",
       "</table>\n",
       "</div>"
      ],
      "text/plain": [
       "         active_mins\n",
       "count  886469.000000\n",
       "mean       35.361478\n",
       "std      1266.081303\n",
       "min         1.000000\n",
       "25%         2.000000\n",
       "50%         5.000000\n",
       "75%        16.000000\n",
       "max     99999.000000"
      ]
     },
     "execution_count": 686,
     "metadata": {},
     "output_type": "execute_result"
    }
   ],
   "source": [
    "pd.DataFrame(after_AB_control_base_table['active_mins'].describe())"
   ]
  },
  {
   "cell_type": "code",
   "execution_count": 687,
   "metadata": {},
   "outputs": [
    {
     "data": {
      "text/html": [
       "<div>\n",
       "<style scoped>\n",
       "    .dataframe tbody tr th:only-of-type {\n",
       "        vertical-align: middle;\n",
       "    }\n",
       "\n",
       "    .dataframe tbody tr th {\n",
       "        vertical-align: top;\n",
       "    }\n",
       "\n",
       "    .dataframe thead th {\n",
       "        text-align: right;\n",
       "    }\n",
       "</style>\n",
       "<table border=\"1\" class=\"dataframe\">\n",
       "  <thead>\n",
       "    <tr style=\"text-align: right;\">\n",
       "      <th></th>\n",
       "      <th>active_mins</th>\n",
       "    </tr>\n",
       "  </thead>\n",
       "  <tbody>\n",
       "    <tr>\n",
       "      <td>count</td>\n",
       "      <td>179291.000000</td>\n",
       "    </tr>\n",
       "    <tr>\n",
       "      <td>mean</td>\n",
       "      <td>40.270471</td>\n",
       "    </tr>\n",
       "    <tr>\n",
       "      <td>std</td>\n",
       "      <td>1294.258138</td>\n",
       "    </tr>\n",
       "    <tr>\n",
       "      <td>min</td>\n",
       "      <td>1.000000</td>\n",
       "    </tr>\n",
       "    <tr>\n",
       "      <td>25%</td>\n",
       "      <td>3.000000</td>\n",
       "    </tr>\n",
       "    <tr>\n",
       "      <td>50%</td>\n",
       "      <td>7.000000</td>\n",
       "    </tr>\n",
       "    <tr>\n",
       "      <td>75%</td>\n",
       "      <td>19.000000</td>\n",
       "    </tr>\n",
       "    <tr>\n",
       "      <td>max</td>\n",
       "      <td>99999.000000</td>\n",
       "    </tr>\n",
       "  </tbody>\n",
       "</table>\n",
       "</div>"
      ],
      "text/plain": [
       "         active_mins\n",
       "count  179291.000000\n",
       "mean       40.270471\n",
       "std      1294.258138\n",
       "min         1.000000\n",
       "25%         3.000000\n",
       "50%         7.000000\n",
       "75%        19.000000\n",
       "max     99999.000000"
      ]
     },
     "execution_count": 687,
     "metadata": {},
     "output_type": "execute_result"
    }
   ],
   "source": [
    "pd.DataFrame(after_AB_treatment_base_table['active_mins'].describe())"
   ]
  },
  {
   "cell_type": "code",
   "execution_count": 688,
   "metadata": {},
   "outputs": [
    {
     "data": {
      "text/html": [
       "<div>\n",
       "<style scoped>\n",
       "    .dataframe tbody tr th:only-of-type {\n",
       "        vertical-align: middle;\n",
       "    }\n",
       "\n",
       "    .dataframe tbody tr th {\n",
       "        vertical-align: top;\n",
       "    }\n",
       "\n",
       "    .dataframe thead th {\n",
       "        text-align: right;\n",
       "    }\n",
       "</style>\n",
       "<table border=\"1\" class=\"dataframe\">\n",
       "  <thead>\n",
       "    <tr style=\"text-align: right;\">\n",
       "      <th></th>\n",
       "      <th>uid</th>\n",
       "      <th>date</th>\n",
       "      <th>active_mins</th>\n",
       "      <th>variant_number</th>\n",
       "      <th>AB_Date</th>\n",
       "      <th>signup_date</th>\n",
       "      <th>gender</th>\n",
       "      <th>user_type</th>\n",
       "    </tr>\n",
       "  </thead>\n",
       "  <tbody>\n",
       "    <tr>\n",
       "      <td>38650</td>\n",
       "      <td>42198</td>\n",
       "      <td>2019-06-08</td>\n",
       "      <td>99999.0</td>\n",
       "      <td>1</td>\n",
       "      <td>2019-02-06</td>\n",
       "      <td>2016-10-11</td>\n",
       "      <td>male</td>\n",
       "      <td>reader</td>\n",
       "    </tr>\n",
       "    <tr>\n",
       "      <td>141896</td>\n",
       "      <td>47957</td>\n",
       "      <td>2019-03-03</td>\n",
       "      <td>99999.0</td>\n",
       "      <td>1</td>\n",
       "      <td>2019-02-06</td>\n",
       "      <td>2013-07-05</td>\n",
       "      <td>male</td>\n",
       "      <td>reader</td>\n",
       "    </tr>\n",
       "    <tr>\n",
       "      <td>170027</td>\n",
       "      <td>49503</td>\n",
       "      <td>2019-03-10</td>\n",
       "      <td>99999.0</td>\n",
       "      <td>1</td>\n",
       "      <td>2019-02-06</td>\n",
       "      <td>2017-05-26</td>\n",
       "      <td>male</td>\n",
       "      <td>contributor</td>\n",
       "    </tr>\n",
       "    <tr>\n",
       "      <td>125504</td>\n",
       "      <td>47041</td>\n",
       "      <td>2019-04-06</td>\n",
       "      <td>99999.0</td>\n",
       "      <td>1</td>\n",
       "      <td>2019-02-06</td>\n",
       "      <td>2018-12-06</td>\n",
       "      <td>female</td>\n",
       "      <td>reader</td>\n",
       "    </tr>\n",
       "    <tr>\n",
       "      <td>170104</td>\n",
       "      <td>49503</td>\n",
       "      <td>2019-06-29</td>\n",
       "      <td>99999.0</td>\n",
       "      <td>1</td>\n",
       "      <td>2019-02-06</td>\n",
       "      <td>2017-05-26</td>\n",
       "      <td>male</td>\n",
       "      <td>contributor</td>\n",
       "    </tr>\n",
       "  </tbody>\n",
       "</table>\n",
       "</div>"
      ],
      "text/plain": [
       "          uid        date  active_mins  variant_number     AB_Date  \\\n",
       "38650   42198  2019-06-08      99999.0               1  2019-02-06   \n",
       "141896  47957  2019-03-03      99999.0               1  2019-02-06   \n",
       "170027  49503  2019-03-10      99999.0               1  2019-02-06   \n",
       "125504  47041  2019-04-06      99999.0               1  2019-02-06   \n",
       "170104  49503  2019-06-29      99999.0               1  2019-02-06   \n",
       "\n",
       "       signup_date  gender    user_type  \n",
       "38650   2016-10-11    male       reader  \n",
       "141896  2013-07-05    male       reader  \n",
       "170027  2017-05-26    male  contributor  \n",
       "125504  2018-12-06  female       reader  \n",
       "170104  2017-05-26    male  contributor  "
      ]
     },
     "execution_count": 688,
     "metadata": {},
     "output_type": "execute_result"
    }
   ],
   "source": [
    "after_AB_treatment_base_table.sort_values(by = ['active_mins'], ascending=False)[:5]"
   ]
  },
  {
   "cell_type": "code",
   "execution_count": 689,
   "metadata": {},
   "outputs": [],
   "source": [
    "before_AB_treatment_base_table_noout = before_AB_treatment_base_table[before_AB_treatment_base_table.active_mins < np.percentile(before_AB_treatment_base_table.active_mins,92)]\n",
    "after_AB_treatment_base_table_noout = after_AB_treatment_base_table[after_AB_treatment_base_table.active_mins < np.percentile(after_AB_treatment_base_table.active_mins,92)]"
   ]
  },
  {
   "cell_type": "code",
   "execution_count": 690,
   "metadata": {},
   "outputs": [
    {
     "data": {
      "text/html": [
       "<div>\n",
       "<style scoped>\n",
       "    .dataframe tbody tr th:only-of-type {\n",
       "        vertical-align: middle;\n",
       "    }\n",
       "\n",
       "    .dataframe tbody tr th {\n",
       "        vertical-align: top;\n",
       "    }\n",
       "\n",
       "    .dataframe thead th {\n",
       "        text-align: right;\n",
       "    }\n",
       "</style>\n",
       "<table border=\"1\" class=\"dataframe\">\n",
       "  <thead>\n",
       "    <tr style=\"text-align: right;\">\n",
       "      <th></th>\n",
       "      <th>uid</th>\n",
       "      <th>date</th>\n",
       "      <th>active_mins</th>\n",
       "      <th>variant_number</th>\n",
       "      <th>AB_Date</th>\n",
       "      <th>signup_date</th>\n",
       "      <th>gender</th>\n",
       "      <th>user_type</th>\n",
       "    </tr>\n",
       "  </thead>\n",
       "  <tbody>\n",
       "    <tr>\n",
       "      <td>0</td>\n",
       "      <td>40001</td>\n",
       "      <td>2018-08-12</td>\n",
       "      <td>1.0</td>\n",
       "      <td>1</td>\n",
       "      <td>2019-02-06</td>\n",
       "      <td>2017-04-29</td>\n",
       "      <td>male</td>\n",
       "      <td>non_reader</td>\n",
       "    </tr>\n",
       "    <tr>\n",
       "      <td>1</td>\n",
       "      <td>40001</td>\n",
       "      <td>2018-08-21</td>\n",
       "      <td>1.0</td>\n",
       "      <td>1</td>\n",
       "      <td>2019-02-06</td>\n",
       "      <td>2017-04-29</td>\n",
       "      <td>male</td>\n",
       "      <td>non_reader</td>\n",
       "    </tr>\n",
       "    <tr>\n",
       "      <td>2</td>\n",
       "      <td>40001</td>\n",
       "      <td>2018-09-21</td>\n",
       "      <td>5.0</td>\n",
       "      <td>1</td>\n",
       "      <td>2019-02-06</td>\n",
       "      <td>2017-04-29</td>\n",
       "      <td>male</td>\n",
       "      <td>non_reader</td>\n",
       "    </tr>\n",
       "    <tr>\n",
       "      <td>3</td>\n",
       "      <td>40001</td>\n",
       "      <td>2018-09-23</td>\n",
       "      <td>3.0</td>\n",
       "      <td>1</td>\n",
       "      <td>2019-02-06</td>\n",
       "      <td>2017-04-29</td>\n",
       "      <td>male</td>\n",
       "      <td>non_reader</td>\n",
       "    </tr>\n",
       "    <tr>\n",
       "      <td>4</td>\n",
       "      <td>40001</td>\n",
       "      <td>2018-10-03</td>\n",
       "      <td>1.0</td>\n",
       "      <td>1</td>\n",
       "      <td>2019-02-06</td>\n",
       "      <td>2017-04-29</td>\n",
       "      <td>male</td>\n",
       "      <td>non_reader</td>\n",
       "    </tr>\n",
       "  </tbody>\n",
       "</table>\n",
       "</div>"
      ],
      "text/plain": [
       "     uid        date  active_mins  variant_number     AB_Date signup_date  \\\n",
       "0  40001  2018-08-12          1.0               1  2019-02-06  2017-04-29   \n",
       "1  40001  2018-08-21          1.0               1  2019-02-06  2017-04-29   \n",
       "2  40001  2018-09-21          5.0               1  2019-02-06  2017-04-29   \n",
       "3  40001  2018-09-23          3.0               1  2019-02-06  2017-04-29   \n",
       "4  40001  2018-10-03          1.0               1  2019-02-06  2017-04-29   \n",
       "\n",
       "  gender   user_type  \n",
       "0   male  non_reader  \n",
       "1   male  non_reader  \n",
       "2   male  non_reader  \n",
       "3   male  non_reader  \n",
       "4   male  non_reader  "
      ]
     },
     "execution_count": 690,
     "metadata": {},
     "output_type": "execute_result"
    }
   ],
   "source": [
    "before_AB_treatment_base_table_noout.head()"
   ]
  },
  {
   "cell_type": "code",
   "execution_count": 691,
   "metadata": {},
   "outputs": [
    {
     "data": {
      "image/png": "[encoded data removed]",
      "text/plain": [
       "<Figure size 432x288 with 1 Axes>"
      ]
     },
     "metadata": {},
     "output_type": "display_data"
    }
   ],
   "source": [
    "build_dist(before_AB_treatment_base_table_noout,after_AB_treatment_base_table_noout,\n",
    "           \"active_mins\",\"active_mins\",\"total_active_mins\", \"before_AB_Testing\",\"After_AB_Testing\")"
   ]
  },
  {
   "cell_type": "code",
   "execution_count": 692,
   "metadata": {},
   "outputs": [
    {
     "data": {
      "image/png": "[encoded data removed]",
      "text/plain": [
       "<Figure size 432x288 with 1 Axes>"
      ]
     },
     "metadata": {},
     "output_type": "display_data"
    }
   ],
   "source": [
    "build_dist(before_AB_treatment_base_table_noout[(before_AB_treatment_base_table_noout[\"gender\"] == \"female\")&(before_AB_treatment_base_table_noout[\"user_type\"] == \"reader\")],\n",
    "           after_AB_treatment_base_table_noout[(after_AB_treatment_base_table_noout[\"gender\"] == \"female\")&(after_AB_treatment_base_table_noout[\"user_type\"] == \"reader\")],\n",
    "           \"active_mins\",\"active_mins\",\"female_reader\", \"before_AB_Testing\",\"After_AB_Testing\")\n"
   ]
  },
  {
   "cell_type": "code",
   "execution_count": 693,
   "metadata": {},
   "outputs": [
    {
     "data": {
      "image/png": "[encoded data removed]",
      "text/plain": [
       "<Figure size 432x288 with 1 Axes>"
      ]
     },
     "metadata": {},
     "output_type": "display_data"
    }
   ],
   "source": [
    "\n",
    "\n",
    "build_dist(before_AB_treatment_base_table_noout[(before_AB_treatment_base_table_noout[\"gender\"] == \"male\")&(before_AB_treatment_base_table_noout[\"user_type\"] == \"reader\")],\n",
    "           after_AB_treatment_base_table_noout[(after_AB_treatment_base_table_noout[\"gender\"] == \"male\")&(after_AB_treatment_base_table_noout[\"user_type\"] == \"reader\")],\n",
    "           \"active_mins\",\"active_mins\",\"male_reader\", \"before_AB_Testing\",\"After_AB_Testing\")\n"
   ]
  },
  {
   "cell_type": "code",
   "execution_count": 694,
   "metadata": {},
   "outputs": [
    {
     "data": {
      "image/png": "[encoded data removed]",
      "text/plain": [
       "<Figure size 432x288 with 1 Axes>"
      ]
     },
     "metadata": {},
     "output_type": "display_data"
    }
   ],
   "source": [
    "\n",
    "build_dist(before_AB_treatment_base_table_noout[(before_AB_treatment_base_table_noout[\"gender\"] == \"female\")&(before_AB_treatment_base_table_noout[\"user_type\"] == \"non_reader\")],\n",
    "           after_AB_treatment_base_table_noout[(after_AB_treatment_base_table_noout[\"gender\"] == \"female\")&(after_AB_treatment_base_table_noout[\"user_type\"] == \"non_reader\")],\n",
    "           \"active_mins\",\"active_mins\",\"female_non_reader\", \"before_AB_Testing\",\"After_AB_Testing\")\n"
   ]
  },
  {
   "cell_type": "code",
   "execution_count": 695,
   "metadata": {},
   "outputs": [
    {
     "data": {
      "image/png": "[encoded data removed]",
      "text/plain": [
       "<Figure size 432x288 with 1 Axes>"
      ]
     },
     "metadata": {},
     "output_type": "display_data"
    }
   ],
   "source": [
    "\n",
    "build_dist(before_AB_treatment_base_table_noout[(before_AB_treatment_base_table_noout[\"gender\"] == \"male\")&(before_AB_treatment_base_table_noout[\"user_type\"] == \"non_reader\")],\n",
    "           after_AB_treatment_base_table_noout[(after_AB_treatment_base_table_noout[\"gender\"] == \"male\")&(after_AB_treatment_base_table_noout[\"user_type\"] == \"non_reader\")],\n",
    "           \"active_mins\",\"active_mins\", \"male_non_reader\", \"before_AB_Testing\",\"After_AB_Testing\")\n"
   ]
  },
  {
   "cell_type": "code",
   "execution_count": 696,
   "metadata": {},
   "outputs": [
    {
     "data": {
      "image/png": "[encoded data removed]",
      "text/plain": [
       "<Figure size 432x288 with 1 Axes>"
      ]
     },
     "metadata": {},
     "output_type": "display_data"
    }
   ],
   "source": [
    "build_dist(before_AB_treatment_base_table_noout[(before_AB_treatment_base_table_noout[\"gender\"] == \"unknown\")&(before_AB_treatment_base_table_noout[\"user_type\"] == \"contributor\")],\n",
    "           after_AB_treatment_base_table_noout[(after_AB_treatment_base_table_noout[\"gender\"] == \"unknown\")&(after_AB_treatment_base_table_noout[\"user_type\"] == \"contributor\")],\n",
    "           \"active_mins\",\"active_mins\",\"female_contributer\", \"before_AB_Testing\",\"After_AB_Testing\")"
   ]
  },
  {
   "cell_type": "code",
   "execution_count": 697,
   "metadata": {},
   "outputs": [
    {
     "data": {
      "image/png": "[encoded data removed]",
      "text/plain": [
       "<Figure size 432x288 with 1 Axes>"
      ]
     },
     "metadata": {},
     "output_type": "display_data"
    }
   ],
   "source": [
    "\n",
    "build_dist(before_AB_treatment_base_table_noout[(before_AB_treatment_base_table_noout[\"gender\"] == \"male\")&(before_AB_treatment_base_table_noout[\"user_type\"] == \"contributor\")],\n",
    "           after_AB_treatment_base_table_noout[(after_AB_treatment_base_table_noout[\"gender\"] == \"male\")&(after_AB_treatment_base_table_noout[\"user_type\"] == \"contributor\")],\n",
    "           \"active_mins\",\"active_mins\",\"male_contributer\", \"before_AB_Testing\",\"After_AB_Testing\")\n"
   ]
  },
  {
   "cell_type": "code",
   "execution_count": 698,
   "metadata": {},
   "outputs": [
    {
     "data": {
      "image/png": "[encoded data removed]",
      "text/plain": [
       "<Figure size 432x288 with 1 Axes>"
      ]
     },
     "metadata": {},
     "output_type": "display_data"
    }
   ],
   "source": [
    "build_dist(before_AB_treatment_base_table_noout[(before_AB_treatment_base_table_noout[\"gender\"] == \"female\")&(before_AB_treatment_base_table_noout[\"user_type\"] == \"new_user\")],\n",
    "           after_AB_treatment_base_table_noout[(after_AB_treatment_base_table_noout[\"gender\"] == \"female\")&(after_AB_treatment_base_table_noout[\"user_type\"] == \"new_user\")],\n",
    "           \"active_mins\",\"active_mins\",\"female_new_user\", \"before_AB_Testing\",\"After_AB_Testing\")"
   ]
  },
  {
   "cell_type": "code",
   "execution_count": 699,
   "metadata": {},
   "outputs": [
    {
     "data": {
      "image/png": "[encoded data removed]",
      "text/plain": [
       "<Figure size 432x288 with 1 Axes>"
      ]
     },
     "metadata": {},
     "output_type": "display_data"
    }
   ],
   "source": [
    "\n",
    "build_dist(before_AB_treatment_base_table_noout[(before_AB_treatment_base_table_noout[\"gender\"] == \"male\")&(before_AB_treatment_base_table_noout[\"user_type\"] == \"new_user\")],\n",
    "           after_AB_treatment_base_table_noout[(after_AB_treatment_base_table_noout[\"gender\"] == \"male\")&(after_AB_treatment_base_table_noout[\"user_type\"] == \"new_user\")],\n",
    "           \"active_mins\",\"active_mins\",\"male_new_user\", \"before_AB_Testing\",\"After_AB_Testing\")"
   ]
  },
  {
   "cell_type": "code",
   "execution_count": 700,
   "metadata": {},
   "outputs": [
    {
     "data": {
      "image/png": "[encoded data removed]",
      "text/plain": [
       "<Figure size 432x288 with 1 Axes>"
      ]
     },
     "metadata": {},
     "output_type": "display_data"
    }
   ],
   "source": [
    "build_dist(before_AB_treatment_base_table_noout[(before_AB_treatment_base_table_noout[\"gender\"] == \"unknown\")],\n",
    "           after_AB_treatment_base_table_noout[(after_AB_treatment_base_table_noout[\"gender\"] == \"unknown\")],\n",
    "           \"active_mins\",\"active_mins\",\"Unknown gender\", \"before_AB_Testing\",\"After_AB_Testing\")"
   ]
  },
  {
   "cell_type": "code",
   "execution_count": 701,
   "metadata": {},
   "outputs": [
    {
     "data": {
      "image/png": "[encoded data removed]",
      "text/plain": [
       "<Figure size 432x288 with 1 Axes>"
      ]
     },
     "metadata": {},
     "output_type": "display_data"
    }
   ],
   "source": [
    "build_dist(before_AB_treatment_base_table_noout[before_AB_treatment_base_table_noout[\"user_type\"] == \"reader\"],\n",
    "           after_AB_treatment_base_table_noout[after_AB_treatment_base_table_noout[\"user_type\"] == \"reader\"],\n",
    "           \"active_mins\",\"active_mins\",\"Reader\", \"before_AB_Testing\",\"After_AB_Testing\")"
   ]
  },
  {
   "cell_type": "code",
   "execution_count": 702,
   "metadata": {},
   "outputs": [
    {
     "data": {
      "image/png": "[encoded data removed]",
      "text/plain": [
       "<Figure size 432x288 with 1 Axes>"
      ]
     },
     "metadata": {},
     "output_type": "display_data"
    }
   ],
   "source": [
    "build_dist(before_AB_treatment_base_table_noout[before_AB_treatment_base_table_noout[\"user_type\"] == \"non_reader\"],\n",
    "           after_AB_treatment_base_table_noout[after_AB_treatment_base_table_noout[\"user_type\"] == \"non_reader\"],\n",
    "           \"active_mins\",\"active_mins\",\"non_reader\", \"before_AB_Testing\",\"After_AB_Testing\")"
   ]
  },
  {
   "cell_type": "code",
   "execution_count": 703,
   "metadata": {},
   "outputs": [
    {
     "data": {
      "image/png": "[encoded data removed]",
      "text/plain": [
       "<Figure size 432x288 with 1 Axes>"
      ]
     },
     "metadata": {},
     "output_type": "display_data"
    }
   ],
   "source": [
    "build_dist(before_AB_treatment_base_table_noout[before_AB_treatment_base_table_noout[\"user_type\"] == \"new_user\"],\n",
    "           after_AB_treatment_base_table_noout[after_AB_treatment_base_table_noout[\"user_type\"] == \"new_user\"],\n",
    "           \"active_mins\",\"active_mins\",\"new_user\", \"before_AB_Testing\",\"After_AB_Testing\")"
   ]
  },
  {
   "cell_type": "code",
   "execution_count": 704,
   "metadata": {},
   "outputs": [
    {
     "data": {
      "image/png": "[encoded data removed]",
      "text/plain": [
       "<Figure size 432x288 with 1 Axes>"
      ]
     },
     "metadata": {},
     "output_type": "display_data"
    }
   ],
   "source": [
    "build_dist(before_AB_treatment_base_table_noout[before_AB_treatment_base_table_noout[\"user_type\"] == \"contributor\"],\n",
    "           after_AB_treatment_base_table_noout[after_AB_treatment_base_table_noout[\"user_type\"] == \"contributor\"],\n",
    "           \"active_mins\",\"active_mins\",\"contributor\", \"before_AB_Testing\",\"After_AB_Testing\")"
   ]
  },
  {
   "cell_type": "code",
   "execution_count": 705,
   "metadata": {},
   "outputs": [
    {
     "data": {
      "image/png": "[encoded data removed]",
      "text/plain": [
       "<Figure size 432x288 with 1 Axes>"
      ]
     },
     "metadata": {},
     "output_type": "display_data"
    }
   ],
   "source": [
    "build_dist(before_AB_treatment_base_table_noout[before_AB_treatment_base_table_noout[\"gender\"] == \"male\"],\n",
    "           after_AB_treatment_base_table_noout[after_AB_treatment_base_table_noout[\"gender\"] == \"male\"],\n",
    "           \"active_mins\",\"active_mins\",\"male\", \"before_AB_Testing\",\"After_AB_Testing\")"
   ]
  },
  {
   "cell_type": "code",
   "execution_count": 706,
   "metadata": {},
   "outputs": [
    {
     "data": {
      "image/png": "[encoded data removed]",
      "text/plain": [
       "<Figure size 432x288 with 1 Axes>"
      ]
     },
     "metadata": {},
     "output_type": "display_data"
    }
   ],
   "source": [
    "build_dist(before_AB_treatment_base_table_noout[before_AB_treatment_base_table_noout[\"gender\"] == \"female\"],\n",
    "           after_AB_treatment_base_table_noout[after_AB_treatment_base_table_noout[\"gender\"] == \"female\"],\n",
    "           \"active_mins\",\"active_mins\",\"female\", \"before_AB_Testing\",\"After_AB_Testing\")"
   ]
  },
  {
   "cell_type": "code",
   "execution_count": 707,
   "metadata": {},
   "outputs": [
    {
     "data": {
      "image/png": "[encoded data removed]",
      "text/plain": [
       "<Figure size 432x288 with 1 Axes>"
      ]
     },
     "metadata": {},
     "output_type": "display_data"
    }
   ],
   "source": [
    "build_dist(before_AB_treatment_base_table_noout[before_AB_treatment_base_table_noout[\"gender\"] == \"unknown\"],\n",
    "           after_AB_treatment_base_table_noout[after_AB_treatment_base_table_noout[\"gender\"] == \"unknown\"],\n",
    "           \"active_mins\",\"active_mins\",\"unknown\", \"before_AB_Testing\",\"After_AB_Testing\")"
   ]
  },
  {
   "cell_type": "markdown",
   "metadata": {},
   "source": [
    "## Trying to see the change in number of visits over the entire data"
   ]
  },
  {
   "cell_type": "code",
   "execution_count": 708,
   "metadata": {
    "scrolled": true
   },
   "outputs": [
    {
     "name": "stderr",
     "output_type": "stream",
     "text": [
      "/opt/anaconda3/lib/python3.7/site-packages/ipykernel_launcher.py:2: SettingWithCopyWarning: \n",
      "A value is trying to be set on a copy of a slice from a DataFrame.\n",
      "Try using .loc[row_indexer,col_indexer] = value instead\n",
      "\n",
      "See the caveats in the documentation: http://pandas.pydata.org/pandas-docs/stable/user_guide/indexing.html#returning-a-view-versus-a-copy\n",
      "  \n",
      "/opt/anaconda3/lib/python3.7/site-packages/ipykernel_launcher.py:3: SettingWithCopyWarning: \n",
      "A value is trying to be set on a copy of a slice from a DataFrame.\n",
      "Try using .loc[row_indexer,col_indexer] = value instead\n",
      "\n",
      "See the caveats in the documentation: http://pandas.pydata.org/pandas-docs/stable/user_guide/indexing.html#returning-a-view-versus-a-copy\n",
      "  This is separate from the ipykernel package so we can avoid doing imports until\n"
     ]
    },
    {
     "data": {
      "text/html": [
       "<div>\n",
       "<style scoped>\n",
       "    .dataframe tbody tr th:only-of-type {\n",
       "        vertical-align: middle;\n",
       "    }\n",
       "\n",
       "    .dataframe tbody tr th {\n",
       "        vertical-align: top;\n",
       "    }\n",
       "\n",
       "    .dataframe thead th {\n",
       "        text-align: right;\n",
       "    }\n",
       "</style>\n",
       "<table border=\"1\" class=\"dataframe\">\n",
       "  <thead>\n",
       "    <tr style=\"text-align: right;\">\n",
       "      <th></th>\n",
       "      <th>uid</th>\n",
       "      <th>date</th>\n",
       "      <th>active_mins</th>\n",
       "      <th>variant_number</th>\n",
       "      <th>AB_Date</th>\n",
       "      <th>signup_date</th>\n",
       "      <th>gender</th>\n",
       "      <th>user_type</th>\n",
       "    </tr>\n",
       "  </thead>\n",
       "  <tbody>\n",
       "    <tr>\n",
       "      <td>0</td>\n",
       "      <td>40001</td>\n",
       "      <td>2018-08-12</td>\n",
       "      <td>1.0</td>\n",
       "      <td>1</td>\n",
       "      <td>2019-02-06</td>\n",
       "      <td>2017-04-29</td>\n",
       "      <td>male</td>\n",
       "      <td>non_reader</td>\n",
       "    </tr>\n",
       "    <tr>\n",
       "      <td>1</td>\n",
       "      <td>40001</td>\n",
       "      <td>2018-08-21</td>\n",
       "      <td>1.0</td>\n",
       "      <td>1</td>\n",
       "      <td>2019-02-06</td>\n",
       "      <td>2017-04-29</td>\n",
       "      <td>male</td>\n",
       "      <td>non_reader</td>\n",
       "    </tr>\n",
       "    <tr>\n",
       "      <td>2</td>\n",
       "      <td>40001</td>\n",
       "      <td>2018-09-21</td>\n",
       "      <td>5.0</td>\n",
       "      <td>1</td>\n",
       "      <td>2019-02-06</td>\n",
       "      <td>2017-04-29</td>\n",
       "      <td>male</td>\n",
       "      <td>non_reader</td>\n",
       "    </tr>\n",
       "    <tr>\n",
       "      <td>3</td>\n",
       "      <td>40001</td>\n",
       "      <td>2018-09-23</td>\n",
       "      <td>3.0</td>\n",
       "      <td>1</td>\n",
       "      <td>2019-02-06</td>\n",
       "      <td>2017-04-29</td>\n",
       "      <td>male</td>\n",
       "      <td>non_reader</td>\n",
       "    </tr>\n",
       "    <tr>\n",
       "      <td>4</td>\n",
       "      <td>40001</td>\n",
       "      <td>2018-10-03</td>\n",
       "      <td>1.0</td>\n",
       "      <td>1</td>\n",
       "      <td>2019-02-06</td>\n",
       "      <td>2017-04-29</td>\n",
       "      <td>male</td>\n",
       "      <td>non_reader</td>\n",
       "    </tr>\n",
       "  </tbody>\n",
       "</table>\n",
       "</div>"
      ],
      "text/plain": [
       "     uid        date  active_mins  variant_number    AB_Date signup_date  \\\n",
       "0  40001  2018-08-12          1.0               1 2019-02-06  2017-04-29   \n",
       "1  40001  2018-08-21          1.0               1 2019-02-06  2017-04-29   \n",
       "2  40001  2018-09-21          5.0               1 2019-02-06  2017-04-29   \n",
       "3  40001  2018-09-23          3.0               1 2019-02-06  2017-04-29   \n",
       "4  40001  2018-10-03          1.0               1 2019-02-06  2017-04-29   \n",
       "\n",
       "  gender   user_type  \n",
       "0   male  non_reader  \n",
       "1   male  non_reader  \n",
       "2   male  non_reader  \n",
       "3   male  non_reader  \n",
       "4   male  non_reader  "
      ]
     },
     "execution_count": 708,
     "metadata": {},
     "output_type": "execute_result"
    }
   ],
   "source": [
    "# Changing to date data-type\n",
    "before_AB_treatment_base_table_noout['AB_Date'] = pd.to_datetime(before_AB_treatment_base_table_noout['AB_Date'])\n",
    "before_AB_treatment_base_table_noout['signup_date'] = pd.to_datetime(before_AB_treatment_base_table_noout['signup_date'])\n",
    "before_AB_treatment_base_table_noout.head()"
   ]
  },
  {
   "cell_type": "code",
   "execution_count": 709,
   "metadata": {},
   "outputs": [],
   "source": [
    "user_count_before_AB = pd.DataFrame(before_AB_treatment_base_table_noout['uid'].value_counts())\n",
    "user_count_before_AB.reset_index(inplace = True)\n",
    "user_count_before_AB.rename(columns = {'uid':'before_count', 'index':'uid'}, inplace = True)\n",
    "user_count_after_AB = pd.DataFrame(after_AB_treatment_base_table_noout['uid'].value_counts())\n",
    "user_count_after_AB.reset_index(inplace = True)\n",
    "user_count_after_AB.rename(columns = {'uid':'after_count', 'index':'uid'}, inplace = True)"
   ]
  },
  {
   "cell_type": "code",
   "execution_count": 710,
   "metadata": {},
   "outputs": [
    {
     "data": {
      "image/png": "[encoded data removed]",
      "text/plain": [
       "<Figure size 432x288 with 1 Axes>"
      ]
     },
     "metadata": {},
     "output_type": "display_data"
    }
   ],
   "source": [
    "build_dist(user_count_before_AB,user_count_after_AB,'before_count','after_count','frequency of visit', \"before_AB_Testing\",\"After_AB_Testing\")"
   ]
  },
  {
   "cell_type": "code",
   "execution_count": 711,
   "metadata": {},
   "outputs": [],
   "source": [
    "frequency_AB_effect = pd.merge(user_count_before_AB, user_count_after_AB, how = \"inner\", on = \"uid\")\n",
    "sample_df = pd.DataFrame(after_AB_treatment_base_table_noout.groupby(['uid'])[['gender','user_type']].min())\n",
    "\n",
    "frequency_AB_effect = pd.merge(frequency_AB_effect, sample_df, how = \"left\", on = \"uid\")\n",
    "visit_increased_0_1 = []\n",
    "attribute_visit_increased = []\n",
    "attribute_visit_decreased = []\n",
    "for index,row in frequency_AB_effect.iterrows():\n",
    "    if row['after_count'] > row['before_count']:\n",
    "        visit_increased_0_1.append(1)\n",
    "        attribute_visit_increased.append([row['gender'],row['user_type']])\n",
    "    else:\n",
    "        visit_increased_0_1.append(0)\n",
    "        attribute_visit_decreased.append([row['gender'],row['user_type']])\n",
    "        \n",
    "        \n",
    "a = pd.DataFrame(attribute_visit_increased)\n",
    "b = pd.DataFrame(attribute_visit_decreased)\n",
    "\n",
    "\n",
    "analysis_increased_gender = pd.DataFrame(a[0].value_counts())\n",
    "analysis_increased_gender.reset_index(inplace = True)\n",
    "\n",
    "analysis_increased_gender.rename(columns = {0:'visit_increased_after_AB_Testing', 'index':'gender'}, inplace = True)\n",
    "\n",
    "analysis_increased_user_type= pd.DataFrame(a[1].value_counts())\n",
    "analysis_increased_user_type.reset_index(inplace = True)\n",
    "\n",
    "analysis_increased_user_type.rename(columns = {1:'visit_increased_after_AB_Testing', 'index':'user_type'}, inplace = True)\n",
    "\n",
    "analysis_decreased_gender = pd.DataFrame(b[0].value_counts())\n",
    "analysis_decreased_gender.reset_index(inplace = True)\n",
    "\n",
    "analysis_decreased_gender.rename(columns = {0:'visit_decreased_after_AB_Testing', 'index':'gender'}, inplace = True)\n",
    "\n",
    "analysis_decreased_user_type= pd.DataFrame(b[1].value_counts())\n",
    "analysis_decreased_user_type.reset_index(inplace = True)\n",
    "analysis_decreased_user_type.rename(columns = {1:'visit_decreased_after_AB_Testing', 'index':'user_type'}, inplace = True)\n",
    "\n",
    "analysis_gender_AB = pd.merge(analysis_increased_gender, analysis_decreased_gender,\n",
    "                             how = \"inner\", on = \"gender\")\n",
    "\n",
    "analysis_usertype_AB = pd.merge(analysis_increased_user_type, analysis_decreased_user_type,\n",
    "                             how = \"inner\", on = \"user_type\")"
   ]
  },
  {
   "cell_type": "code",
   "execution_count": 712,
   "metadata": {},
   "outputs": [
    {
     "data": {
      "text/html": [
       "<div>\n",
       "<style scoped>\n",
       "    .dataframe tbody tr th:only-of-type {\n",
       "        vertical-align: middle;\n",
       "    }\n",
       "\n",
       "    .dataframe tbody tr th {\n",
       "        vertical-align: top;\n",
       "    }\n",
       "\n",
       "    .dataframe thead th {\n",
       "        text-align: right;\n",
       "    }\n",
       "</style>\n",
       "<table border=\"1\" class=\"dataframe\">\n",
       "  <thead>\n",
       "    <tr style=\"text-align: right;\">\n",
       "      <th></th>\n",
       "      <th>user_type</th>\n",
       "      <th>visit_increased_after_AB_Testing</th>\n",
       "      <th>visit_decreased_after_AB_Testing</th>\n",
       "    </tr>\n",
       "  </thead>\n",
       "  <tbody>\n",
       "    <tr>\n",
       "      <td>0</td>\n",
       "      <td>non_reader</td>\n",
       "      <td>2554</td>\n",
       "      <td>4451</td>\n",
       "    </tr>\n",
       "    <tr>\n",
       "      <td>1</td>\n",
       "      <td>new_user</td>\n",
       "      <td>546</td>\n",
       "      <td>223</td>\n",
       "    </tr>\n",
       "    <tr>\n",
       "      <td>2</td>\n",
       "      <td>reader</td>\n",
       "      <td>455</td>\n",
       "      <td>804</td>\n",
       "    </tr>\n",
       "    <tr>\n",
       "      <td>3</td>\n",
       "      <td>contributor</td>\n",
       "      <td>49</td>\n",
       "      <td>77</td>\n",
       "    </tr>\n",
       "  </tbody>\n",
       "</table>\n",
       "</div>"
      ],
      "text/plain": [
       "     user_type  visit_increased_after_AB_Testing  \\\n",
       "0   non_reader                              2554   \n",
       "1     new_user                               546   \n",
       "2       reader                               455   \n",
       "3  contributor                                49   \n",
       "\n",
       "   visit_decreased_after_AB_Testing  \n",
       "0                              4451  \n",
       "1                               223  \n",
       "2                               804  \n",
       "3                                77  "
      ]
     },
     "execution_count": 712,
     "metadata": {},
     "output_type": "execute_result"
    }
   ],
   "source": [
    "analysis_usertype_AB.head()"
   ]
  },
  {
   "cell_type": "code",
   "execution_count": 713,
   "metadata": {},
   "outputs": [
    {
     "data": {
      "text/html": [
       "<div>\n",
       "<style scoped>\n",
       "    .dataframe tbody tr th:only-of-type {\n",
       "        vertical-align: middle;\n",
       "    }\n",
       "\n",
       "    .dataframe tbody tr th {\n",
       "        vertical-align: top;\n",
       "    }\n",
       "\n",
       "    .dataframe thead th {\n",
       "        text-align: right;\n",
       "    }\n",
       "</style>\n",
       "<table border=\"1\" class=\"dataframe\">\n",
       "  <thead>\n",
       "    <tr style=\"text-align: right;\">\n",
       "      <th></th>\n",
       "      <th>gender</th>\n",
       "      <th>visit_increased_after_AB_Testing</th>\n",
       "      <th>visit_decreased_after_AB_Testing</th>\n",
       "    </tr>\n",
       "  </thead>\n",
       "  <tbody>\n",
       "    <tr>\n",
       "      <td>0</td>\n",
       "      <td>male</td>\n",
       "      <td>1995</td>\n",
       "      <td>3127</td>\n",
       "    </tr>\n",
       "    <tr>\n",
       "      <td>1</td>\n",
       "      <td>female</td>\n",
       "      <td>1044</td>\n",
       "      <td>1545</td>\n",
       "    </tr>\n",
       "    <tr>\n",
       "      <td>2</td>\n",
       "      <td>unknown</td>\n",
       "      <td>565</td>\n",
       "      <td>883</td>\n",
       "    </tr>\n",
       "  </tbody>\n",
       "</table>\n",
       "</div>"
      ],
      "text/plain": [
       "    gender  visit_increased_after_AB_Testing  visit_decreased_after_AB_Testing\n",
       "0     male                              1995                              3127\n",
       "1   female                              1044                              1545\n",
       "2  unknown                               565                               883"
      ]
     },
     "execution_count": 713,
     "metadata": {},
     "output_type": "execute_result"
    }
   ],
   "source": [
    "analysis_gender_AB.head()"
   ]
  },
  {
   "cell_type": "markdown",
   "metadata": {},
   "source": [
    "## Trying to see the change in amount of time spent over the entire data"
   ]
  },
  {
   "cell_type": "code",
   "execution_count": 714,
   "metadata": {},
   "outputs": [],
   "source": [
    "before_AB = pd.DataFrame(before_AB_treatment_base_table_noout.groupby(['uid'])['active_mins'].sum())\n",
    "after_AB = pd.DataFrame(after_AB_treatment_base_table_noout.groupby(['uid'])['active_mins'].sum())\n",
    "after_AB.reset_index(inplace = True)\n",
    "after_AB.rename(columns = {'active_mins':'total_active_time_after_AB_testing'}, inplace = True)\n",
    "before_AB.reset_index(inplace = True)\n",
    "before_AB.rename(columns = {'active_mins':'total_active_time_before_AB_testing'}, inplace = True)\n",
    "\n",
    "active_min_AB_testing_analysis = pd.merge(before_AB,after_AB, on = \"uid\", how = \"inner\")\n",
    "active_min_AB_testing_analysis = pd.merge(active_min_AB_testing_analysis,\n",
    "                                          t4_user_attributes, how = 'left', on = \"uid\")\n",
    "\n",
    "visit_increased_0_1 = []\n",
    "attribute_visit_increased = []\n",
    "attribute_visit_decreased = []\n",
    "for index,row in active_min_AB_testing_analysis.iterrows():\n",
    "    if row['total_active_time_after_AB_testing'] > row['total_active_time_before_AB_testing']:\n",
    "        visit_increased_0_1.append(1)\n",
    "        attribute_visit_increased.append([row['gender'],row['user_type']])\n",
    "    else:\n",
    "        visit_increased_0_1.append(0)\n",
    "        attribute_visit_decreased.append([row['gender'],row['user_type']])\n",
    "        \n",
    "        \n",
    "a = pd.DataFrame(attribute_visit_increased)\n",
    "b = pd.DataFrame(attribute_visit_decreased)\n",
    "\n",
    "\n",
    "time_increased_gender = pd.DataFrame(a[0].value_counts())\n",
    "time_increased_gender.reset_index(inplace = True)\n",
    "\n",
    "time_increased_gender.rename(columns = {0:'time_increased_after_AB_Testing', 'index':'gender'}, inplace = True)\n",
    "\n",
    "time_increased_user_type= pd.DataFrame(a[1].value_counts())\n",
    "time_increased_user_type.reset_index(inplace = True)\n",
    "\n",
    "time_increased_user_type.rename(columns = {1:'time_increased_after_AB_Testing', 'index':'user_type'}, inplace = True)\n",
    "\n",
    "time_decreased_gender = pd.DataFrame(b[0].value_counts())\n",
    "time_decreased_gender.reset_index(inplace = True)\n",
    "\n",
    "time_decreased_gender.rename(columns = {0:'time_decreased_after_AB_Testing', 'index':'gender'}, inplace = True)\n",
    "\n",
    "time_decreased_user_type= pd.DataFrame(b[1].value_counts())\n",
    "time_decreased_user_type.reset_index(inplace = True)\n",
    "time_decreased_user_type.rename(columns = {1:'time_decreased_after_AB_Testing', 'index':'user_type'}, inplace = True)\n",
    "\n",
    "time_analysis_gender_AB = pd.merge(time_increased_gender, time_decreased_gender,\n",
    "                             how = \"inner\", on = \"gender\")\n",
    "\n",
    "time_analysis_usertype_AB = pd.merge(time_increased_user_type, time_decreased_user_type,\n",
    "                             how = \"inner\", on = \"user_type\")"
   ]
  },
  {
   "cell_type": "code",
   "execution_count": 715,
   "metadata": {},
   "outputs": [
    {
     "data": {
      "text/html": [
       "<div>\n",
       "<style scoped>\n",
       "    .dataframe tbody tr th:only-of-type {\n",
       "        vertical-align: middle;\n",
       "    }\n",
       "\n",
       "    .dataframe tbody tr th {\n",
       "        vertical-align: top;\n",
       "    }\n",
       "\n",
       "    .dataframe thead th {\n",
       "        text-align: right;\n",
       "    }\n",
       "</style>\n",
       "<table border=\"1\" class=\"dataframe\">\n",
       "  <thead>\n",
       "    <tr style=\"text-align: right;\">\n",
       "      <th></th>\n",
       "      <th>gender</th>\n",
       "      <th>time_increased_after_AB_Testing</th>\n",
       "      <th>time_decreased_after_AB_Testing</th>\n",
       "    </tr>\n",
       "  </thead>\n",
       "  <tbody>\n",
       "    <tr>\n",
       "      <td>0</td>\n",
       "      <td>male</td>\n",
       "      <td>3280</td>\n",
       "      <td>1842</td>\n",
       "    </tr>\n",
       "    <tr>\n",
       "      <td>1</td>\n",
       "      <td>female</td>\n",
       "      <td>1604</td>\n",
       "      <td>985</td>\n",
       "    </tr>\n",
       "    <tr>\n",
       "      <td>2</td>\n",
       "      <td>unknown</td>\n",
       "      <td>894</td>\n",
       "      <td>554</td>\n",
       "    </tr>\n",
       "  </tbody>\n",
       "</table>\n",
       "</div>"
      ],
      "text/plain": [
       "    gender  time_increased_after_AB_Testing  time_decreased_after_AB_Testing\n",
       "0     male                             3280                             1842\n",
       "1   female                             1604                              985\n",
       "2  unknown                              894                              554"
      ]
     },
     "execution_count": 715,
     "metadata": {},
     "output_type": "execute_result"
    }
   ],
   "source": [
    "time_analysis_gender_AB.head()"
   ]
  },
  {
   "cell_type": "code",
   "execution_count": 716,
   "metadata": {},
   "outputs": [
    {
     "data": {
      "text/html": [
       "<div>\n",
       "<style scoped>\n",
       "    .dataframe tbody tr th:only-of-type {\n",
       "        vertical-align: middle;\n",
       "    }\n",
       "\n",
       "    .dataframe tbody tr th {\n",
       "        vertical-align: top;\n",
       "    }\n",
       "\n",
       "    .dataframe thead th {\n",
       "        text-align: right;\n",
       "    }\n",
       "</style>\n",
       "<table border=\"1\" class=\"dataframe\">\n",
       "  <thead>\n",
       "    <tr style=\"text-align: right;\">\n",
       "      <th></th>\n",
       "      <th>user_type</th>\n",
       "      <th>time_increased_after_AB_Testing</th>\n",
       "      <th>time_decreased_after_AB_Testing</th>\n",
       "    </tr>\n",
       "  </thead>\n",
       "  <tbody>\n",
       "    <tr>\n",
       "      <td>0</td>\n",
       "      <td>non_reader</td>\n",
       "      <td>4165</td>\n",
       "      <td>2840</td>\n",
       "    </tr>\n",
       "    <tr>\n",
       "      <td>1</td>\n",
       "      <td>reader</td>\n",
       "      <td>915</td>\n",
       "      <td>344</td>\n",
       "    </tr>\n",
       "    <tr>\n",
       "      <td>2</td>\n",
       "      <td>new_user</td>\n",
       "      <td>608</td>\n",
       "      <td>161</td>\n",
       "    </tr>\n",
       "    <tr>\n",
       "      <td>3</td>\n",
       "      <td>contributor</td>\n",
       "      <td>90</td>\n",
       "      <td>36</td>\n",
       "    </tr>\n",
       "  </tbody>\n",
       "</table>\n",
       "</div>"
      ],
      "text/plain": [
       "     user_type  time_increased_after_AB_Testing  \\\n",
       "0   non_reader                             4165   \n",
       "1       reader                              915   \n",
       "2     new_user                              608   \n",
       "3  contributor                               90   \n",
       "\n",
       "   time_decreased_after_AB_Testing  \n",
       "0                             2840  \n",
       "1                              344  \n",
       "2                              161  \n",
       "3                               36  "
      ]
     },
     "execution_count": 716,
     "metadata": {},
     "output_type": "execute_result"
    }
   ],
   "source": [
    "time_analysis_usertype_AB.head()"
   ]
  },
  {
   "cell_type": "markdown",
   "metadata": {},
   "source": [
    "#### Between control and treatment group "
   ]
  },
  {
   "cell_type": "code",
   "execution_count": 717,
   "metadata": {},
   "outputs": [],
   "source": [
    "after_AB_control_base_table_noout = after_AB_control_base_table[after_AB_control_base_table.active_mins < np.percentile(after_AB_control_base_table.active_mins,92)]\n",
    "after_AB_treatment_base_table_noout = after_AB_treatment_base_table[after_AB_treatment_base_table.active_mins < np.percentile(after_AB_treatment_base_table.active_mins,92)]"
   ]
  },
  {
   "cell_type": "code",
   "execution_count": 718,
   "metadata": {},
   "outputs": [
    {
     "data": {
      "image/png": "[encoded data removed]",
      "text/plain": [
       "<Figure size 432x288 with 1 Axes>"
      ]
     },
     "metadata": {},
     "output_type": "display_data"
    }
   ],
   "source": [
    "build_dist(after_AB_control_base_table,after_AB_treatment_base_table,\n",
    "           \"active_mins\",\"active_mins\",\"total_active_mins\",\"Control\",\"Treatment\")"
   ]
  },
  {
   "cell_type": "code",
   "execution_count": 719,
   "metadata": {},
   "outputs": [
    {
     "data": {
      "image/png": "[encoded data removed]",
      "text/plain": [
       "<Figure size 432x288 with 1 Axes>"
      ]
     },
     "metadata": {},
     "output_type": "display_data"
    }
   ],
   "source": [
    "build_dist(after_AB_control_base_table_noout[(after_AB_control_base_table_noout[\"gender\"] == \"female\")&(after_AB_control_base_table_noout[\"user_type\"] == \"reader\")],\n",
    "           after_AB_treatment_base_table_noout[(after_AB_treatment_base_table_noout[\"gender\"] == \"female\")&(after_AB_treatment_base_table_noout[\"user_type\"] == \"reader\")],\n",
    "           \"active_mins\",\"active_mins\",\"female_reader\",\"Control\",\"Treatment\")"
   ]
  },
  {
   "cell_type": "code",
   "execution_count": 720,
   "metadata": {},
   "outputs": [
    {
     "data": {
      "image/png": "[encoded data removed]",
      "text/plain": [
       "<Figure size 432x288 with 1 Axes>"
      ]
     },
     "metadata": {},
     "output_type": "display_data"
    }
   ],
   "source": [
    "build_dist(after_AB_control_base_table_noout[(after_AB_control_base_table_noout[\"gender\"] == \"male\")&(after_AB_control_base_table_noout[\"user_type\"] == \"reader\")],\n",
    "           after_AB_treatment_base_table_noout[(after_AB_treatment_base_table_noout[\"gender\"] == \"male\")&(after_AB_treatment_base_table_noout[\"user_type\"] == \"reader\")],\n",
    "           \"active_mins\",\"active_mins\",\"male_reader\", \"Control\", \"Treatment\")"
   ]
  },
  {
   "cell_type": "code",
   "execution_count": 721,
   "metadata": {},
   "outputs": [
    {
     "data": {
      "image/png": "[encoded data removed]",
      "text/plain": [
       "<Figure size 432x288 with 1 Axes>"
      ]
     },
     "metadata": {},
     "output_type": "display_data"
    }
   ],
   "source": [
    "build_dist(after_AB_control_base_table_noout[(after_AB_control_base_table_noout[\"gender\"] == \"female\")&(after_AB_control_base_table_noout[\"user_type\"] == \"non_reader\")],\n",
    "           after_AB_treatment_base_table_noout[(after_AB_treatment_base_table_noout[\"gender\"] == \"female\")&(after_AB_treatment_base_table_noout[\"user_type\"] == \"non_reader\")],\n",
    "           \"active_mins\",\"active_mins\",\"female_non_reader\", \"Control\", \"Treatment\")"
   ]
  },
  {
   "cell_type": "code",
   "execution_count": 722,
   "metadata": {},
   "outputs": [
    {
     "data": {
      "image/png": "[encoded data removed]",
      "text/plain": [
       "<Figure size 432x288 with 1 Axes>"
      ]
     },
     "metadata": {},
     "output_type": "display_data"
    }
   ],
   "source": [
    "build_dist(after_AB_control_base_table_noout[(after_AB_control_base_table_noout[\"gender\"] == \"male\")&(after_AB_control_base_table_noout[\"user_type\"] == \"non_reader\")],\n",
    "           after_AB_treatment_base_table_noout[(after_AB_treatment_base_table_noout[\"gender\"] == \"male\")&(after_AB_treatment_base_table_noout[\"user_type\"] == \"non_reader\")],\n",
    "           \"active_mins\",\"active_mins\", \"male_non_reader\", \"Control\", \"Treatment\")"
   ]
  },
  {
   "cell_type": "code",
   "execution_count": 723,
   "metadata": {},
   "outputs": [
    {
     "data": {
      "image/png": "[encoded data removed]",
      "text/plain": [
       "<Figure size 432x288 with 1 Axes>"
      ]
     },
     "metadata": {},
     "output_type": "display_data"
    }
   ],
   "source": [
    "build_dist(after_AB_control_base_table_noout[(after_AB_control_base_table_noout[\"gender\"] == \"female\")&(after_AB_control_base_table_noout[\"user_type\"] == \"contributor\")],\n",
    "           after_AB_treatment_base_table_noout[(after_AB_treatment_base_table_noout[\"gender\"] == \"female\")&(after_AB_treatment_base_table_noout[\"user_type\"] == \"contributor\")],\n",
    "           \"active_mins\",\"active_mins\",\"female_contributor\", \"Control\", \"Treatment\")"
   ]
  },
  {
   "cell_type": "code",
   "execution_count": 724,
   "metadata": {},
   "outputs": [
    {
     "data": {
      "image/png": "[encoded data removed]",
      "text/plain": [
       "<Figure size 432x288 with 1 Axes>"
      ]
     },
     "metadata": {},
     "output_type": "display_data"
    }
   ],
   "source": [
    "build_dist(after_AB_control_base_table_noout[(after_AB_control_base_table_noout[\"gender\"] == \"male\")&(after_AB_control_base_table_noout[\"user_type\"] == \"contributor\")],\n",
    "           after_AB_treatment_base_table_noout[(after_AB_treatment_base_table_noout[\"gender\"] == \"male\")&(after_AB_treatment_base_table_noout[\"user_type\"] == \"contributor\")],\n",
    "           \"active_mins\",\"active_mins\",\"male_contributor\", \"Control\", \"Treatment\")"
   ]
  },
  {
   "cell_type": "code",
   "execution_count": 725,
   "metadata": {},
   "outputs": [
    {
     "data": {
      "image/png": "[encoded data removed]",
      "text/plain": [
       "<Figure size 432x288 with 1 Axes>"
      ]
     },
     "metadata": {},
     "output_type": "display_data"
    }
   ],
   "source": [
    "build_dist(after_AB_control_base_table_noout[(after_AB_control_base_table_noout[\"gender\"] == \"female\")&(after_AB_control_base_table_noout[\"user_type\"] == \"new_user\")],\n",
    "           after_AB_treatment_base_table_noout[(after_AB_treatment_base_table_noout[\"gender\"] == \"female\")&(after_AB_treatment_base_table_noout[\"user_type\"] == \"new_user\")],\n",
    "           \"active_mins\",\"active_mins\",\"female_new_user\", \"Control\", \"Treatment\")"
   ]
  },
  {
   "cell_type": "code",
   "execution_count": 726,
   "metadata": {},
   "outputs": [
    {
     "data": {
      "image/png": "[encoded data removed]",
      "text/plain": [
       "<Figure size 432x288 with 1 Axes>"
      ]
     },
     "metadata": {},
     "output_type": "display_data"
    }
   ],
   "source": [
    "build_dist(after_AB_control_base_table_noout[(after_AB_control_base_table_noout[\"gender\"] == \"male\")&(after_AB_control_base_table_noout[\"user_type\"] == \"new_user\")],\n",
    "           after_AB_treatment_base_table_noout[(after_AB_treatment_base_table_noout[\"gender\"] == \"male\")&(after_AB_treatment_base_table_noout[\"user_type\"] == \"new_user\")],\n",
    "           \"active_mins\",\"active_mins\",\"male_new_user\", \"Control\", \"Treatment\")"
   ]
  },
  {
   "cell_type": "markdown",
   "metadata": {},
   "source": [
    "#### Regrression and p-value analysis"
   ]
  },
  {
   "cell_type": "code",
   "execution_count": 727,
   "metadata": {},
   "outputs": [],
   "source": [
    "before_AB_treatment_base_table['date'] = pd.to_datetime(before_AB_treatment_base_table['date'])\n",
    "before_AB_treatment_base_table['AB_Date'] = pd.to_datetime(before_AB_treatment_base_table['AB_Date'])\n",
    "before_AB_treatment_base_table['signup_date'] = pd.to_datetime(before_AB_treatment_base_table['signup_date'])\n",
    "\n",
    "before_AB_control_base_table['date'] = pd.to_datetime(before_AB_control_base_table['date'])\n",
    "before_AB_control_base_table['AB_Date'] = pd.to_datetime(before_AB_control_base_table['AB_Date'])\n",
    "before_AB_control_base_table['signup_date'] = pd.to_datetime(before_AB_control_base_table['signup_date'])\n",
    "\n",
    "after_AB_control_base_table['date'] = pd.to_datetime(after_AB_control_base_table['date'])\n",
    "after_AB_control_base_table['AB_Date'] = pd.to_datetime(after_AB_control_base_table['AB_Date'])\n",
    "after_AB_control_base_table['signup_date'] = pd.to_datetime(after_AB_control_base_table['signup_date'])\n",
    "\n",
    "after_AB_treatment_base_table['date'] = pd.to_datetime(after_AB_treatment_base_table['date'])\n",
    "after_AB_treatment_base_table['AB_Date'] = pd.to_datetime(after_AB_treatment_base_table['AB_Date'])\n",
    "after_AB_treatment_base_table['signup_date'] = pd.to_datetime(after_AB_treatment_base_table['signup_date'])"
   ]
  },
  {
   "cell_type": "code",
   "execution_count": 728,
   "metadata": {},
   "outputs": [],
   "source": [
    "before_AB_treatment_base_table['days_since_signup'] = before_AB_treatment_base_table['AB_Date'] - before_AB_treatment_base_table['signup_date']\n",
    "before_AB_treatment_base_table['days_since_signup'] = before_AB_treatment_base_table['days_since_signup'].apply(lambda x:x.days)\n",
    "\n",
    "before_AB_control_base_table['days_since_signup'] = before_AB_control_base_table['AB_Date'] - before_AB_control_base_table['signup_date']\n",
    "before_AB_control_base_table['days_since_signup'] = before_AB_control_base_table['days_since_signup'].apply(lambda x:x.days)\n",
    "\n",
    "after_AB_control_base_table['days_since_signup'] = after_AB_control_base_table['AB_Date'] - after_AB_control_base_table['signup_date']\n",
    "after_AB_control_base_table['days_since_signup'] = after_AB_control_base_table['days_since_signup'].apply(lambda x:x.days)\n",
    "\n",
    "after_AB_treatment_base_table['days_since_signup'] = after_AB_treatment_base_table['AB_Date'] - after_AB_treatment_base_table['signup_date']\n",
    "after_AB_treatment_base_table['days_since_signup'] = after_AB_treatment_base_table['days_since_signup'].apply(lambda x:x.days)"
   ]
  },
  {
   "cell_type": "code",
   "execution_count": 729,
   "metadata": {},
   "outputs": [
    {
     "data": {
      "text/html": [
       "<div>\n",
       "<style scoped>\n",
       "    .dataframe tbody tr th:only-of-type {\n",
       "        vertical-align: middle;\n",
       "    }\n",
       "\n",
       "    .dataframe tbody tr th {\n",
       "        vertical-align: top;\n",
       "    }\n",
       "\n",
       "    .dataframe thead th {\n",
       "        text-align: right;\n",
       "    }\n",
       "</style>\n",
       "<table border=\"1\" class=\"dataframe\">\n",
       "  <thead>\n",
       "    <tr style=\"text-align: right;\">\n",
       "      <th></th>\n",
       "      <th>uid</th>\n",
       "      <th>date</th>\n",
       "      <th>active_mins</th>\n",
       "      <th>variant_number</th>\n",
       "      <th>AB_Date</th>\n",
       "      <th>signup_date</th>\n",
       "      <th>gender</th>\n",
       "      <th>user_type</th>\n",
       "      <th>days_since_signup</th>\n",
       "    </tr>\n",
       "  </thead>\n",
       "  <tbody>\n",
       "    <tr>\n",
       "      <td>0</td>\n",
       "      <td>40001</td>\n",
       "      <td>2019-02-14</td>\n",
       "      <td>16.0</td>\n",
       "      <td>1</td>\n",
       "      <td>2019-02-06</td>\n",
       "      <td>2017-04-29</td>\n",
       "      <td>male</td>\n",
       "      <td>non_reader</td>\n",
       "      <td>648</td>\n",
       "    </tr>\n",
       "    <tr>\n",
       "      <td>1</td>\n",
       "      <td>40001</td>\n",
       "      <td>2019-02-17</td>\n",
       "      <td>5.0</td>\n",
       "      <td>1</td>\n",
       "      <td>2019-02-06</td>\n",
       "      <td>2017-04-29</td>\n",
       "      <td>male</td>\n",
       "      <td>non_reader</td>\n",
       "      <td>648</td>\n",
       "    </tr>\n",
       "    <tr>\n",
       "      <td>2</td>\n",
       "      <td>40001</td>\n",
       "      <td>2019-02-22</td>\n",
       "      <td>16.0</td>\n",
       "      <td>1</td>\n",
       "      <td>2019-02-06</td>\n",
       "      <td>2017-04-29</td>\n",
       "      <td>male</td>\n",
       "      <td>non_reader</td>\n",
       "      <td>648</td>\n",
       "    </tr>\n",
       "    <tr>\n",
       "      <td>3</td>\n",
       "      <td>40001</td>\n",
       "      <td>2019-02-24</td>\n",
       "      <td>5.0</td>\n",
       "      <td>1</td>\n",
       "      <td>2019-02-06</td>\n",
       "      <td>2017-04-29</td>\n",
       "      <td>male</td>\n",
       "      <td>non_reader</td>\n",
       "      <td>648</td>\n",
       "    </tr>\n",
       "    <tr>\n",
       "      <td>4</td>\n",
       "      <td>40001</td>\n",
       "      <td>2019-02-25</td>\n",
       "      <td>34.0</td>\n",
       "      <td>1</td>\n",
       "      <td>2019-02-06</td>\n",
       "      <td>2017-04-29</td>\n",
       "      <td>male</td>\n",
       "      <td>non_reader</td>\n",
       "      <td>648</td>\n",
       "    </tr>\n",
       "  </tbody>\n",
       "</table>\n",
       "</div>"
      ],
      "text/plain": [
       "     uid       date  active_mins  variant_number    AB_Date signup_date  \\\n",
       "0  40001 2019-02-14         16.0               1 2019-02-06  2017-04-29   \n",
       "1  40001 2019-02-17          5.0               1 2019-02-06  2017-04-29   \n",
       "2  40001 2019-02-22         16.0               1 2019-02-06  2017-04-29   \n",
       "3  40001 2019-02-24          5.0               1 2019-02-06  2017-04-29   \n",
       "4  40001 2019-02-25         34.0               1 2019-02-06  2017-04-29   \n",
       "\n",
       "  gender   user_type  days_since_signup  \n",
       "0   male  non_reader                648  \n",
       "1   male  non_reader                648  \n",
       "2   male  non_reader                648  \n",
       "3   male  non_reader                648  \n",
       "4   male  non_reader                648  "
      ]
     },
     "execution_count": 729,
     "metadata": {},
     "output_type": "execute_result"
    }
   ],
   "source": [
    "after_AB_treatment_base_table.head()"
   ]
  },
  {
   "cell_type": "code",
   "execution_count": 730,
   "metadata": {},
   "outputs": [],
   "source": [
    "col_to_drop = ['date','AB_Date','signup_date']"
   ]
  },
  {
   "cell_type": "code",
   "execution_count": 731,
   "metadata": {},
   "outputs": [],
   "source": [
    "def mapMaleFemale(df):\n",
    "    return df['gender'].map({'female':0, 'male':1})"
   ]
  },
  {
   "cell_type": "code",
   "execution_count": 732,
   "metadata": {},
   "outputs": [],
   "source": [
    "before_AB_treatment_base_table['gender'] = mapMaleFemale(before_AB_treatment_base_table)\n",
    "before_AB_control_base_table['gender'] = mapMaleFemale(before_AB_control_base_table)\n",
    "after_AB_control_base_table['gender'] = mapMaleFemale(after_AB_control_base_table)\n",
    "after_AB_treatment_base_table['gender'] = mapMaleFemale(after_AB_treatment_base_table)"
   ]
  },
  {
   "cell_type": "code",
   "execution_count": 733,
   "metadata": {},
   "outputs": [],
   "source": [
    "def finalizeDataTables(df, col_to_drop, generateFile):\n",
    "    # dum_1 = pd.get_dummies(before_AB_control_base_table['gender'])\n",
    "    dum_2 = pd.get_dummies(df['user_type'])\n",
    "    df = pd.concat([df,dum_2], axis = 1)\n",
    "    df.drop(columns = col_to_drop, inplace = True)\n",
    "    a = pd.DataFrame(df['uid'].value_counts())\n",
    "    a.reset_index(inplace = True)\n",
    "    a.rename(columns = {'uid':'appearences','index':'uid'}, inplace = True)\n",
    "    df = pd.merge(df,a,how = \"inner\",on = \"uid\")\n",
    "    col_to_group_by = list(df.columns)\n",
    "    col_to_group_by.remove('active_mins')\n",
    "    df = pd.DataFrame(df.groupby(col_to_group_by)['active_mins'].sum())\n",
    "    df.reset_index(inplace = True)\n",
    "    df.drop(columns = ['user_type'], inplace = True)\n",
    "    df['avg_time_per_user'] = df['active_mins']/df['appearences']\n",
    "    if generateFile:\n",
    "        df.to_csv(df+\".csv\", index = False)\n",
    "    return df"
   ]
  },
  {
   "cell_type": "code",
   "execution_count": 734,
   "metadata": {},
   "outputs": [],
   "source": [
    "before_AB_control_base_table = finalizeDataTables(before_AB_control_base_table, col_to_drop, False)\n",
    "before_AB_treatment_base_table = finalizeDataTables(before_AB_treatment_base_table, col_to_drop, False)\n",
    "after_AB_control_base_table = finalizeDataTables(after_AB_control_base_table, col_to_drop, False)\n",
    "after_AB_treatment_base_table = finalizeDataTables(after_AB_treatment_base_table, col_to_drop, False)"
   ]
  },
  {
   "cell_type": "markdown",
   "metadata": {},
   "source": [
    "### Analysis"
   ]
  },
  {
   "cell_type": "code",
   "execution_count": 739,
   "metadata": {},
   "outputs": [
    {
     "data": {
      "text/html": [
       "<div>\n",
       "<style scoped>\n",
       "    .dataframe tbody tr th:only-of-type {\n",
       "        vertical-align: middle;\n",
       "    }\n",
       "\n",
       "    .dataframe tbody tr th {\n",
       "        vertical-align: top;\n",
       "    }\n",
       "\n",
       "    .dataframe thead th {\n",
       "        text-align: right;\n",
       "    }\n",
       "</style>\n",
       "<table border=\"1\" class=\"dataframe\">\n",
       "  <thead>\n",
       "    <tr style=\"text-align: right;\">\n",
       "      <th></th>\n",
       "      <th>uid</th>\n",
       "      <th>variant_number</th>\n",
       "      <th>gender</th>\n",
       "      <th>days_since_signup</th>\n",
       "      <th>contributor</th>\n",
       "      <th>new_user</th>\n",
       "      <th>non_reader</th>\n",
       "      <th>reader</th>\n",
       "      <th>appearences</th>\n",
       "      <th>active_mins</th>\n",
       "      <th>avg_time_per_user</th>\n",
       "    </tr>\n",
       "  </thead>\n",
       "  <tbody>\n",
       "    <tr>\n",
       "      <td>count</td>\n",
       "      <td>31650.000000</td>\n",
       "      <td>31650.0</td>\n",
       "      <td>31650.000000</td>\n",
       "      <td>31650.000000</td>\n",
       "      <td>31650.000000</td>\n",
       "      <td>31650.000000</td>\n",
       "      <td>31650.000000</td>\n",
       "      <td>31650.000000</td>\n",
       "      <td>31650.000000</td>\n",
       "      <td>3.165000e+04</td>\n",
       "      <td>31650.000000</td>\n",
       "    </tr>\n",
       "    <tr>\n",
       "      <td>mean</td>\n",
       "      <td>19973.209036</td>\n",
       "      <td>0.0</td>\n",
       "      <td>0.661959</td>\n",
       "      <td>674.084455</td>\n",
       "      <td>0.025750</td>\n",
       "      <td>0.057567</td>\n",
       "      <td>0.730079</td>\n",
       "      <td>0.186603</td>\n",
       "      <td>26.944518</td>\n",
       "      <td>9.943729e+02</td>\n",
       "      <td>14.243963</td>\n",
       "    </tr>\n",
       "    <tr>\n",
       "      <td>std</td>\n",
       "      <td>11539.191511</td>\n",
       "      <td>0.0</td>\n",
       "      <td>0.473050</td>\n",
       "      <td>628.719814</td>\n",
       "      <td>0.158392</td>\n",
       "      <td>0.232927</td>\n",
       "      <td>0.443926</td>\n",
       "      <td>0.389599</td>\n",
       "      <td>27.652389</td>\n",
       "      <td>1.803092e+04</td>\n",
       "      <td>188.729459</td>\n",
       "    </tr>\n",
       "    <tr>\n",
       "      <td>min</td>\n",
       "      <td>0.000000</td>\n",
       "      <td>0.0</td>\n",
       "      <td>0.000000</td>\n",
       "      <td>2.000000</td>\n",
       "      <td>0.000000</td>\n",
       "      <td>0.000000</td>\n",
       "      <td>0.000000</td>\n",
       "      <td>0.000000</td>\n",
       "      <td>1.000000</td>\n",
       "      <td>1.000000e+00</td>\n",
       "      <td>1.000000</td>\n",
       "    </tr>\n",
       "    <tr>\n",
       "      <td>25%</td>\n",
       "      <td>10011.250000</td>\n",
       "      <td>0.0</td>\n",
       "      <td>0.000000</td>\n",
       "      <td>174.000000</td>\n",
       "      <td>0.000000</td>\n",
       "      <td>0.000000</td>\n",
       "      <td>0.000000</td>\n",
       "      <td>0.000000</td>\n",
       "      <td>7.000000</td>\n",
       "      <td>2.200000e+01</td>\n",
       "      <td>2.666667</td>\n",
       "    </tr>\n",
       "    <tr>\n",
       "      <td>50%</td>\n",
       "      <td>19932.500000</td>\n",
       "      <td>0.0</td>\n",
       "      <td>1.000000</td>\n",
       "      <td>508.000000</td>\n",
       "      <td>0.000000</td>\n",
       "      <td>0.000000</td>\n",
       "      <td>1.000000</td>\n",
       "      <td>0.000000</td>\n",
       "      <td>17.000000</td>\n",
       "      <td>6.400000e+01</td>\n",
       "      <td>4.000000</td>\n",
       "    </tr>\n",
       "    <tr>\n",
       "      <td>75%</td>\n",
       "      <td>29990.750000</td>\n",
       "      <td>0.0</td>\n",
       "      <td>1.000000</td>\n",
       "      <td>999.750000</td>\n",
       "      <td>0.000000</td>\n",
       "      <td>0.000000</td>\n",
       "      <td>1.000000</td>\n",
       "      <td>0.000000</td>\n",
       "      <td>37.000000</td>\n",
       "      <td>2.230000e+02</td>\n",
       "      <td>7.500000</td>\n",
       "    </tr>\n",
       "    <tr>\n",
       "      <td>max</td>\n",
       "      <td>39999.000000</td>\n",
       "      <td>0.0</td>\n",
       "      <td>1.000000</td>\n",
       "      <td>17933.000000</td>\n",
       "      <td>1.000000</td>\n",
       "      <td>1.000000</td>\n",
       "      <td>1.000000</td>\n",
       "      <td>1.000000</td>\n",
       "      <td>133.000000</td>\n",
       "      <td>1.345714e+06</td>\n",
       "      <td>15448.000000</td>\n",
       "    </tr>\n",
       "  </tbody>\n",
       "</table>\n",
       "</div>"
      ],
      "text/plain": [
       "                uid  variant_number        gender  days_since_signup  \\\n",
       "count  31650.000000         31650.0  31650.000000       31650.000000   \n",
       "mean   19973.209036             0.0      0.661959         674.084455   \n",
       "std    11539.191511             0.0      0.473050         628.719814   \n",
       "min        0.000000             0.0      0.000000           2.000000   \n",
       "25%    10011.250000             0.0      0.000000         174.000000   \n",
       "50%    19932.500000             0.0      1.000000         508.000000   \n",
       "75%    29990.750000             0.0      1.000000         999.750000   \n",
       "max    39999.000000             0.0      1.000000       17933.000000   \n",
       "\n",
       "        contributor      new_user    non_reader        reader   appearences  \\\n",
       "count  31650.000000  31650.000000  31650.000000  31650.000000  31650.000000   \n",
       "mean       0.025750      0.057567      0.730079      0.186603     26.944518   \n",
       "std        0.158392      0.232927      0.443926      0.389599     27.652389   \n",
       "min        0.000000      0.000000      0.000000      0.000000      1.000000   \n",
       "25%        0.000000      0.000000      0.000000      0.000000      7.000000   \n",
       "50%        0.000000      0.000000      1.000000      0.000000     17.000000   \n",
       "75%        0.000000      0.000000      1.000000      0.000000     37.000000   \n",
       "max        1.000000      1.000000      1.000000      1.000000    133.000000   \n",
       "\n",
       "        active_mins  avg_time_per_user  \n",
       "count  3.165000e+04       31650.000000  \n",
       "mean   9.943729e+02          14.243963  \n",
       "std    1.803092e+04         188.729459  \n",
       "min    1.000000e+00           1.000000  \n",
       "25%    2.200000e+01           2.666667  \n",
       "50%    6.400000e+01           4.000000  \n",
       "75%    2.230000e+02           7.500000  \n",
       "max    1.345714e+06       15448.000000  "
      ]
     },
     "execution_count": 739,
     "metadata": {},
     "output_type": "execute_result"
    }
   ],
   "source": [
    "before_AB_control_base_table.describe()"
   ]
  },
  {
   "cell_type": "code",
   "execution_count": 740,
   "metadata": {},
   "outputs": [
    {
     "data": {
      "text/html": [
       "<div>\n",
       "<style scoped>\n",
       "    .dataframe tbody tr th:only-of-type {\n",
       "        vertical-align: middle;\n",
       "    }\n",
       "\n",
       "    .dataframe tbody tr th {\n",
       "        vertical-align: top;\n",
       "    }\n",
       "\n",
       "    .dataframe thead th {\n",
       "        text-align: right;\n",
       "    }\n",
       "</style>\n",
       "<table border=\"1\" class=\"dataframe\">\n",
       "  <thead>\n",
       "    <tr style=\"text-align: right;\">\n",
       "      <th></th>\n",
       "      <th>uid</th>\n",
       "      <th>variant_number</th>\n",
       "      <th>gender</th>\n",
       "      <th>days_since_signup</th>\n",
       "      <th>contributor</th>\n",
       "      <th>new_user</th>\n",
       "      <th>non_reader</th>\n",
       "      <th>reader</th>\n",
       "      <th>appearences</th>\n",
       "      <th>active_mins</th>\n",
       "      <th>avg_time_per_user</th>\n",
       "    </tr>\n",
       "  </thead>\n",
       "  <tbody>\n",
       "    <tr>\n",
       "      <td>count</td>\n",
       "      <td>7716.000000</td>\n",
       "      <td>7716.0</td>\n",
       "      <td>7716.000000</td>\n",
       "      <td>7716.000000</td>\n",
       "      <td>7716.000000</td>\n",
       "      <td>7716.000000</td>\n",
       "      <td>7716.000000</td>\n",
       "      <td>7716.000000</td>\n",
       "      <td>7716.000000</td>\n",
       "      <td>7716.000000</td>\n",
       "      <td>7716.000000</td>\n",
       "    </tr>\n",
       "    <tr>\n",
       "      <td>mean</td>\n",
       "      <td>44994.667963</td>\n",
       "      <td>1.0</td>\n",
       "      <td>0.664075</td>\n",
       "      <td>661.974857</td>\n",
       "      <td>0.013997</td>\n",
       "      <td>0.081001</td>\n",
       "      <td>0.764515</td>\n",
       "      <td>0.140487</td>\n",
       "      <td>22.000130</td>\n",
       "      <td>367.234966</td>\n",
       "      <td>8.107847</td>\n",
       "    </tr>\n",
       "    <tr>\n",
       "      <td>std</td>\n",
       "      <td>2888.706413</td>\n",
       "      <td>0.0</td>\n",
       "      <td>0.472344</td>\n",
       "      <td>622.148086</td>\n",
       "      <td>0.117485</td>\n",
       "      <td>0.272854</td>\n",
       "      <td>0.424329</td>\n",
       "      <td>0.347514</td>\n",
       "      <td>23.071837</td>\n",
       "      <td>5248.467476</td>\n",
       "      <td>60.544841</td>\n",
       "    </tr>\n",
       "    <tr>\n",
       "      <td>min</td>\n",
       "      <td>40001.000000</td>\n",
       "      <td>1.0</td>\n",
       "      <td>0.000000</td>\n",
       "      <td>2.000000</td>\n",
       "      <td>0.000000</td>\n",
       "      <td>0.000000</td>\n",
       "      <td>0.000000</td>\n",
       "      <td>0.000000</td>\n",
       "      <td>1.000000</td>\n",
       "      <td>1.000000</td>\n",
       "      <td>1.000000</td>\n",
       "    </tr>\n",
       "    <tr>\n",
       "      <td>25%</td>\n",
       "      <td>42474.750000</td>\n",
       "      <td>1.0</td>\n",
       "      <td>0.000000</td>\n",
       "      <td>154.000000</td>\n",
       "      <td>0.000000</td>\n",
       "      <td>0.000000</td>\n",
       "      <td>1.000000</td>\n",
       "      <td>0.000000</td>\n",
       "      <td>6.000000</td>\n",
       "      <td>19.000000</td>\n",
       "      <td>2.666667</td>\n",
       "    </tr>\n",
       "    <tr>\n",
       "      <td>50%</td>\n",
       "      <td>44997.000000</td>\n",
       "      <td>1.0</td>\n",
       "      <td>1.000000</td>\n",
       "      <td>496.500000</td>\n",
       "      <td>0.000000</td>\n",
       "      <td>0.000000</td>\n",
       "      <td>1.000000</td>\n",
       "      <td>0.000000</td>\n",
       "      <td>14.000000</td>\n",
       "      <td>52.000000</td>\n",
       "      <td>3.936835</td>\n",
       "    </tr>\n",
       "    <tr>\n",
       "      <td>75%</td>\n",
       "      <td>47494.250000</td>\n",
       "      <td>1.0</td>\n",
       "      <td>1.000000</td>\n",
       "      <td>1004.250000</td>\n",
       "      <td>0.000000</td>\n",
       "      <td>0.000000</td>\n",
       "      <td>1.000000</td>\n",
       "      <td>0.000000</td>\n",
       "      <td>29.000000</td>\n",
       "      <td>159.000000</td>\n",
       "      <td>6.800000</td>\n",
       "    </tr>\n",
       "    <tr>\n",
       "      <td>max</td>\n",
       "      <td>49999.000000</td>\n",
       "      <td>1.0</td>\n",
       "      <td>1.000000</td>\n",
       "      <td>3169.000000</td>\n",
       "      <td>1.000000</td>\n",
       "      <td>1.000000</td>\n",
       "      <td>1.000000</td>\n",
       "      <td>1.000000</td>\n",
       "      <td>126.000000</td>\n",
       "      <td>439073.000000</td>\n",
       "      <td>3818.026087</td>\n",
       "    </tr>\n",
       "  </tbody>\n",
       "</table>\n",
       "</div>"
      ],
      "text/plain": [
       "                uid  variant_number       gender  days_since_signup  \\\n",
       "count   7716.000000          7716.0  7716.000000        7716.000000   \n",
       "mean   44994.667963             1.0     0.664075         661.974857   \n",
       "std     2888.706413             0.0     0.472344         622.148086   \n",
       "min    40001.000000             1.0     0.000000           2.000000   \n",
       "25%    42474.750000             1.0     0.000000         154.000000   \n",
       "50%    44997.000000             1.0     1.000000         496.500000   \n",
       "75%    47494.250000             1.0     1.000000        1004.250000   \n",
       "max    49999.000000             1.0     1.000000        3169.000000   \n",
       "\n",
       "       contributor     new_user   non_reader       reader  appearences  \\\n",
       "count  7716.000000  7716.000000  7716.000000  7716.000000  7716.000000   \n",
       "mean      0.013997     0.081001     0.764515     0.140487    22.000130   \n",
       "std       0.117485     0.272854     0.424329     0.347514    23.071837   \n",
       "min       0.000000     0.000000     0.000000     0.000000     1.000000   \n",
       "25%       0.000000     0.000000     1.000000     0.000000     6.000000   \n",
       "50%       0.000000     0.000000     1.000000     0.000000    14.000000   \n",
       "75%       0.000000     0.000000     1.000000     0.000000    29.000000   \n",
       "max       1.000000     1.000000     1.000000     1.000000   126.000000   \n",
       "\n",
       "         active_mins  avg_time_per_user  \n",
       "count    7716.000000        7716.000000  \n",
       "mean      367.234966           8.107847  \n",
       "std      5248.467476          60.544841  \n",
       "min         1.000000           1.000000  \n",
       "25%        19.000000           2.666667  \n",
       "50%        52.000000           3.936835  \n",
       "75%       159.000000           6.800000  \n",
       "max    439073.000000        3818.026087  "
      ]
     },
     "execution_count": 740,
     "metadata": {},
     "output_type": "execute_result"
    }
   ],
   "source": [
    "before_AB_treatment_base_table.describe()"
   ]
  },
  {
   "cell_type": "code",
   "execution_count": 741,
   "metadata": {},
   "outputs": [
    {
     "data": {
      "text/html": [
       "<div>\n",
       "<style scoped>\n",
       "    .dataframe tbody tr th:only-of-type {\n",
       "        vertical-align: middle;\n",
       "    }\n",
       "\n",
       "    .dataframe tbody tr th {\n",
       "        vertical-align: top;\n",
       "    }\n",
       "\n",
       "    .dataframe thead th {\n",
       "        text-align: right;\n",
       "    }\n",
       "</style>\n",
       "<table border=\"1\" class=\"dataframe\">\n",
       "  <thead>\n",
       "    <tr style=\"text-align: right;\">\n",
       "      <th></th>\n",
       "      <th>uid</th>\n",
       "      <th>variant_number</th>\n",
       "      <th>gender</th>\n",
       "      <th>days_since_signup</th>\n",
       "      <th>contributor</th>\n",
       "      <th>new_user</th>\n",
       "      <th>non_reader</th>\n",
       "      <th>reader</th>\n",
       "      <th>appearences</th>\n",
       "      <th>active_mins</th>\n",
       "      <th>avg_time_per_user</th>\n",
       "    </tr>\n",
       "  </thead>\n",
       "  <tbody>\n",
       "    <tr>\n",
       "      <td>count</td>\n",
       "      <td>31650.000000</td>\n",
       "      <td>31650.0</td>\n",
       "      <td>31650.000000</td>\n",
       "      <td>31650.000000</td>\n",
       "      <td>31650.000000</td>\n",
       "      <td>31650.000000</td>\n",
       "      <td>31650.000000</td>\n",
       "      <td>31650.000000</td>\n",
       "      <td>31650.000000</td>\n",
       "      <td>31650.000000</td>\n",
       "      <td>31650.000000</td>\n",
       "    </tr>\n",
       "    <tr>\n",
       "      <td>mean</td>\n",
       "      <td>19973.209036</td>\n",
       "      <td>0.0</td>\n",
       "      <td>0.661959</td>\n",
       "      <td>674.084455</td>\n",
       "      <td>0.025750</td>\n",
       "      <td>0.057567</td>\n",
       "      <td>0.730079</td>\n",
       "      <td>0.186603</td>\n",
       "      <td>24.444265</td>\n",
       "      <td>854.845118</td>\n",
       "      <td>12.947365</td>\n",
       "    </tr>\n",
       "    <tr>\n",
       "      <td>std</td>\n",
       "      <td>11539.191511</td>\n",
       "      <td>0.0</td>\n",
       "      <td>0.473050</td>\n",
       "      <td>628.719814</td>\n",
       "      <td>0.158392</td>\n",
       "      <td>0.232927</td>\n",
       "      <td>0.443926</td>\n",
       "      <td>0.389599</td>\n",
       "      <td>24.636011</td>\n",
       "      <td>14210.400413</td>\n",
       "      <td>151.027873</td>\n",
       "    </tr>\n",
       "    <tr>\n",
       "      <td>min</td>\n",
       "      <td>0.000000</td>\n",
       "      <td>0.0</td>\n",
       "      <td>0.000000</td>\n",
       "      <td>2.000000</td>\n",
       "      <td>0.000000</td>\n",
       "      <td>0.000000</td>\n",
       "      <td>0.000000</td>\n",
       "      <td>0.000000</td>\n",
       "      <td>1.000000</td>\n",
       "      <td>1.000000</td>\n",
       "      <td>1.000000</td>\n",
       "    </tr>\n",
       "    <tr>\n",
       "      <td>25%</td>\n",
       "      <td>10011.250000</td>\n",
       "      <td>0.0</td>\n",
       "      <td>0.000000</td>\n",
       "      <td>174.000000</td>\n",
       "      <td>0.000000</td>\n",
       "      <td>0.000000</td>\n",
       "      <td>0.000000</td>\n",
       "      <td>0.000000</td>\n",
       "      <td>6.000000</td>\n",
       "      <td>17.000000</td>\n",
       "      <td>2.500000</td>\n",
       "    </tr>\n",
       "    <tr>\n",
       "      <td>50%</td>\n",
       "      <td>19932.500000</td>\n",
       "      <td>0.0</td>\n",
       "      <td>1.000000</td>\n",
       "      <td>508.000000</td>\n",
       "      <td>0.000000</td>\n",
       "      <td>0.000000</td>\n",
       "      <td>1.000000</td>\n",
       "      <td>0.000000</td>\n",
       "      <td>15.000000</td>\n",
       "      <td>55.000000</td>\n",
       "      <td>3.758940</td>\n",
       "    </tr>\n",
       "    <tr>\n",
       "      <td>75%</td>\n",
       "      <td>29990.750000</td>\n",
       "      <td>0.0</td>\n",
       "      <td>1.000000</td>\n",
       "      <td>999.750000</td>\n",
       "      <td>0.000000</td>\n",
       "      <td>0.000000</td>\n",
       "      <td>1.000000</td>\n",
       "      <td>0.000000</td>\n",
       "      <td>35.000000</td>\n",
       "      <td>205.000000</td>\n",
       "      <td>7.101531</td>\n",
       "    </tr>\n",
       "    <tr>\n",
       "      <td>max</td>\n",
       "      <td>39999.000000</td>\n",
       "      <td>0.0</td>\n",
       "      <td>1.000000</td>\n",
       "      <td>17933.000000</td>\n",
       "      <td>1.000000</td>\n",
       "      <td>1.000000</td>\n",
       "      <td>1.000000</td>\n",
       "      <td>1.000000</td>\n",
       "      <td>110.000000</td>\n",
       "      <td>937182.000000</td>\n",
       "      <td>10250.846154</td>\n",
       "    </tr>\n",
       "  </tbody>\n",
       "</table>\n",
       "</div>"
      ],
      "text/plain": [
       "                uid  variant_number        gender  days_since_signup  \\\n",
       "count  31650.000000         31650.0  31650.000000       31650.000000   \n",
       "mean   19973.209036             0.0      0.661959         674.084455   \n",
       "std    11539.191511             0.0      0.473050         628.719814   \n",
       "min        0.000000             0.0      0.000000           2.000000   \n",
       "25%    10011.250000             0.0      0.000000         174.000000   \n",
       "50%    19932.500000             0.0      1.000000         508.000000   \n",
       "75%    29990.750000             0.0      1.000000         999.750000   \n",
       "max    39999.000000             0.0      1.000000       17933.000000   \n",
       "\n",
       "        contributor      new_user    non_reader        reader   appearences  \\\n",
       "count  31650.000000  31650.000000  31650.000000  31650.000000  31650.000000   \n",
       "mean       0.025750      0.057567      0.730079      0.186603     24.444265   \n",
       "std        0.158392      0.232927      0.443926      0.389599     24.636011   \n",
       "min        0.000000      0.000000      0.000000      0.000000      1.000000   \n",
       "25%        0.000000      0.000000      0.000000      0.000000      6.000000   \n",
       "50%        0.000000      0.000000      1.000000      0.000000     15.000000   \n",
       "75%        0.000000      0.000000      1.000000      0.000000     35.000000   \n",
       "max        1.000000      1.000000      1.000000      1.000000    110.000000   \n",
       "\n",
       "         active_mins  avg_time_per_user  \n",
       "count   31650.000000       31650.000000  \n",
       "mean      854.845118          12.947365  \n",
       "std     14210.400413         151.027873  \n",
       "min         1.000000           1.000000  \n",
       "25%        17.000000           2.500000  \n",
       "50%        55.000000           3.758940  \n",
       "75%       205.000000           7.101531  \n",
       "max    937182.000000       10250.846154  "
      ]
     },
     "execution_count": 741,
     "metadata": {},
     "output_type": "execute_result"
    }
   ],
   "source": [
    "after_AB_control_base_table.describe()"
   ]
  },
  {
   "cell_type": "code",
   "execution_count": 742,
   "metadata": {},
   "outputs": [
    {
     "data": {
      "text/html": [
       "<div>\n",
       "<style scoped>\n",
       "    .dataframe tbody tr th:only-of-type {\n",
       "        vertical-align: middle;\n",
       "    }\n",
       "\n",
       "    .dataframe tbody tr th {\n",
       "        vertical-align: top;\n",
       "    }\n",
       "\n",
       "    .dataframe thead th {\n",
       "        text-align: right;\n",
       "    }\n",
       "</style>\n",
       "<table border=\"1\" class=\"dataframe\">\n",
       "  <thead>\n",
       "    <tr style=\"text-align: right;\">\n",
       "      <th></th>\n",
       "      <th>uid</th>\n",
       "      <th>variant_number</th>\n",
       "      <th>gender</th>\n",
       "      <th>days_since_signup</th>\n",
       "      <th>contributor</th>\n",
       "      <th>new_user</th>\n",
       "      <th>non_reader</th>\n",
       "      <th>reader</th>\n",
       "      <th>appearences</th>\n",
       "      <th>active_mins</th>\n",
       "      <th>avg_time_per_user</th>\n",
       "    </tr>\n",
       "  </thead>\n",
       "  <tbody>\n",
       "    <tr>\n",
       "      <td>count</td>\n",
       "      <td>7716.000000</td>\n",
       "      <td>7716.0</td>\n",
       "      <td>7716.000000</td>\n",
       "      <td>7716.000000</td>\n",
       "      <td>7716.000000</td>\n",
       "      <td>7716.000000</td>\n",
       "      <td>7716.000000</td>\n",
       "      <td>7716.000000</td>\n",
       "      <td>7716.000000</td>\n",
       "      <td>7716.000000</td>\n",
       "      <td>7716.000000</td>\n",
       "    </tr>\n",
       "    <tr>\n",
       "      <td>mean</td>\n",
       "      <td>44994.667963</td>\n",
       "      <td>1.0</td>\n",
       "      <td>0.664075</td>\n",
       "      <td>661.974857</td>\n",
       "      <td>0.013997</td>\n",
       "      <td>0.081001</td>\n",
       "      <td>0.764515</td>\n",
       "      <td>0.140487</td>\n",
       "      <td>19.955029</td>\n",
       "      <td>811.369362</td>\n",
       "      <td>15.835082</td>\n",
       "    </tr>\n",
       "    <tr>\n",
       "      <td>std</td>\n",
       "      <td>2888.706413</td>\n",
       "      <td>0.0</td>\n",
       "      <td>0.472344</td>\n",
       "      <td>622.148086</td>\n",
       "      <td>0.117485</td>\n",
       "      <td>0.272854</td>\n",
       "      <td>0.424329</td>\n",
       "      <td>0.347514</td>\n",
       "      <td>20.611335</td>\n",
       "      <td>10698.794860</td>\n",
       "      <td>119.248676</td>\n",
       "    </tr>\n",
       "    <tr>\n",
       "      <td>min</td>\n",
       "      <td>40001.000000</td>\n",
       "      <td>1.0</td>\n",
       "      <td>0.000000</td>\n",
       "      <td>2.000000</td>\n",
       "      <td>0.000000</td>\n",
       "      <td>0.000000</td>\n",
       "      <td>0.000000</td>\n",
       "      <td>0.000000</td>\n",
       "      <td>1.000000</td>\n",
       "      <td>1.000000</td>\n",
       "      <td>1.000000</td>\n",
       "    </tr>\n",
       "    <tr>\n",
       "      <td>25%</td>\n",
       "      <td>42474.750000</td>\n",
       "      <td>1.0</td>\n",
       "      <td>0.000000</td>\n",
       "      <td>154.000000</td>\n",
       "      <td>0.000000</td>\n",
       "      <td>0.000000</td>\n",
       "      <td>1.000000</td>\n",
       "      <td>0.000000</td>\n",
       "      <td>5.000000</td>\n",
       "      <td>24.000000</td>\n",
       "      <td>3.908381</td>\n",
       "    </tr>\n",
       "    <tr>\n",
       "      <td>50%</td>\n",
       "      <td>44997.000000</td>\n",
       "      <td>1.0</td>\n",
       "      <td>1.000000</td>\n",
       "      <td>496.500000</td>\n",
       "      <td>0.000000</td>\n",
       "      <td>0.000000</td>\n",
       "      <td>1.000000</td>\n",
       "      <td>0.000000</td>\n",
       "      <td>12.000000</td>\n",
       "      <td>73.000000</td>\n",
       "      <td>6.000000</td>\n",
       "    </tr>\n",
       "    <tr>\n",
       "      <td>75%</td>\n",
       "      <td>47494.250000</td>\n",
       "      <td>1.0</td>\n",
       "      <td>1.000000</td>\n",
       "      <td>1004.250000</td>\n",
       "      <td>0.000000</td>\n",
       "      <td>0.000000</td>\n",
       "      <td>1.000000</td>\n",
       "      <td>0.000000</td>\n",
       "      <td>27.000000</td>\n",
       "      <td>237.000000</td>\n",
       "      <td>10.784325</td>\n",
       "    </tr>\n",
       "    <tr>\n",
       "      <td>max</td>\n",
       "      <td>49999.000000</td>\n",
       "      <td>1.0</td>\n",
       "      <td>1.000000</td>\n",
       "      <td>3169.000000</td>\n",
       "      <td>1.000000</td>\n",
       "      <td>1.000000</td>\n",
       "      <td>1.000000</td>\n",
       "      <td>1.000000</td>\n",
       "      <td>107.000000</td>\n",
       "      <td>646736.000000</td>\n",
       "      <td>6044.261682</td>\n",
       "    </tr>\n",
       "  </tbody>\n",
       "</table>\n",
       "</div>"
      ],
      "text/plain": [
       "                uid  variant_number       gender  days_since_signup  \\\n",
       "count   7716.000000          7716.0  7716.000000        7716.000000   \n",
       "mean   44994.667963             1.0     0.664075         661.974857   \n",
       "std     2888.706413             0.0     0.472344         622.148086   \n",
       "min    40001.000000             1.0     0.000000           2.000000   \n",
       "25%    42474.750000             1.0     0.000000         154.000000   \n",
       "50%    44997.000000             1.0     1.000000         496.500000   \n",
       "75%    47494.250000             1.0     1.000000        1004.250000   \n",
       "max    49999.000000             1.0     1.000000        3169.000000   \n",
       "\n",
       "       contributor     new_user   non_reader       reader  appearences  \\\n",
       "count  7716.000000  7716.000000  7716.000000  7716.000000  7716.000000   \n",
       "mean      0.013997     0.081001     0.764515     0.140487    19.955029   \n",
       "std       0.117485     0.272854     0.424329     0.347514    20.611335   \n",
       "min       0.000000     0.000000     0.000000     0.000000     1.000000   \n",
       "25%       0.000000     0.000000     1.000000     0.000000     5.000000   \n",
       "50%       0.000000     0.000000     1.000000     0.000000    12.000000   \n",
       "75%       0.000000     0.000000     1.000000     0.000000    27.000000   \n",
       "max       1.000000     1.000000     1.000000     1.000000   107.000000   \n",
       "\n",
       "         active_mins  avg_time_per_user  \n",
       "count    7716.000000        7716.000000  \n",
       "mean      811.369362          15.835082  \n",
       "std     10698.794860         119.248676  \n",
       "min         1.000000           1.000000  \n",
       "25%        24.000000           3.908381  \n",
       "50%        73.000000           6.000000  \n",
       "75%       237.000000          10.784325  \n",
       "max    646736.000000        6044.261682  "
      ]
     },
     "execution_count": 742,
     "metadata": {},
     "output_type": "execute_result"
    }
   ],
   "source": [
    "after_AB_treatment_base_table.describe()"
   ]
  },
  {
   "cell_type": "code",
   "execution_count": 760,
   "metadata": {},
   "outputs": [
    {
     "data": {
      "text/html": [
       "<table class=\"simpletable\">\n",
       "<caption>OLS Regression Results</caption>\n",
       "<tr>\n",
       "  <th>Dep. Variable:</th>       <td>active_mins</td>   <th>  R-squared (uncentered):</th>       <td>   0.836</td>  \n",
       "</tr>\n",
       "<tr>\n",
       "  <th>Model:</th>                   <td>OLS</td>       <th>  Adj. R-squared (uncentered):</th>  <td>   0.836</td>  \n",
       "</tr>\n",
       "<tr>\n",
       "  <th>Method:</th>             <td>Least Squares</td>  <th>  F-statistic:       </th>           <td>4.300e+04</td> \n",
       "</tr>\n",
       "<tr>\n",
       "  <th>Date:</th>             <td>Tue, 15 Sep 2020</td> <th>  Prob (F-statistic):</th>            <td>  0.00</td>   \n",
       "</tr>\n",
       "<tr>\n",
       "  <th>Time:</th>                 <td>23:02:48</td>     <th>  Log-Likelihood:    </th>          <td>-2.6262e+05</td>\n",
       "</tr>\n",
       "<tr>\n",
       "  <th>No. Observations:</th>      <td> 25320</td>      <th>  AIC:               </th>           <td>5.252e+05</td> \n",
       "</tr>\n",
       "<tr>\n",
       "  <th>Df Residuals:</th>          <td> 25317</td>      <th>  BIC:               </th>           <td>5.253e+05</td> \n",
       "</tr>\n",
       "<tr>\n",
       "  <th>Df Model:</th>              <td>     3</td>      <th>                     </th>               <td> </td>     \n",
       "</tr>\n",
       "<tr>\n",
       "  <th>Covariance Type:</th>      <td>nonrobust</td>    <th>                     </th>               <td> </td>     \n",
       "</tr>\n",
       "</table>\n",
       "<table class=\"simpletable\">\n",
       "<tr>\n",
       "          <td></td>             <th>coef</th>     <th>std err</th>      <th>t</th>      <th>P>|t|</th>  <th>[0.025</th>    <th>0.975]</th>  \n",
       "</tr>\n",
       "<tr>\n",
       "  <th>appearences</th>       <td>   12.8635</td> <td>    1.724</td> <td>    7.461</td> <td> 0.000</td> <td>    9.484</td> <td>   16.243</td>\n",
       "</tr>\n",
       "<tr>\n",
       "  <th>avg_time_per_user</th> <td>   86.4038</td> <td>    0.243</td> <td>  355.210</td> <td> 0.000</td> <td>   85.927</td> <td>   86.881</td>\n",
       "</tr>\n",
       "<tr>\n",
       "  <th>days_since_signup</th> <td>   -0.3860</td> <td>    0.072</td> <td>   -5.377</td> <td> 0.000</td> <td>   -0.527</td> <td>   -0.245</td>\n",
       "</tr>\n",
       "</table>\n",
       "<table class=\"simpletable\">\n",
       "<tr>\n",
       "  <th>Omnibus:</th>       <td>79623.532</td> <th>  Durbin-Watson:     </th>    <td>   1.996</td>    \n",
       "</tr>\n",
       "<tr>\n",
       "  <th>Prob(Omnibus):</th>  <td> 0.000</td>   <th>  Jarque-Bera (JB):  </th> <td>39615108414.168</td>\n",
       "</tr>\n",
       "<tr>\n",
       "  <th>Skew:</th>           <td>-49.170</td>  <th>  Prob(JB):          </th>    <td>    0.00</td>    \n",
       "</tr>\n",
       "<tr>\n",
       "  <th>Kurtosis:</th>      <td>6130.005</td>  <th>  Cond. No.          </th>    <td>    32.7</td>    \n",
       "</tr>\n",
       "</table><br/><br/>Warnings:<br/>[1] Standard Errors assume that the covariance matrix of the errors is correctly specified."
      ],
      "text/plain": [
       "<class 'statsmodels.iolib.summary.Summary'>\n",
       "\"\"\"\n",
       "                                 OLS Regression Results                                \n",
       "=======================================================================================\n",
       "Dep. Variable:            active_mins   R-squared (uncentered):                   0.836\n",
       "Model:                            OLS   Adj. R-squared (uncentered):              0.836\n",
       "Method:                 Least Squares   F-statistic:                          4.300e+04\n",
       "Date:                Tue, 15 Sep 2020   Prob (F-statistic):                        0.00\n",
       "Time:                        23:02:48   Log-Likelihood:                     -2.6262e+05\n",
       "No. Observations:               25320   AIC:                                  5.252e+05\n",
       "Df Residuals:                   25317   BIC:                                  5.253e+05\n",
       "Df Model:                           3                                                  \n",
       "Covariance Type:            nonrobust                                                  \n",
       "=====================================================================================\n",
       "                        coef    std err          t      P>|t|      [0.025      0.975]\n",
       "-------------------------------------------------------------------------------------\n",
       "appearences          12.8635      1.724      7.461      0.000       9.484      16.243\n",
       "avg_time_per_user    86.4038      0.243    355.210      0.000      85.927      86.881\n",
       "days_since_signup    -0.3860      0.072     -5.377      0.000      -0.527      -0.245\n",
       "==============================================================================\n",
       "Omnibus:                    79623.532   Durbin-Watson:                   1.996\n",
       "Prob(Omnibus):                  0.000   Jarque-Bera (JB):      39615108414.168\n",
       "Skew:                         -49.170   Prob(JB):                         0.00\n",
       "Kurtosis:                    6130.005   Cond. No.                         32.7\n",
       "==============================================================================\n",
       "\n",
       "Warnings:\n",
       "[1] Standard Errors assume that the covariance matrix of the errors is correctly specified.\n",
       "\"\"\""
      ]
     },
     "execution_count": 760,
     "metadata": {},
     "output_type": "execute_result"
    }
   ],
   "source": [
    "X = before_AB_control_base_table[before_AB_control_base_table.columns.difference(['active_mins', 'uid', 'variant_number','reader',\n",
    "                                                                                  'non_reader', 'contributor', 'gender', 'new_user'])]\n",
    "y = before_AB_control_base_table.loc[:,'active_mins']\n",
    "\n",
    "X_train, X_test, y_train, y_test = train_test_split(X, y, test_size=0.20, random_state=42)\n",
    "\n",
    "# Note the difference in argument order\n",
    "model = sm.OLS(y_train, X_train).fit()\n",
    "predictions = model.predict(X_test) # make the predictions by the model\n",
    "p_value_dict = dict(model.pvalues)\n",
    "\n",
    "# Print out the statistics\n",
    "model.summary()"
   ]
  },
  {
   "cell_type": "markdown",
   "metadata": {},
   "source": [
    "### Performing the t-test"
   ]
  },
  {
   "cell_type": "code",
   "execution_count": 771,
   "metadata": {},
   "outputs": [
    {
     "data": {
      "text/plain": [
       "Ttest_indResult(statistic=-1.5648337128636616, pvalue=0.1176299431340109)"
      ]
     },
     "execution_count": 771,
     "metadata": {},
     "output_type": "execute_result"
    }
   ],
   "source": [
    "import scipy.stats as stats\n",
    "\n",
    "#perform two sample t-test with equal variances\n",
    "stats.ttest_ind(a=np.array(after_AB_control_base_table['avg_time_per_user']),\n",
    "                b=np.array(after_AB_treatment_base_table['avg_time_per_user']), equal_var=True)"
   ]
  },
  {
   "cell_type": "code",
   "execution_count": 763,
   "metadata": {},
   "outputs": [
    {
     "data": {
      "text/plain": [
       "F_onewayResult(statistic=2.4487045489146726, pvalue=0.11762994313245233)"
      ]
     },
     "execution_count": 763,
     "metadata": {},
     "output_type": "execute_result"
    }
   ],
   "source": [
    "import scipy.stats as stats\n",
    "\n",
    "stats.f_oneway(after_AB_control_base_table['avg_time_per_user'],\n",
    "               after_AB_treatment_base_table['avg_time_per_user'])"
   ]
  }
 ],
 "metadata": {
  "kernelspec": {
   "display_name": "Python 3",
   "language": "python",
   "name": "python3"
  },
  "language_info": {
   "codemirror_mode": {
    "name": "ipython",
    "version": 3
   },
   "file_extension": ".py",
   "mimetype": "text/x-python",
   "name": "python",
   "nbconvert_exporter": "python",
   "pygments_lexer": "ipython3",
   "version": "3.7.4"
  }
 },
 "nbformat": 4,
 "nbformat_minor": 4
}
