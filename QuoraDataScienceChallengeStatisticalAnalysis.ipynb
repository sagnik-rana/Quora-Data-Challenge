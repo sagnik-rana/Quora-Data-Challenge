{
 "cells": [
  {
   "cell_type": "code",
   "execution_count": 2,
   "metadata": {},
   "outputs": [],
   "source": [
    "# importing the necessary modules\n",
    "\n",
    "import math\n",
    "import warnings\n",
    "import numpy as np\n",
    "import pandas as pd\n",
    "import seaborn as sns\n",
    "import plotly.express as px\n",
    "import matplotlib.pyplot as plt\n",
    "\n",
    "from sklearn.model_selection import KFold\n",
    "from sklearn.metrics import mean_squared_log_error\n",
    "from sklearn.linear_model import Ridge, RidgeCV, LassoCV, ElasticNet\n",
    "\n",
    "\n",
    "plt.style.use('seaborn')\n",
    "warnings.filterwarnings(\"ignore\")\n",
    "pd.options.display.max_seq_items = 2000\n",
    "pd.set_option('display.max_columns', 10000)\\"
   ]
  },
  {
   "cell_type": "code",
   "execution_count": 3,
   "metadata": {},
   "outputs": [],
   "source": [
    "# reading the data sets\n",
    "t1_user_active_min     = pd.read_csv(\"t1_user_active_min.csv\")\n",
    "t2_user_variant        = pd.read_csv(\"t2_user_variant.csv\")\n",
    "t3_user_active_min_pre = pd.read_csv(\"t3_user_active_min_pre.csv\")\n",
    "t4_user_attributes     = pd.read_csv(\"t4_user_attributes.csv\")\n",
    "df_list = [t1_user_active_min,t2_user_variant,t3_user_active_min_pre,t4_user_attributes]"
   ]
  },
  {
   "cell_type": "code",
   "execution_count": null,
   "metadata": {},
   "outputs": [],
   "source": []
  }
 ],
 "metadata": {
  "kernelspec": {
   "display_name": "Python 3",
   "language": "python",
   "name": "python3"
  },
  "language_info": {
   "codemirror_mode": {
    "name": "ipython",
    "version": 3
   },
   "file_extension": ".py",
   "mimetype": "text/x-python",
   "name": "python",
   "nbconvert_exporter": "python",
   "pygments_lexer": "ipython3",
   "version": "3.7.3"
  }
 },
 "nbformat": 4,
 "nbformat_minor": 2
}
